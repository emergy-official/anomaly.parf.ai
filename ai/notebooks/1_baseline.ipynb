{
 "cells": [
  {
   "cell_type": "markdown",
   "metadata": {},
   "source": [
    "# Baseline Model For Anomaly Detection"
   ]
  },
  {
   "cell_type": "markdown",
   "metadata": {},
   "source": [
    "# Summary\n",
    "\n",
    "- Introduction\n",
    "- Before running the notebook\n",
    "- Model creation\n",
    "- Bonus: Edge Impulse conversion"
   ]
  },
  {
   "cell_type": "markdown",
   "metadata": {},
   "source": [
    "## Introduction"
   ]
  },
  {
   "cell_type": "markdown",
   "metadata": {},
   "source": [
    "The baseline model to have a starting point at improving a model for anomaly detection.  \n",
    "\n",
    "This is a deep learning model pre-trained on Mobilenet.  \n",
    "The model is modified to have a fully connected layer with 128 units using the ReLU activation.  \n",
    "Then The last layer is a softmax with 2 output units to have more elasticity on building a baseline model with more than two classes (specific anomalies)"
   ]
  },
  {
   "cell_type": "markdown",
   "metadata": {},
   "source": [
    "## Before running the notebook"
   ]
  },
  {
   "cell_type": "markdown",
   "metadata": {},
   "source": [
    "Let's prepare the environement before running the notebook.  \n",
    "\n",
    "1. Do you have the datasets ? Download it [here](https://drive.google.com/file/d/19VM3RtzVFyDZ4s0HKJ8eVMnijAKEJdRJ/view?usp=drive_link) and extract it in the `notebooks` folder\n",
    "\n",
    "2. Run the following command in the terminal from the **`ai`** folder.\n",
    "\n",
    "```sh\n",
    "conda create -p envs/1_baseline python=3.11.7 -y\n",
    "conda activate envs/1_baseline\n",
    "\n",
    "pip install -r requirements/1_baseline.txt\n",
    "```"
   ]
  },
  {
   "cell_type": "markdown",
   "metadata": {},
   "source": [
    "## Model creation"
   ]
  },
  {
   "cell_type": "code",
   "execution_count": 1,
   "metadata": {},
   "outputs": [],
   "source": [
    "import sys  # Import the sys module, required to access system-specific parameters and functions  \n",
    "sys.path.append('../code/')  # Add the '../code/' directory to the path that Python looks in for files to import  \n",
    "  \n",
    "from baseline import *  # Import all contents of the baseline module"
   ]
  },
  {
   "cell_type": "code",
   "execution_count": 2,
   "metadata": {},
   "outputs": [],
   "source": [
    "# Dictionary configuration for storing various settings  \n",
    "cfg = {  \n",
    "    \"seed\": 42,  # Seed for random number generators to ensure reproducibility  \n",
    "    \"dataset_path\": \"datasets\",  # Base path where datasets are stored  \n",
    "    \"output_path\": \"../output\",  # Path where output files will be saved  \n",
    "    \"subdataset\": \"cookies_3\",  # Subdirectory specific to a dataset variant\n",
    "}  "
   ]
  },
  {
   "cell_type": "code",
   "execution_count": 3,
   "metadata": {},
   "outputs": [
    {
     "name": "stdout",
     "output_type": "stream",
     "text": [
      "Found 144 validated image filenames belonging to 2 classes.\n",
      "Found 16 validated image filenames belonging to 2 classes.\n",
      "Found 40 validated image filenames belonging to 2 classes.\n",
      "Found 200 validated image filenames belonging to 2 classes.\n",
      "Found 100 validated image filenames belonging to 1 classes.\n",
      "Found 50 validated image filenames belonging to 1 classes.\n",
      "Found 25 validated image filenames belonging to 1 classes.\n",
      "Found 25 validated image filenames belonging to 1 classes.\n",
      "Epoch 1/50\n",
      "5/5 [==============================] - 2s 256ms/step - loss: 0.5048 - accuracy: 0.7778 - val_loss: 0.5941 - val_accuracy: 0.8125\n",
      "Epoch 2/50\n",
      "5/5 [==============================] - 1s 167ms/step - loss: 0.5031 - accuracy: 0.8056 - val_loss: 0.5804 - val_accuracy: 0.8125\n",
      "Epoch 3/50\n",
      "5/5 [==============================] - 1s 200ms/step - loss: 0.4877 - accuracy: 0.8056 - val_loss: 0.5691 - val_accuracy: 0.8125\n",
      "Epoch 4/50\n",
      "5/5 [==============================] - 1s 179ms/step - loss: 0.4635 - accuracy: 0.8333 - val_loss: 0.5588 - val_accuracy: 0.8125\n",
      "Epoch 5/50\n",
      "5/5 [==============================] - 1s 218ms/step - loss: 0.4595 - accuracy: 0.8403 - val_loss: 0.5499 - val_accuracy: 0.8125\n",
      "Epoch 6/50\n",
      "5/5 [==============================] - 1s 206ms/step - loss: 0.4605 - accuracy: 0.8611 - val_loss: 0.5410 - val_accuracy: 0.8125\n",
      "Epoch 7/50\n",
      "5/5 [==============================] - 1s 180ms/step - loss: 0.4496 - accuracy: 0.8611 - val_loss: 0.5326 - val_accuracy: 0.8125\n",
      "Epoch 8/50\n",
      "5/5 [==============================] - 1s 178ms/step - loss: 0.4362 - accuracy: 0.8681 - val_loss: 0.5237 - val_accuracy: 0.8125\n",
      "Epoch 9/50\n",
      "5/5 [==============================] - 1s 176ms/step - loss: 0.4263 - accuracy: 0.8681 - val_loss: 0.5154 - val_accuracy: 0.8125\n",
      "Epoch 10/50\n",
      "5/5 [==============================] - 1s 177ms/step - loss: 0.4035 - accuracy: 0.8819 - val_loss: 0.5084 - val_accuracy: 0.8125\n",
      "Epoch 11/50\n",
      "5/5 [==============================] - 1s 207ms/step - loss: 0.3888 - accuracy: 0.8750 - val_loss: 0.5013 - val_accuracy: 0.8125\n",
      "Epoch 12/50\n",
      "5/5 [==============================] - 1s 174ms/step - loss: 0.3965 - accuracy: 0.8750 - val_loss: 0.4950 - val_accuracy: 0.8125\n",
      "Epoch 13/50\n",
      "5/5 [==============================] - 1s 173ms/step - loss: 0.3897 - accuracy: 0.8681 - val_loss: 0.4897 - val_accuracy: 0.8125\n",
      "Epoch 14/50\n",
      "5/5 [==============================] - 1s 174ms/step - loss: 0.3706 - accuracy: 0.8750 - val_loss: 0.4857 - val_accuracy: 0.8125\n",
      "Epoch 15/50\n",
      "5/5 [==============================] - 1s 172ms/step - loss: 0.3818 - accuracy: 0.8750 - val_loss: 0.4808 - val_accuracy: 0.8125\n",
      "Epoch 16/50\n",
      "5/5 [==============================] - 1s 214ms/step - loss: 0.3719 - accuracy: 0.8681 - val_loss: 0.4767 - val_accuracy: 0.8125\n",
      "Epoch 17/50\n",
      "5/5 [==============================] - 1s 183ms/step - loss: 0.3722 - accuracy: 0.8750 - val_loss: 0.4729 - val_accuracy: 0.8125\n",
      "Epoch 18/50\n",
      "5/5 [==============================] - 1s 173ms/step - loss: 0.3631 - accuracy: 0.8750 - val_loss: 0.4689 - val_accuracy: 0.8125\n",
      "Epoch 19/50\n",
      "5/5 [==============================] - 1s 189ms/step - loss: 0.3542 - accuracy: 0.8681 - val_loss: 0.4654 - val_accuracy: 0.8125\n",
      "Epoch 20/50\n",
      "5/5 [==============================] - 1s 176ms/step - loss: 0.3397 - accuracy: 0.8750 - val_loss: 0.4618 - val_accuracy: 0.8125\n",
      "Epoch 21/50\n",
      "5/5 [==============================] - 1s 170ms/step - loss: 0.3578 - accuracy: 0.8750 - val_loss: 0.4592 - val_accuracy: 0.8125\n",
      "Epoch 22/50\n",
      "5/5 [==============================] - 1s 178ms/step - loss: 0.3373 - accuracy: 0.8819 - val_loss: 0.4569 - val_accuracy: 0.8125\n",
      "Epoch 23/50\n",
      "5/5 [==============================] - 1s 182ms/step - loss: 0.3535 - accuracy: 0.8750 - val_loss: 0.4554 - val_accuracy: 0.8125\n",
      "Epoch 24/50\n",
      "5/5 [==============================] - 1s 173ms/step - loss: 0.3439 - accuracy: 0.8819 - val_loss: 0.4538 - val_accuracy: 0.8125\n",
      "Epoch 25/50\n",
      "5/5 [==============================] - 1s 175ms/step - loss: 0.3304 - accuracy: 0.8750 - val_loss: 0.4509 - val_accuracy: 0.8125\n",
      "Epoch 26/50\n",
      "5/5 [==============================] - 1s 178ms/step - loss: 0.3394 - accuracy: 0.8750 - val_loss: 0.4482 - val_accuracy: 0.8125\n",
      "Epoch 27/50\n",
      "5/5 [==============================] - 1s 182ms/step - loss: 0.3127 - accuracy: 0.8819 - val_loss: 0.4459 - val_accuracy: 0.8125\n",
      "Epoch 28/50\n",
      "5/5 [==============================] - 1s 191ms/step - loss: 0.3277 - accuracy: 0.8750 - val_loss: 0.4439 - val_accuracy: 0.8125\n",
      "Epoch 29/50\n",
      "5/5 [==============================] - 1s 181ms/step - loss: 0.3290 - accuracy: 0.8750 - val_loss: 0.4422 - val_accuracy: 0.8125\n",
      "Epoch 30/50\n",
      "5/5 [==============================] - 1s 177ms/step - loss: 0.3294 - accuracy: 0.8819 - val_loss: 0.4393 - val_accuracy: 0.8125\n",
      "Epoch 31/50\n",
      "5/5 [==============================] - 1s 173ms/step - loss: 0.3207 - accuracy: 0.8819 - val_loss: 0.4375 - val_accuracy: 0.8125\n",
      "Epoch 32/50\n",
      "5/5 [==============================] - 1s 173ms/step - loss: 0.3115 - accuracy: 0.8750 - val_loss: 0.4350 - val_accuracy: 0.8125\n",
      "Epoch 33/50\n",
      "5/5 [==============================] - 1s 176ms/step - loss: 0.3139 - accuracy: 0.8681 - val_loss: 0.4327 - val_accuracy: 0.8125\n",
      "Epoch 34/50\n",
      "5/5 [==============================] - 1s 182ms/step - loss: 0.3163 - accuracy: 0.8819 - val_loss: 0.4310 - val_accuracy: 0.8125\n",
      "Epoch 35/50\n",
      "5/5 [==============================] - 1s 211ms/step - loss: 0.3066 - accuracy: 0.8889 - val_loss: 0.4283 - val_accuracy: 0.8125\n",
      "Epoch 36/50\n",
      "5/5 [==============================] - 1s 173ms/step - loss: 0.2990 - accuracy: 0.8889 - val_loss: 0.4267 - val_accuracy: 0.8125\n",
      "Epoch 37/50\n",
      "5/5 [==============================] - 1s 173ms/step - loss: 0.2964 - accuracy: 0.8819 - val_loss: 0.4246 - val_accuracy: 0.8125\n",
      "Epoch 38/50\n",
      "5/5 [==============================] - 1s 187ms/step - loss: 0.3011 - accuracy: 0.8889 - val_loss: 0.4230 - val_accuracy: 0.8125\n",
      "Epoch 39/50\n",
      "5/5 [==============================] - 1s 176ms/step - loss: 0.2958 - accuracy: 0.8889 - val_loss: 0.4214 - val_accuracy: 0.8125\n",
      "Epoch 40/50\n",
      "5/5 [==============================] - 1s 190ms/step - loss: 0.3004 - accuracy: 0.8819 - val_loss: 0.4190 - val_accuracy: 0.8125\n",
      "Epoch 41/50\n",
      "5/5 [==============================] - 1s 182ms/step - loss: 0.2926 - accuracy: 0.8750 - val_loss: 0.4177 - val_accuracy: 0.8125\n",
      "Epoch 42/50\n",
      "5/5 [==============================] - 1s 216ms/step - loss: 0.2915 - accuracy: 0.8819 - val_loss: 0.4166 - val_accuracy: 0.8125\n",
      "Epoch 43/50\n",
      "5/5 [==============================] - 1s 176ms/step - loss: 0.3040 - accuracy: 0.8750 - val_loss: 0.4158 - val_accuracy: 0.8125\n",
      "Epoch 44/50\n",
      "5/5 [==============================] - 1s 184ms/step - loss: 0.2972 - accuracy: 0.8750 - val_loss: 0.4149 - val_accuracy: 0.8125\n",
      "Epoch 45/50\n",
      "5/5 [==============================] - 1s 183ms/step - loss: 0.2836 - accuracy: 0.8750 - val_loss: 0.4147 - val_accuracy: 0.8125\n",
      "Epoch 46/50\n",
      "5/5 [==============================] - 1s 189ms/step - loss: 0.2945 - accuracy: 0.8819 - val_loss: 0.4141 - val_accuracy: 0.8125\n",
      "Epoch 47/50\n",
      "5/5 [==============================] - 1s 179ms/step - loss: 0.3016 - accuracy: 0.8681 - val_loss: 0.4137 - val_accuracy: 0.8125\n",
      "Epoch 48/50\n",
      "5/5 [==============================] - 1s 189ms/step - loss: 0.2759 - accuracy: 0.8889 - val_loss: 0.4121 - val_accuracy: 0.8125\n",
      "Epoch 49/50\n",
      "5/5 [==============================] - 1s 188ms/step - loss: 0.2955 - accuracy: 0.8819 - val_loss: 0.4107 - val_accuracy: 0.8125\n",
      "Epoch 50/50\n",
      "5/5 [==============================] - 1s 179ms/step - loss: 0.2945 - accuracy: 0.8889 - val_loss: 0.4089 - val_accuracy: 0.8125\n",
      "40/40 [==============================] - 0s 11ms/step - loss: 0.2402 - accuracy: 0.9250\n",
      "Test accuracy: 92.50%\n",
      "200/200 [==============================] - 2s 11ms/step - loss: 0.2815 - accuracy: 0.8950\n",
      "(ALL) Test accuracy: 89.50%\n",
      "100/100 [==============================] - 1s 11ms/step - loss: 3.3127 - accuracy: 0.7900\n",
      "(all_anomaly_gen) Test accuracy: 79.00%\n",
      "50/50 [==============================] - 1s 12ms/step - loss: 4.0690 - accuracy: 1.0000\n",
      "(anomaly_1_gen) Test accuracy: 100.00%\n",
      "25/25 [==============================] - 0s 11ms/step - loss: 3.5916 - accuracy: 1.0000\n",
      "(anomaly_2_gen) Test accuracy: 100.00%\n",
      "25/25 [==============================] - 0s 17ms/step - loss: 1.5211 - accuracy: 0.1600\n",
      "(anomaly_3_gen) Test accuracy: 16.00%\n",
      "40/40 [==============================] - 1s 12ms/step\n",
      "              precision    recall  f1-score   support\n",
      "\n",
      "     anomaly       0.50      0.42      0.46        19\n",
      "  no_anomaly       0.54      0.62      0.58        21\n",
      "\n",
      "    accuracy                           0.53        40\n",
      "   macro avg       0.52      0.52      0.52        40\n",
      "weighted avg       0.52      0.53      0.52        40\n",
      "\n"
     ]
    }
   ],
   "source": [
    "model_1 = create_model_and_save({**cfg, \"subdataset\": \"cookies_1\"})"
   ]
  },
  {
   "cell_type": "code",
   "execution_count": 4,
   "metadata": {},
   "outputs": [
    {
     "name": "stdout",
     "output_type": "stream",
     "text": [
      "Found 144 validated image filenames belonging to 2 classes.\n",
      "Found 16 validated image filenames belonging to 2 classes.\n",
      "Found 40 validated image filenames belonging to 2 classes.\n",
      "Found 200 validated image filenames belonging to 2 classes.\n",
      "Found 100 validated image filenames belonging to 1 classes.\n",
      "Found 50 validated image filenames belonging to 1 classes.\n",
      "Found 25 validated image filenames belonging to 1 classes.\n",
      "Found 25 validated image filenames belonging to 1 classes.\n",
      "Epoch 1/50\n",
      "5/5 [==============================] - 2s 292ms/step - loss: 0.8755 - accuracy: 0.5069 - val_loss: 0.7339 - val_accuracy: 0.6250\n",
      "Epoch 2/50\n",
      "5/5 [==============================] - 1s 187ms/step - loss: 0.8499 - accuracy: 0.5069 - val_loss: 0.7194 - val_accuracy: 0.6250\n",
      "Epoch 3/50\n",
      "5/5 [==============================] - 1s 194ms/step - loss: 0.7862 - accuracy: 0.5278 - val_loss: 0.7071 - val_accuracy: 0.6250\n",
      "Epoch 4/50\n",
      "5/5 [==============================] - 1s 183ms/step - loss: 0.7826 - accuracy: 0.5417 - val_loss: 0.6968 - val_accuracy: 0.6250\n",
      "Epoch 5/50\n",
      "5/5 [==============================] - 1s 217ms/step - loss: 0.7523 - accuracy: 0.5556 - val_loss: 0.6883 - val_accuracy: 0.6250\n",
      "Epoch 6/50\n",
      "5/5 [==============================] - 1s 185ms/step - loss: 0.7205 - accuracy: 0.5833 - val_loss: 0.6805 - val_accuracy: 0.6250\n",
      "Epoch 7/50\n",
      "5/5 [==============================] - 1s 196ms/step - loss: 0.6835 - accuracy: 0.6042 - val_loss: 0.6737 - val_accuracy: 0.6250\n",
      "Epoch 8/50\n",
      "5/5 [==============================] - 1s 185ms/step - loss: 0.6970 - accuracy: 0.5972 - val_loss: 0.6671 - val_accuracy: 0.5625\n",
      "Epoch 9/50\n",
      "5/5 [==============================] - 1s 219ms/step - loss: 0.6516 - accuracy: 0.6667 - val_loss: 0.6607 - val_accuracy: 0.6250\n",
      "Epoch 10/50\n",
      "5/5 [==============================] - 1s 184ms/step - loss: 0.6392 - accuracy: 0.6667 - val_loss: 0.6547 - val_accuracy: 0.6250\n",
      "Epoch 11/50\n",
      "5/5 [==============================] - 1s 183ms/step - loss: 0.6169 - accuracy: 0.6667 - val_loss: 0.6477 - val_accuracy: 0.7500\n",
      "Epoch 12/50\n",
      "5/5 [==============================] - 1s 189ms/step - loss: 0.6012 - accuracy: 0.7083 - val_loss: 0.6421 - val_accuracy: 0.6250\n",
      "Epoch 13/50\n",
      "5/5 [==============================] - 1s 259ms/step - loss: 0.5758 - accuracy: 0.7361 - val_loss: 0.6354 - val_accuracy: 0.6250\n",
      "Epoch 14/50\n",
      "5/5 [==============================] - 1s 201ms/step - loss: 0.5433 - accuracy: 0.7708 - val_loss: 0.6278 - val_accuracy: 0.6250\n",
      "Epoch 15/50\n",
      "5/5 [==============================] - 1s 220ms/step - loss: 0.5552 - accuracy: 0.7986 - val_loss: 0.6186 - val_accuracy: 0.6250\n",
      "Epoch 16/50\n",
      "5/5 [==============================] - 1s 202ms/step - loss: 0.5575 - accuracy: 0.7778 - val_loss: 0.6104 - val_accuracy: 0.6875\n",
      "Epoch 17/50\n",
      "5/5 [==============================] - 1s 185ms/step - loss: 0.5265 - accuracy: 0.7917 - val_loss: 0.6024 - val_accuracy: 0.7500\n",
      "Epoch 18/50\n",
      "5/5 [==============================] - 1s 199ms/step - loss: 0.5131 - accuracy: 0.8403 - val_loss: 0.5939 - val_accuracy: 0.7500\n",
      "Epoch 19/50\n",
      "5/5 [==============================] - 1s 209ms/step - loss: 0.5214 - accuracy: 0.8125 - val_loss: 0.5868 - val_accuracy: 0.8125\n",
      "Epoch 20/50\n",
      "5/5 [==============================] - 1s 198ms/step - loss: 0.5070 - accuracy: 0.8819 - val_loss: 0.5779 - val_accuracy: 0.8125\n",
      "Epoch 21/50\n",
      "5/5 [==============================] - 1s 196ms/step - loss: 0.4855 - accuracy: 0.8472 - val_loss: 0.5696 - val_accuracy: 0.8125\n",
      "Epoch 22/50\n",
      "5/5 [==============================] - 1s 199ms/step - loss: 0.4754 - accuracy: 0.8750 - val_loss: 0.5618 - val_accuracy: 0.8125\n",
      "Epoch 23/50\n",
      "5/5 [==============================] - 1s 194ms/step - loss: 0.4824 - accuracy: 0.8681 - val_loss: 0.5536 - val_accuracy: 0.8125\n",
      "Epoch 24/50\n",
      "5/5 [==============================] - 1s 196ms/step - loss: 0.4598 - accuracy: 0.9167 - val_loss: 0.5459 - val_accuracy: 0.8125\n",
      "Epoch 25/50\n",
      "5/5 [==============================] - 1s 194ms/step - loss: 0.4409 - accuracy: 0.9097 - val_loss: 0.5394 - val_accuracy: 0.8125\n",
      "Epoch 26/50\n",
      "5/5 [==============================] - 1s 196ms/step - loss: 0.4289 - accuracy: 0.9167 - val_loss: 0.5320 - val_accuracy: 0.8125\n",
      "Epoch 27/50\n",
      "5/5 [==============================] - 1s 195ms/step - loss: 0.4500 - accuracy: 0.8542 - val_loss: 0.5253 - val_accuracy: 0.8125\n",
      "Epoch 28/50\n",
      "5/5 [==============================] - 1s 189ms/step - loss: 0.4282 - accuracy: 0.8750 - val_loss: 0.5186 - val_accuracy: 0.8125\n",
      "Epoch 29/50\n",
      "5/5 [==============================] - 1s 224ms/step - loss: 0.4249 - accuracy: 0.8819 - val_loss: 0.5114 - val_accuracy: 0.7500\n",
      "Epoch 30/50\n",
      "5/5 [==============================] - 1s 182ms/step - loss: 0.4191 - accuracy: 0.8472 - val_loss: 0.5055 - val_accuracy: 0.7500\n",
      "Epoch 31/50\n",
      "5/5 [==============================] - 1s 226ms/step - loss: 0.4005 - accuracy: 0.9028 - val_loss: 0.4997 - val_accuracy: 0.7500\n",
      "Epoch 32/50\n",
      "5/5 [==============================] - 1s 196ms/step - loss: 0.4047 - accuracy: 0.9097 - val_loss: 0.4942 - val_accuracy: 0.7500\n",
      "Epoch 33/50\n",
      "5/5 [==============================] - 1s 195ms/step - loss: 0.3919 - accuracy: 0.9167 - val_loss: 0.4895 - val_accuracy: 0.7500\n",
      "Epoch 34/50\n",
      "5/5 [==============================] - 1s 199ms/step - loss: 0.3766 - accuracy: 0.9167 - val_loss: 0.4842 - val_accuracy: 0.7500\n",
      "Epoch 35/50\n",
      "5/5 [==============================] - 1s 190ms/step - loss: 0.3666 - accuracy: 0.9167 - val_loss: 0.4787 - val_accuracy: 0.7500\n",
      "Epoch 36/50\n",
      "5/5 [==============================] - 1s 222ms/step - loss: 0.3658 - accuracy: 0.8889 - val_loss: 0.4729 - val_accuracy: 0.7500\n",
      "Epoch 37/50\n",
      "5/5 [==============================] - 1s 192ms/step - loss: 0.3640 - accuracy: 0.8750 - val_loss: 0.4678 - val_accuracy: 0.7500\n",
      "Epoch 38/50\n",
      "5/5 [==============================] - 1s 197ms/step - loss: 0.3547 - accuracy: 0.8889 - val_loss: 0.4632 - val_accuracy: 0.7500\n",
      "Epoch 39/50\n",
      "5/5 [==============================] - 1s 191ms/step - loss: 0.3561 - accuracy: 0.9097 - val_loss: 0.4586 - val_accuracy: 0.7500\n",
      "Epoch 40/50\n",
      "5/5 [==============================] - 1s 193ms/step - loss: 0.3562 - accuracy: 0.8958 - val_loss: 0.4547 - val_accuracy: 0.7500\n",
      "Epoch 41/50\n",
      "5/5 [==============================] - 1s 192ms/step - loss: 0.3519 - accuracy: 0.8958 - val_loss: 0.4513 - val_accuracy: 0.7500\n",
      "Epoch 42/50\n",
      "5/5 [==============================] - 1s 199ms/step - loss: 0.3435 - accuracy: 0.9097 - val_loss: 0.4476 - val_accuracy: 0.7500\n",
      "Epoch 43/50\n",
      "5/5 [==============================] - 1s 197ms/step - loss: 0.3333 - accuracy: 0.8958 - val_loss: 0.4438 - val_accuracy: 0.7500\n",
      "Epoch 44/50\n",
      "5/5 [==============================] - 1s 210ms/step - loss: 0.3375 - accuracy: 0.8819 - val_loss: 0.4397 - val_accuracy: 0.7500\n",
      "Epoch 45/50\n",
      "5/5 [==============================] - 1s 192ms/step - loss: 0.3211 - accuracy: 0.9028 - val_loss: 0.4367 - val_accuracy: 0.7500\n",
      "Epoch 46/50\n",
      "5/5 [==============================] - 1s 192ms/step - loss: 0.3202 - accuracy: 0.9028 - val_loss: 0.4334 - val_accuracy: 0.7500\n",
      "Epoch 47/50\n",
      "5/5 [==============================] - 1s 192ms/step - loss: 0.3198 - accuracy: 0.9097 - val_loss: 0.4303 - val_accuracy: 0.7500\n",
      "Epoch 48/50\n",
      "5/5 [==============================] - 1s 189ms/step - loss: 0.3159 - accuracy: 0.8889 - val_loss: 0.4270 - val_accuracy: 0.7500\n",
      "Epoch 49/50\n",
      "5/5 [==============================] - 1s 194ms/step - loss: 0.3009 - accuracy: 0.9167 - val_loss: 0.4243 - val_accuracy: 0.7500\n",
      "Epoch 50/50\n",
      "5/5 [==============================] - 1s 224ms/step - loss: 0.3061 - accuracy: 0.9028 - val_loss: 0.4207 - val_accuracy: 0.7500\n",
      "40/40 [==============================] - 1s 13ms/step - loss: 0.3142 - accuracy: 0.9250\n",
      "Test accuracy: 92.50%\n",
      "200/200 [==============================] - 3s 13ms/step - loss: 0.3253 - accuracy: 0.8900\n",
      "(ALL) Test accuracy: 89.00%\n",
      "100/100 [==============================] - 1s 13ms/step - loss: 1.9822 - accuracy: 0.8100\n",
      "(all_anomaly_gen) Test accuracy: 81.00%\n",
      "50/50 [==============================] - 1s 12ms/step - loss: 2.2264 - accuracy: 1.0000\n",
      "(anomaly_1_gen) Test accuracy: 100.00%\n",
      "25/25 [==============================] - 0s 17ms/step - loss: 2.0551 - accuracy: 1.0000\n",
      "(anomaly_2_gen) Test accuracy: 100.00%\n",
      "25/25 [==============================] - 0s 13ms/step - loss: 1.4210 - accuracy: 0.2400\n",
      "(anomaly_3_gen) Test accuracy: 24.00%\n",
      "40/40 [==============================] - 1s 13ms/step\n",
      "              precision    recall  f1-score   support\n",
      "\n",
      "     anomaly       0.31      0.26      0.29        19\n",
      "  no_anomaly       0.42      0.48      0.44        21\n",
      "\n",
      "    accuracy                           0.38        40\n",
      "   macro avg       0.36      0.37      0.37        40\n",
      "weighted avg       0.37      0.38      0.37        40\n",
      "\n"
     ]
    }
   ],
   "source": [
    "model_2 = create_model_and_save({**cfg, \"subdataset\": \"cookies_2\"})"
   ]
  },
  {
   "cell_type": "code",
   "execution_count": 5,
   "metadata": {},
   "outputs": [
    {
     "name": "stdout",
     "output_type": "stream",
     "text": [
      "Found 144 validated image filenames belonging to 2 classes.\n",
      "Found 16 validated image filenames belonging to 2 classes.\n",
      "Found 40 validated image filenames belonging to 2 classes.\n",
      "Found 200 validated image filenames belonging to 2 classes.\n",
      "Found 100 validated image filenames belonging to 1 classes.\n",
      "Found 50 validated image filenames belonging to 1 classes.\n",
      "Found 25 validated image filenames belonging to 1 classes.\n",
      "Found 25 validated image filenames belonging to 1 classes.\n",
      "Epoch 1/50\n",
      "5/5 [==============================] - 2s 298ms/step - loss: 0.8125 - accuracy: 0.3542 - val_loss: 0.7227 - val_accuracy: 0.5000\n",
      "Epoch 2/50\n",
      "5/5 [==============================] - 1s 196ms/step - loss: 0.7860 - accuracy: 0.3958 - val_loss: 0.7063 - val_accuracy: 0.4375\n",
      "Epoch 3/50\n",
      "5/5 [==============================] - 1s 194ms/step - loss: 0.7845 - accuracy: 0.3681 - val_loss: 0.6899 - val_accuracy: 0.5000\n",
      "Epoch 4/50\n",
      "5/5 [==============================] - 1s 227ms/step - loss: 0.7269 - accuracy: 0.4514 - val_loss: 0.6740 - val_accuracy: 0.5000\n",
      "Epoch 5/50\n",
      "5/5 [==============================] - 1s 201ms/step - loss: 0.7126 - accuracy: 0.5278 - val_loss: 0.6594 - val_accuracy: 0.6250\n",
      "Epoch 6/50\n",
      "5/5 [==============================] - 1s 197ms/step - loss: 0.7067 - accuracy: 0.5208 - val_loss: 0.6451 - val_accuracy: 0.6250\n",
      "Epoch 7/50\n",
      "5/5 [==============================] - 1s 237ms/step - loss: 0.6871 - accuracy: 0.5625 - val_loss: 0.6310 - val_accuracy: 0.6875\n",
      "Epoch 8/50\n",
      "5/5 [==============================] - 1s 192ms/step - loss: 0.6955 - accuracy: 0.5139 - val_loss: 0.6173 - val_accuracy: 0.6875\n",
      "Epoch 9/50\n",
      "5/5 [==============================] - 1s 237ms/step - loss: 0.6883 - accuracy: 0.5347 - val_loss: 0.6063 - val_accuracy: 0.7500\n",
      "Epoch 10/50\n",
      "5/5 [==============================] - 1s 194ms/step - loss: 0.6440 - accuracy: 0.6389 - val_loss: 0.5956 - val_accuracy: 0.8125\n",
      "Epoch 11/50\n",
      "5/5 [==============================] - 1s 195ms/step - loss: 0.6485 - accuracy: 0.5972 - val_loss: 0.5845 - val_accuracy: 0.8125\n",
      "Epoch 12/50\n",
      "5/5 [==============================] - 1s 212ms/step - loss: 0.6204 - accuracy: 0.6458 - val_loss: 0.5738 - val_accuracy: 0.8125\n",
      "Epoch 13/50\n",
      "5/5 [==============================] - 1s 194ms/step - loss: 0.6115 - accuracy: 0.6944 - val_loss: 0.5641 - val_accuracy: 0.8125\n",
      "Epoch 14/50\n",
      "5/5 [==============================] - 1s 243ms/step - loss: 0.6215 - accuracy: 0.6667 - val_loss: 0.5544 - val_accuracy: 0.8125\n",
      "Epoch 15/50\n",
      "5/5 [==============================] - 1s 236ms/step - loss: 0.5953 - accuracy: 0.6944 - val_loss: 0.5441 - val_accuracy: 0.8125\n",
      "Epoch 16/50\n",
      "5/5 [==============================] - 1s 240ms/step - loss: 0.5956 - accuracy: 0.6875 - val_loss: 0.5341 - val_accuracy: 0.8125\n",
      "Epoch 17/50\n",
      "5/5 [==============================] - 1s 195ms/step - loss: 0.5764 - accuracy: 0.7500 - val_loss: 0.5254 - val_accuracy: 0.8125\n",
      "Epoch 18/50\n",
      "5/5 [==============================] - 1s 196ms/step - loss: 0.5238 - accuracy: 0.8264 - val_loss: 0.5169 - val_accuracy: 0.8125\n",
      "Epoch 19/50\n",
      "5/5 [==============================] - 1s 230ms/step - loss: 0.5455 - accuracy: 0.7708 - val_loss: 0.5090 - val_accuracy: 0.8125\n",
      "Epoch 20/50\n",
      "5/5 [==============================] - 1s 190ms/step - loss: 0.5343 - accuracy: 0.7917 - val_loss: 0.5007 - val_accuracy: 0.8125\n",
      "Epoch 21/50\n",
      "5/5 [==============================] - 1s 191ms/step - loss: 0.5065 - accuracy: 0.8681 - val_loss: 0.4920 - val_accuracy: 0.8125\n",
      "Epoch 22/50\n",
      "5/5 [==============================] - 1s 190ms/step - loss: 0.5065 - accuracy: 0.7847 - val_loss: 0.4835 - val_accuracy: 0.8125\n",
      "Epoch 23/50\n",
      "5/5 [==============================] - 1s 194ms/step - loss: 0.4952 - accuracy: 0.8264 - val_loss: 0.4749 - val_accuracy: 0.8125\n",
      "Epoch 24/50\n",
      "5/5 [==============================] - 1s 201ms/step - loss: 0.4973 - accuracy: 0.8264 - val_loss: 0.4669 - val_accuracy: 0.8125\n",
      "Epoch 25/50\n",
      "5/5 [==============================] - 1s 209ms/step - loss: 0.4679 - accuracy: 0.8681 - val_loss: 0.4593 - val_accuracy: 0.8125\n",
      "Epoch 26/50\n",
      "5/5 [==============================] - 1s 201ms/step - loss: 0.4652 - accuracy: 0.8611 - val_loss: 0.4524 - val_accuracy: 0.8125\n",
      "Epoch 27/50\n",
      "5/5 [==============================] - 1s 197ms/step - loss: 0.4675 - accuracy: 0.8542 - val_loss: 0.4454 - val_accuracy: 0.8125\n",
      "Epoch 28/50\n",
      "5/5 [==============================] - 1s 196ms/step - loss: 0.4463 - accuracy: 0.8750 - val_loss: 0.4393 - val_accuracy: 0.8125\n",
      "Epoch 29/50\n",
      "5/5 [==============================] - 1s 194ms/step - loss: 0.4512 - accuracy: 0.8889 - val_loss: 0.4329 - val_accuracy: 0.8125\n",
      "Epoch 30/50\n",
      "5/5 [==============================] - 1s 193ms/step - loss: 0.4379 - accuracy: 0.8681 - val_loss: 0.4267 - val_accuracy: 0.8125\n",
      "Epoch 31/50\n",
      "5/5 [==============================] - 1s 195ms/step - loss: 0.4325 - accuracy: 0.8681 - val_loss: 0.4203 - val_accuracy: 0.8125\n",
      "Epoch 32/50\n",
      "5/5 [==============================] - 1s 197ms/step - loss: 0.4072 - accuracy: 0.8889 - val_loss: 0.4141 - val_accuracy: 0.8125\n",
      "Epoch 33/50\n",
      "5/5 [==============================] - 1s 199ms/step - loss: 0.4205 - accuracy: 0.8958 - val_loss: 0.4080 - val_accuracy: 0.8125\n",
      "Epoch 34/50\n",
      "5/5 [==============================] - 1s 244ms/step - loss: 0.3892 - accuracy: 0.9028 - val_loss: 0.4018 - val_accuracy: 0.8125\n",
      "Epoch 35/50\n",
      "5/5 [==============================] - 1s 196ms/step - loss: 0.3952 - accuracy: 0.8889 - val_loss: 0.3957 - val_accuracy: 0.8125\n",
      "Epoch 36/50\n",
      "5/5 [==============================] - 1s 196ms/step - loss: 0.3733 - accuracy: 0.9097 - val_loss: 0.3900 - val_accuracy: 0.8125\n",
      "Epoch 37/50\n",
      "5/5 [==============================] - 1s 199ms/step - loss: 0.3749 - accuracy: 0.9097 - val_loss: 0.3841 - val_accuracy: 0.8125\n",
      "Epoch 38/50\n",
      "5/5 [==============================] - 1s 187ms/step - loss: 0.3744 - accuracy: 0.9375 - val_loss: 0.3785 - val_accuracy: 0.8125\n",
      "Epoch 39/50\n",
      "5/5 [==============================] - 1s 192ms/step - loss: 0.3563 - accuracy: 0.8958 - val_loss: 0.3732 - val_accuracy: 0.8125\n",
      "Epoch 40/50\n",
      "5/5 [==============================] - 1s 192ms/step - loss: 0.3605 - accuracy: 0.9306 - val_loss: 0.3679 - val_accuracy: 0.8125\n",
      "Epoch 41/50\n",
      "5/5 [==============================] - 1s 197ms/step - loss: 0.3503 - accuracy: 0.8958 - val_loss: 0.3625 - val_accuracy: 0.8125\n",
      "Epoch 42/50\n",
      "5/5 [==============================] - 1s 196ms/step - loss: 0.3415 - accuracy: 0.9028 - val_loss: 0.3569 - val_accuracy: 0.8125\n",
      "Epoch 43/50\n",
      "5/5 [==============================] - 1s 205ms/step - loss: 0.3491 - accuracy: 0.8889 - val_loss: 0.3520 - val_accuracy: 0.8125\n",
      "Epoch 44/50\n",
      "5/5 [==============================] - 1s 197ms/step - loss: 0.3420 - accuracy: 0.8819 - val_loss: 0.3471 - val_accuracy: 0.8125\n",
      "Epoch 45/50\n",
      "5/5 [==============================] - 1s 199ms/step - loss: 0.3393 - accuracy: 0.9167 - val_loss: 0.3422 - val_accuracy: 0.8125\n",
      "Epoch 46/50\n",
      "5/5 [==============================] - 1s 190ms/step - loss: 0.3390 - accuracy: 0.9097 - val_loss: 0.3372 - val_accuracy: 0.8125\n",
      "Epoch 47/50\n",
      "5/5 [==============================] - 1s 195ms/step - loss: 0.3384 - accuracy: 0.9236 - val_loss: 0.3324 - val_accuracy: 0.8125\n",
      "Epoch 48/50\n",
      "5/5 [==============================] - 1s 228ms/step - loss: 0.3273 - accuracy: 0.8958 - val_loss: 0.3283 - val_accuracy: 0.8125\n",
      "Epoch 49/50\n",
      "5/5 [==============================] - 1s 228ms/step - loss: 0.3137 - accuracy: 0.9375 - val_loss: 0.3241 - val_accuracy: 0.8125\n",
      "Epoch 50/50\n",
      "5/5 [==============================] - 1s 192ms/step - loss: 0.2995 - accuracy: 0.9444 - val_loss: 0.3200 - val_accuracy: 0.8125\n",
      "40/40 [==============================] - 0s 12ms/step - loss: 0.2492 - accuracy: 0.9500\n",
      "Test accuracy: 95.00%\n",
      "200/200 [==============================] - 2s 12ms/step - loss: 0.2903 - accuracy: 0.9000\n",
      "(ALL) Test accuracy: 90.00%\n",
      "100/100 [==============================] - 1s 12ms/step - loss: 2.0405 - accuracy: 0.8000\n",
      "(all_anomaly_gen) Test accuracy: 80.00%\n",
      "50/50 [==============================] - 1s 11ms/step - loss: 2.3215 - accuracy: 1.0000\n",
      "(anomaly_1_gen) Test accuracy: 100.00%\n",
      "25/25 [==============================] - 0s 12ms/step - loss: 2.0263 - accuracy: 1.0000\n",
      "(anomaly_2_gen) Test accuracy: 100.00%\n",
      "25/25 [==============================] - 0s 11ms/step - loss: 1.4929 - accuracy: 0.2000\n",
      "(anomaly_3_gen) Test accuracy: 20.00%\n",
      "40/40 [==============================] - 1s 12ms/step\n",
      "              precision    recall  f1-score   support\n",
      "\n",
      "     anomaly       0.53      0.47      0.50        19\n",
      "  no_anomaly       0.57      0.62      0.59        21\n",
      "\n",
      "    accuracy                           0.55        40\n",
      "   macro avg       0.55      0.55      0.55        40\n",
      "weighted avg       0.55      0.55      0.55        40\n",
      "\n"
     ]
    }
   ],
   "source": [
    "model_3 = create_model_and_save({**cfg, \"subdataset\": \"cookies_3\"})"
   ]
  },
  {
   "cell_type": "markdown",
   "metadata": {},
   "source": [
    "### Bonus: Edge Impulse conversion"
   ]
  },
  {
   "cell_type": "markdown",
   "metadata": {},
   "source": [
    "Edge Impulse allows you to upload an existing model [BYOM](https://docs.edgeimpulse.com/docs/edge-impulse-studio/bring-your-own-model-byom) and convert it to multiple format. (For edge devices, macos, web assembly for the browser, ...)\n",
    "\n",
    "Here is the code to upload this model.  \n",
    "It doesn't work with any model, for example, efficientAD is not yet compatible because it involves multiple models including auto encodeur.  \n",
    "The output of thoses are not compatible with EdgeImpulse."
   ]
  },
  {
   "cell_type": "markdown",
   "metadata": {},
   "source": [
    "Create a .env from the .env.example, you don't need all the keys listed there, look for the ones used in this notebook."
   ]
  },
  {
   "cell_type": "markdown",
   "metadata": {},
   "source": [
    "#### Upload model"
   ]
  },
  {
   "cell_type": "code",
   "execution_count": 6,
   "metadata": {},
   "outputs": [],
   "source": [
    "import edgeimpulse as ei  # Importing the Edge Impulse library for machine learning on edge devices.  \n",
    "import os                # Importing the os module to interact with the operating system.  \n",
    "from dotenv import load_dotenv  # Importing function to load environment variables from a .env file.  \n",
    "  \n",
    "load_dotenv()  # Load environment variables from a .env file.  \n",
    "  \n",
    "# Setting the API key for Edge Impulse from an environment variable for added security.  \n",
    "ei.API_KEY = os.getenv(\"EDGE_IMPULSE_API_KEY_BASELINE\")"
   ]
  },
  {
   "cell_type": "code",
   "execution_count": null,
   "metadata": {},
   "outputs": [],
   "source": [
    "# Define the output type and labels for the model.  \n",
    "model_output_type = ei.model.output_type.Classification(labels=[\"anomaly\",\"no_anomaly\"])\n",
    "# Define the input type for the model as an image.  \n",
    "model_input_type = ei.model.input_type.ImageInput()"
   ]
  },
  {
   "cell_type": "code",
   "execution_count": 8,
   "metadata": {},
   "outputs": [],
   "source": [
    "def convert_model(model, subdataset):\n",
    "    \"\"\"  \n",
    "    Converts a given model to the Edge Impulse deployment format and saves it as a .eim file.  \n",
    "  \n",
    "    Args:  \n",
    "        model: The model to be converted.  \n",
    "        subdataset: The subdataset name used as part of the file path.  \n",
    "  \n",
    "    Returns:  \n",
    "        None - The result is the creation of an .eim file containing the model.  \n",
    "    \"\"\" \n",
    "    \n",
    "    # Deploy the model for Mac OS x86_64 environment.  \n",
    "    deploy_bytes_mac_os = ei.model.deploy(model=model,\n",
    "                                model_output_type=model_output_type,\n",
    "                                model_input_type=model_input_type,\n",
    "                                deploy_target='runner-mac-x86_64')\n",
    "    \n",
    "    # If deployment is successful, save the model to a file.  \n",
    "    if deploy_bytes:\n",
    "        with open(f\"{cfg['output_path']}/baseline/{subdataset}/ei.eim\", 'wb') as f:\n",
    "            f.write(deploy_bytes.getvalue())\n",
    "    print(\"Converted!\")"
   ]
  },
  {
   "cell_type": "code",
   "execution_count": 15,
   "metadata": {},
   "outputs": [
    {
     "name": "stdout",
     "output_type": "stream",
     "text": [
      "INFO:tensorflow:Assets written to: /var/folders/x_/0z24g8110_n09vlvhxmrh0_w0000gp/T/tmpaqup6l7o/saved_model/assets\n"
     ]
    },
    {
     "name": "stderr",
     "output_type": "stream",
     "text": [
      "INFO:tensorflow:Assets written to: /var/folders/x_/0z24g8110_n09vlvhxmrh0_w0000gp/T/tmpaqup6l7o/saved_model/assets\n"
     ]
    },
    {
     "name": "stdout",
     "output_type": "stream",
     "text": [
      "Converted!\n",
      "INFO:tensorflow:Assets written to: /var/folders/x_/0z24g8110_n09vlvhxmrh0_w0000gp/T/tmpaeaql65t/saved_model/assets\n"
     ]
    },
    {
     "name": "stderr",
     "output_type": "stream",
     "text": [
      "INFO:tensorflow:Assets written to: /var/folders/x_/0z24g8110_n09vlvhxmrh0_w0000gp/T/tmpaeaql65t/saved_model/assets\n"
     ]
    },
    {
     "name": "stdout",
     "output_type": "stream",
     "text": [
      "Converted!\n",
      "INFO:tensorflow:Assets written to: /var/folders/x_/0z24g8110_n09vlvhxmrh0_w0000gp/T/tmp0drp9oaw/saved_model/assets\n"
     ]
    },
    {
     "name": "stderr",
     "output_type": "stream",
     "text": [
      "INFO:tensorflow:Assets written to: /var/folders/x_/0z24g8110_n09vlvhxmrh0_w0000gp/T/tmp0drp9oaw/saved_model/assets\n"
     ]
    },
    {
     "name": "stdout",
     "output_type": "stream",
     "text": [
      "Converted!\n"
     ]
    }
   ],
   "source": [
    "convert_model(model_1, \"cookies_1\")\n",
    "convert_model(model_2, \"cookies_2\")\n",
    "convert_model(model_3, \"cookies_3\")"
   ]
  },
  {
   "cell_type": "code",
   "execution_count": 16,
   "metadata": {},
   "outputs": [],
   "source": [
    "# For the macos model\n",
    "!chmod +x \"../output/baseline/cookies_1/ei.eim\"\n",
    "!chmod +x \"../output/baseline/cookies_2/ei.eim\"\n",
    "!chmod +x \"../output/baseline/cookies_3/ei.eim\""
   ]
  },
  {
   "cell_type": "markdown",
   "metadata": {},
   "source": [
    "#### Edge Impulse MACOS Model Inference"
   ]
  },
  {
   "cell_type": "code",
   "execution_count": null,
   "metadata": {},
   "outputs": [
    {
     "name": "stdout",
     "output_type": "stream",
     "text": [
      "modelfile ../output/baseline/cookies_1/ei.eim\n",
      "{'anomaly': 0.8524113297462463, 'no_anomaly': 0.14758871495723724} Classification : anomaly\n",
      "{'anomaly': 0.8521977066993713, 'no_anomaly': 0.14780227839946747} Classification : anomaly\n",
      "{'anomaly': 0.6257696747779846, 'no_anomaly': 0.37423035502433777} Classification : anomaly\n",
      "{'anomaly': 0.4212366044521332, 'no_anomaly': 0.5787633657455444} Classification : no_anomaly\n"
     ]
    }
   ],
   "source": [
    "from edge_impulse_linux.image import ImageImpulseRunner\n",
    "import cv2  \n",
    "\n",
    "model = \"../output/baseline/cookies_1/ei.eim\"\n",
    "modelfile = os.path.join(model)\n",
    "print(\"modelfile\", modelfile)\n",
    "\n",
    "def ei_inference(img_path):\n",
    "    with ImageImpulseRunner(modelfile) as runner:\n",
    "        # Initialize the model\n",
    "        model_info = runner.init()\n",
    "        \n",
    "        # Load the image directly from the disk  \n",
    "        original_image = cv2.imread(img_path, cv2.IMREAD_COLOR)\n",
    "        \n",
    "        # Convert the image from BGR color format (used by OpenCV) to RGB\n",
    "        img = cv2.cvtColor(original_image, cv2.COLOR_BGR2RGB)  \n",
    "        \n",
    "        # Extract features from the image as required by the model  \n",
    "        features, cropped = runner.get_features_from_image(img)\n",
    "        \n",
    "        # Perform classification using the features extracted from the image  \n",
    "        res = runner.classify(features)\n",
    "        \n",
    "        # Simplify access to classification results  \n",
    "        anomaly = res[\"result\"][\"classification\"][\"anomaly\"]\n",
    "        no_anomaly = res[\"result\"][\"classification\"][\"no_anomaly\"]\n",
    "        \n",
    "        # Determine the final class based on the returned probabilities \n",
    "        classification = \"anomaly\" if anomaly > no_anomaly else \"no_anomaly\"\n",
    "        print(res[\"result\"][\"classification\"], f\"Classification : {classification}\")\n",
    "\n",
    "# Testing the inference function with different images  \n",
    "ei_inference(\"datasets/cookies_3/anomaly_lvl_1/20240417_134612.jpg\")\n",
    "ei_inference(\"datasets/cookies_3/anomaly_lvl_2/20240417_135607.jpg\")\n",
    "ei_inference(\"datasets/cookies_3/anomaly_lvl_3/20240417_140059.jpg\")\n",
    "ei_inference(\"datasets/cookies_3/no_anomaly/20240417_133841.jpg\")"
   ]
  }
 ],
 "metadata": {
  "kernelspec": {
   "display_name": "Python 3",
   "language": "python",
   "name": "python3"
  },
  "language_info": {
   "codemirror_mode": {
    "name": "ipython",
    "version": 3
   },
   "file_extension": ".py",
   "mimetype": "text/x-python",
   "name": "python",
   "nbconvert_exporter": "python",
   "pygments_lexer": "ipython3",
   "version": "3.11.7"
  }
 },
 "nbformat": 4,
 "nbformat_minor": 2
}
