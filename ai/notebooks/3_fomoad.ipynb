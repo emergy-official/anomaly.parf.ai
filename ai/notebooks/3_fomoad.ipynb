{
 "cells": [
  {
   "cell_type": "markdown",
   "metadata": {},
   "source": [
    "# FOMO-AD Model For Anomaly Detection"
   ]
  },
  {
   "cell_type": "markdown",
   "metadata": {},
   "source": [
    "# Summary\n",
    "- Introduction\n",
    "- Before running the notebook\n",
    "\n",
    "---\n",
    "\n",
    "- Config\n",
    "- Login\n",
    "- Get your project data\n",
    "\n",
    "---\n",
    "\n",
    "- Upload the dataset\n",
    "- Create an impulse\n",
    "- Generate features\n",
    "\n",
    "---\n",
    "\n",
    "- Train the model\n",
    "    - Option 1:  Default training configuration\n",
    "    - Option 2:  Find the best model and configuration from your data\n",
    "\n",
    "---\n",
    "\n",
    "- Export your model\n",
    "- Run the Inference on your exported model"
   ]
  },
  {
   "cell_type": "markdown",
   "metadata": {},
   "source": [
    "## Introduction\n",
    "\n",
    "This notebook demonstrate the power of [Edge Impulse](https://edgeimpulse.com/) and it's API to automatically create, train and export a model for anomaly detection in just a few minutes.\n",
    "\n",
    "Set the configuration, run all the blocks and see your model being trained and exported live from a click of a button.\n",
    "\n",
    "It will create an anomaly detection model for cookies.\n",
    "\n",
    "The notebook configuration work for one project at a time.  \n",
    "Here are the projects for each dataset:\n",
    "- Cookies 1: https://studio.edgeimpulse.com/public/377841/latest\n",
    "- Cookies 2: https://studio.edgeimpulse.com/public/371766/latest\n",
    "- Cookies 3: https://studio.edgeimpulse.com/public/376268/latest\n",
    "\n",
    "\n"
   ]
  },
  {
   "cell_type": "markdown",
   "metadata": {},
   "source": [
    "## Before running the notebook"
   ]
  },
  {
   "cell_type": "markdown",
   "metadata": {},
   "source": [
    "Let's prepare the environement before running the notebook.  \n",
    "\n",
    "1. Do you have the datasets ? Download it [here](https://drive.google.com/file/d/19VM3RtzVFyDZ4s0HKJ8eVMnijAKEJdRJ/view?usp=drive_link) and extract it in the `notebooks` folder\n",
    "\n",
    "2. Run the following command in the terminal from the **`ai`** folder.\n",
    "\n",
    "```sh\n",
    "conda create -p envs/3_fomoad python=3.11.7 -y\n",
    "conda activate envs/3_fomoad\n",
    "\n",
    "pip install -r requirements/3_fomoad.txt\n",
    "```"
   ]
  },
  {
   "cell_type": "markdown",
   "metadata": {},
   "source": [
    "## Config"
   ]
  },
  {
   "cell_type": "code",
   "execution_count": 2,
   "metadata": {},
   "outputs": [],
   "source": [
    "import edgeimpulse_api as ei_api  # Importing Edge Impulse API for managing ML projects  \n",
    "import os  # Importing OS library for operating system dependent functionality  \n",
    "from dotenv import load_dotenv  # Import dotenv to load environment variables from a .env file  \n",
    "import random  # Import random module to generate random numbers  \n",
    "import requests  # Import requests to make HTTP requests  \n",
    "import json  # Import JSON to parse JSON data  \n",
    "import time  # Import time module for time-related tasks  \n",
    "load_dotenv()  # Load environment variables from .env file  \n",
    "  \n",
    "# Configuration dictionary for the project settings  \n",
    "cfg = {  \n",
    "    \"project_name\": \"FOMO-AD-cookies-1\",  # Name of the project  \n",
    "    \"dataset_path\": \"datasets/cookies_1\",  # Path to dataset directory  \n",
    "    \"project_api_key\": os.getenv(\"EDGE_IMPULSE_API_KEY_FOMO_AD_COOKIES_1\"),  # Project API key loaded from environment  \n",
    "    \"project_api_key_dev\": os.getenv(\"EDGE_IMPULSE_API_KEY_FOMO_AD_COOKIES_1_DEV\"),  # Development API key loaded from environment  \n",
    "    \"output_path\": \"../output/fomoad/cookies_1\",  # Output directory for storing results  \n",
    "  \n",
    "    # Optional, will run a pipeline to find the best model instead of using the default one\n",
    "    # There's no code to wait for the pipeline to finish, so make sure to run the export block manually once it's done.\n",
    "    \"organization_id\": 105154,  # ID of the organization in Edge Impulse  \n",
    "    \"organization_api_key\": os.getenv(\"EDGE_IMPULSE_API_KEY_ORGANISATION\"),  # Organization API key loaded from environment  \n",
    "    \"pipeline_id\": 3923  # ID of the pipeline to be used to train a model, \n",
    "}"
   ]
  },
  {
   "cell_type": "markdown",
   "metadata": {},
   "source": [
    "## Login"
   ]
  },
  {
   "cell_type": "code",
   "execution_count": 3,
   "metadata": {},
   "outputs": [
    {
     "name": "stdout",
     "output_type": "stream",
     "text": [
      "Logged in!\n"
     ]
    }
   ],
   "source": [
    "def login():  \n",
    "    \"\"\"  \n",
    "    Log in to the Edge Impulse Studio API and retrieve an authentication token.  \n",
    "  \n",
    "    Returns:  \n",
    "        str: The authentication token used for subsequent API calls.  \n",
    "    \"\"\"\n",
    "    \n",
    "    # Define the URL to which the POST request will be sent.  \n",
    "    url = \"https://studio.edgeimpulse.com/v1/api-login\"  \n",
    "  \n",
    "    # Construct payload with environment variables for username and password.  \n",
    "    payload = json.dumps({  \n",
    "        \"username\": os.getenv(\"EDGE_IMPULSE_USERNAME\"),  \n",
    "        \"password\": os.getenv(\"EDGE_IMPULSE_PASSWORD\")  \n",
    "    })  \n",
    "      \n",
    "    # Define headers for the POST request.  \n",
    "    headers = {  \n",
    "        'content-type': \"application/json\"  \n",
    "    }  \n",
    "      \n",
    "    # Perform a POST request to log in and capture the response.  \n",
    "    response = requests.post(url, data=payload, headers=headers)  \n",
    "    res = response.json()  \n",
    "      \n",
    "    # Confirm a successful login in the console.  \n",
    "    print(\"Logged in!\")  \n",
    "  \n",
    "    # Return the API token from the response data.  \n",
    "    return res[\"token\"]  \n",
    "\n",
    "token = login()"
   ]
  },
  {
   "cell_type": "markdown",
   "metadata": {},
   "source": [
    "## Get your project data"
   ]
  },
  {
   "cell_type": "code",
   "execution_count": 4,
   "metadata": {},
   "outputs": [],
   "source": [
    "def get_active_projects():  \n",
    "    \"\"\"Retrieve active projects from the Edge Impulse API.  \n",
    "  \n",
    "    Returns:  \n",
    "        list: A list of active project dictionaries.  \n",
    "    \"\"\"  \n",
    "    response = requests.get(  \n",
    "        \"https://studio.edgeimpulse.com/v1/api/projects\",  \n",
    "        headers={\"x-jwt-token\": token}  \n",
    "        )  \n",
    "    res = response.json()  \n",
    "    return res[\"projects\"]  \n",
    "    \n",
    "projects = get_active_projects()"
   ]
  },
  {
   "cell_type": "code",
   "execution_count": 5,
   "metadata": {},
   "outputs": [
    {
     "name": "stdout",
     "output_type": "stream",
     "text": [
      "ID: 377841\n",
      "Name: FOMO-AD-cookies-1\n",
      "Description: Anomaly Detection model using FOMO AD on cookies dataset type 1\n"
     ]
    }
   ],
   "source": [
    "# Get specific project information based on project name from configuration  \n",
    "project = next((project for project in projects if project['name'] == cfg[\"project_name\"]), None)\n",
    "\n",
    "print(\"ID:\", project[\"id\"])\n",
    "print(\"Name:\", project[\"name\"])\n",
    "print(\"Description:\", project[\"description\"])"
   ]
  },
  {
   "cell_type": "markdown",
   "metadata": {},
   "source": [
    "## Upload the dataset"
   ]
  },
  {
   "cell_type": "code",
   "execution_count": 6,
   "metadata": {},
   "outputs": [
    {
     "name": "stdout",
     "output_type": "stream",
     "text": [
      "train_good_cookies len 80\n",
      "test_good_cookies len 20\n",
      "Uploading good cookies training\n",
      "Uploaded file(s) to Edge Impulse\n",
      " 200 b'{\"success\":true,\"files\":[{\"success\":false,\"error\":\"An item with this hash already exists (ids: 933288110)\"},{\"success\":false,\"error\":\"An item with this hash already exists (ids: 933288122)\"},{\"success\":false,\"error\":\"An item with this hash already exists (ids: 933288130)\"},{\"success\":false,\"error\":\"An item with this hash already exists (ids: 933288152)\"},{\"success\":false,\"error\":\"An item with this hash already exists (ids: 933288156)\"},{\"success\":false,\"error\":\"An item with this hash already exists (ids: 933288158)\"},{\"success\":false,\"error\":\"An item with this hash already exists (ids: 933288161)\"},{\"success\":false,\"error\":\"An item with this hash already exists (ids: 933288162)\"},{\"success\":false,\"error\":\"An item with this hash already exists (ids: 933288163)\"},{\"success\":false,\"error\":\"An item with this hash already exists (ids: 933288164)\"},{\"success\":false,\"error\":\"An item with this hash already exists (ids: 933288165)\"},{\"success\":false,\"error\":\"An item with this hash already exists (ids: 933288166)\"},{\"success\":false,\"error\":\"An item with this hash already exists (ids: 933288168)\"},{\"success\":false,\"error\":\"An item with this hash already exists (ids: 933288170)\"},{\"success\":false,\"error\":\"An item with this hash already exists (ids: 933288172)\"},{\"success\":false,\"error\":\"An item with this hash already exists (ids: 933288174)\"},{\"success\":false,\"error\":\"An item with this hash already exists (ids: 933288176)\"},{\"success\":false,\"error\":\"An item with this hash already exists (ids: 933288178)\"},{\"success\":false,\"error\":\"An item with this hash already exists (ids: 933288180)\"},{\"success\":false,\"error\":\"An item with this hash already exists (ids: 933288182)\"},{\"success\":false,\"error\":\"An item with this hash already exists (ids: 933288184)\"},{\"success\":false,\"error\":\"An item with this hash already exists (ids: 933288186)\"},{\"success\":false,\"error\":\"An item with this hash already exists (ids: 933288188)\"},{\"success\":false,\"error\":\"An item with this hash already exists (ids: 933288190)\"},{\"success\":false,\"error\":\"An item with this hash already exists (ids: 933288192)\"},{\"success\":false,\"error\":\"An item with this hash already exists (ids: 933288194)\"},{\"success\":false,\"error\":\"An item with this hash already exists (ids: 933288196)\"},{\"success\":false,\"error\":\"An item with this hash already exists (ids: 933288213)\"},{\"success\":false,\"error\":\"An item with this hash already exists (ids: 933288219)\"},{\"success\":false,\"error\":\"An item with this hash already exists (ids: 933288221)\"},{\"success\":false,\"error\":\"An item with this hash already exists (ids: 933288222)\"},{\"success\":false,\"error\":\"An item with this hash already exists (ids: 933288242)\"},{\"success\":false,\"error\":\"An item with this hash already exists (ids: 933288252)\"},{\"success\":false,\"error\":\"An item with this hash already exists (ids: 933288256)\"},{\"success\":false,\"error\":\"An item with this hash already exists (ids: 933288276)\"},{\"success\":false,\"error\":\"An item with this hash already exists (ids: 933288301)\"},{\"success\":false,\"error\":\"An item with this hash already exists (ids: 933288321)\"},{\"success\":false,\"error\":\"An item with this hash already exists (ids: 933288374)\"},{\"success\":false,\"error\":\"An item with this hash already exists (ids: 933288394)\"},{\"success\":false,\"error\":\"An item with this hash already exists (ids: 933288404)\"},{\"success\":false,\"error\":\"An item with this hash already exists (ids: 933288422)\"},{\"success\":false,\"error\":\"An item with this hash already exists (ids: 933288428)\"},{\"success\":false,\"error\":\"An item with this hash already exists (ids: 933288440)\"},{\"success\":false,\"error\":\"An item with this hash already exists (ids: 933288453)\"},{\"success\":false,\"error\":\"An item with this hash already exists (ids: 933288459)\"},{\"success\":false,\"error\":\"An item with this hash already exists (ids: 933288468)\"},{\"success\":false,\"error\":\"An item with this hash already exists (ids: 933288478)\"},{\"success\":false,\"error\":\"An item with this hash already exists (ids: 933288488)\"},{\"success\":false,\"error\":\"An item with this hash already exists (ids: 933288504)\"},{\"success\":false,\"error\":\"An item with this hash already exists (ids: 933288512)\"},{\"success\":false,\"error\":\"An item with this hash already exists (ids: 933288526)\"},{\"success\":false,\"error\":\"An item with this hash already exists (ids: 933288538)\"},{\"success\":false,\"error\":\"An item with this hash already exists (ids: 933288542)\"},{\"success\":false,\"error\":\"An item with this hash already exists (ids: 933288545)\"},{\"success\":false,\"error\":\"An item with this hash already exists (ids: 933288549)\"},{\"success\":false,\"error\":\"An item with this hash already exists (ids: 933288552)\"},{\"success\":false,\"error\":\"An item with this hash already exists (ids: 933288555)\"},{\"success\":false,\"error\":\"An item with this hash already exists (ids: 933288557)\"},{\"success\":false,\"error\":\"An item with this hash already exists (ids: 933288562)\"},{\"success\":false,\"error\":\"An item with this hash already exists (ids: 933288566)\"},{\"success\":false,\"error\":\"An item with this hash already exists (ids: 933288569)\"},{\"success\":false,\"error\":\"An item with this hash already exists (ids: 933288572)\"},{\"success\":false,\"error\":\"An item with this hash already exists (ids: 933288576)\"},{\"success\":false,\"error\":\"An item with this hash already exists (ids: 933288579)\"},{\"success\":false,\"error\":\"An item with this hash already exists (ids: 933288582)\"},{\"success\":false,\"error\":\"An item with this hash already exists (ids: 933288586)\"},{\"success\":false,\"error\":\"An item with this hash already exists (ids: 933288589)\"},{\"success\":false,\"error\":\"An item with this hash already exists (ids: 933288592)\"},{\"success\":false,\"error\":\"An item with this hash already exists (ids: 933288596)\"},{\"success\":false,\"error\":\"An item with this hash already exists (ids: 933288599)\"},{\"success\":false,\"error\":\"An item with this hash already exists (ids: 933288602)\"},{\"success\":false,\"error\":\"An item with this hash already exists (ids: 933288604)\"},{\"success\":false,\"error\":\"An item with this hash already exists (ids: 933288607)\"},{\"success\":false,\"error\":\"An item with this hash already exists (ids: 933288630)\"},{\"success\":false,\"error\":\"An item with this hash already exists (ids: 933288633)\"},{\"success\":false,\"error\":\"An item with this hash already exists (ids: 933288637)\"},{\"success\":false,\"error\":\"An item with this hash already exists (ids: 933288659)\"},{\"success\":false,\"error\":\"An item with this hash already exists (ids: 933288662)\"},{\"success\":false,\"error\":\"An item with this hash already exists (ids: 933288668)\"},{\"success\":false,\"error\":\"An item with this hash already exists (ids: 933288679)\"}]}'\n",
      "Uploading good cookies testing\n",
      "Uploaded file(s) to Edge Impulse\n",
      " 200 b'{\"success\":true,\"files\":[{\"success\":false,\"error\":\"An item with this hash already exists (ids: 933288725)\"},{\"success\":false,\"error\":\"An item with this hash already exists (ids: 933288730)\"},{\"success\":false,\"error\":\"An item with this hash already exists (ids: 933288748)\"},{\"success\":false,\"error\":\"An item with this hash already exists (ids: 933288757)\"},{\"success\":false,\"error\":\"An item with this hash already exists (ids: 933288772)\"},{\"success\":false,\"error\":\"An item with this hash already exists (ids: 933288783)\"},{\"success\":false,\"error\":\"An item with this hash already exists (ids: 933288791)\"},{\"success\":false,\"error\":\"An item with this hash already exists (ids: 933288809)\"},{\"success\":false,\"error\":\"An item with this hash already exists (ids: 933288820)\"},{\"success\":false,\"error\":\"An item with this hash already exists (ids: 933288829)\"},{\"success\":false,\"error\":\"An item with this hash already exists (ids: 933288838)\"},{\"success\":false,\"error\":\"An item with this hash already exists (ids: 933288845)\"},{\"success\":false,\"error\":\"An item with this hash already exists (ids: 933288859)\"},{\"success\":false,\"error\":\"An item with this hash already exists (ids: 933288870)\"},{\"success\":false,\"error\":\"An item with this hash already exists (ids: 933288881)\"},{\"success\":false,\"error\":\"An item with this hash already exists (ids: 933288891)\"},{\"success\":false,\"error\":\"An item with this hash already exists (ids: 933288906)\"},{\"success\":false,\"error\":\"An item with this hash already exists (ids: 933288923)\"},{\"success\":false,\"error\":\"An item with this hash already exists (ids: 933288934)\"},{\"success\":false,\"error\":\"An item with this hash already exists (ids: 933288944)\"}]}'\n",
      "all_defect_cookies 100\n",
      "Uploading defect cookies testing\n",
      "Uploaded file(s) to Edge Impulse\n",
      " 200 b'{\"success\":true,\"files\":[{\"success\":false,\"error\":\"An item with this hash already exists (ids: 933289018)\"},{\"success\":false,\"error\":\"An item with this hash already exists (ids: 933289032)\"},{\"success\":false,\"error\":\"An item with this hash already exists (ids: 933289040)\"},{\"success\":false,\"error\":\"An item with this hash already exists (ids: 933289057)\"},{\"success\":false,\"error\":\"An item with this hash already exists (ids: 933289066)\"},{\"success\":false,\"error\":\"An item with this hash already exists (ids: 933289084)\"},{\"success\":false,\"error\":\"An item with this hash already exists (ids: 933289093)\"},{\"success\":false,\"error\":\"An item with this hash already exists (ids: 933289109)\"},{\"success\":false,\"error\":\"An item with this hash already exists (ids: 933289120)\"},{\"success\":false,\"error\":\"An item with this hash already exists (ids: 933289140)\"},{\"success\":false,\"error\":\"An item with this hash already exists (ids: 933289149)\"},{\"success\":false,\"error\":\"An item with this hash already exists (ids: 933289170)\"},{\"success\":false,\"error\":\"An item with this hash already exists (ids: 933289183)\"},{\"success\":false,\"error\":\"An item with this hash already exists (ids: 933289196)\"},{\"success\":false,\"error\":\"An item with this hash already exists (ids: 933289202)\"},{\"success\":false,\"error\":\"An item with this hash already exists (ids: 933289223)\"},{\"success\":false,\"error\":\"An item with this hash already exists (ids: 933289234)\"},{\"success\":false,\"error\":\"An item with this hash already exists (ids: 933289250)\"},{\"success\":false,\"error\":\"An item with this hash already exists (ids: 933289258)\"},{\"success\":false,\"error\":\"An item with this hash already exists (ids: 933289272)\"},{\"success\":false,\"error\":\"An item with this hash already exists (ids: 933289281)\"},{\"success\":false,\"error\":\"An item with this hash already exists (ids: 933289288)\"},{\"success\":false,\"error\":\"An item with this hash already exists (ids: 933289300)\"},{\"success\":false,\"error\":\"An item with this hash already exists (ids: 933289311)\"},{\"success\":false,\"error\":\"An item with this hash already exists (ids: 933289322)\"},{\"success\":false,\"error\":\"An item with this hash already exists (ids: 933289337)\"},{\"success\":false,\"error\":\"An item with this hash already exists (ids: 933289348)\"},{\"success\":false,\"error\":\"An item with this hash already exists (ids: 933289365)\"},{\"success\":false,\"error\":\"An item with this hash already exists (ids: 933289377)\"},{\"success\":false,\"error\":\"An item with this hash already exists (ids: 933289391)\"},{\"success\":false,\"error\":\"An item with this hash already exists (ids: 933289406)\"},{\"success\":false,\"error\":\"An item with this hash already exists (ids: 933289419)\"},{\"success\":false,\"error\":\"An item with this hash already exists (ids: 933289435)\"},{\"success\":false,\"error\":\"An item with this hash already exists (ids: 933289453)\"},{\"success\":false,\"error\":\"An item with this hash already exists (ids: 933289464)\"},{\"success\":false,\"error\":\"An item with this hash already exists (ids: 933289476)\"},{\"success\":false,\"error\":\"An item with this hash already exists (ids: 933289488)\"},{\"success\":false,\"error\":\"An item with this hash already exists (ids: 933289501)\"},{\"success\":false,\"error\":\"An item with this hash already exists (ids: 933289513)\"},{\"success\":false,\"error\":\"An item with this hash already exists (ids: 933289526)\"},{\"success\":false,\"error\":\"An item with this hash already exists (ids: 933289534)\"},{\"success\":false,\"error\":\"An item with this hash already exists (ids: 933289543)\"},{\"success\":false,\"error\":\"An item with this hash already exists (ids: 933289555)\"},{\"success\":false,\"error\":\"An item with this hash already exists (ids: 933289562)\"},{\"success\":false,\"error\":\"An item with this hash already exists (ids: 933289573)\"},{\"success\":false,\"error\":\"An item with this hash already exists (ids: 933289592)\"},{\"success\":false,\"error\":\"An item with this hash already exists (ids: 933289612)\"},{\"success\":false,\"error\":\"An item with this hash already exists (ids: 933289624)\"},{\"success\":false,\"error\":\"An item with this hash already exists (ids: 933289639)\"},{\"success\":false,\"error\":\"An item with this hash already exists (ids: 933289652)\"},{\"success\":false,\"error\":\"An item with this hash already exists (ids: 933289691)\"},{\"success\":false,\"error\":\"An item with this hash already exists (ids: 933289707)\"},{\"success\":false,\"error\":\"An item with this hash already exists (ids: 933289718)\"},{\"success\":false,\"error\":\"An item with this hash already exists (ids: 933289737)\"},{\"success\":false,\"error\":\"An item with this hash already exists (ids: 933289738)\"},{\"success\":false,\"error\":\"An item with this hash already exists (ids: 933289742)\"},{\"success\":false,\"error\":\"An item with this hash already exists (ids: 933289745)\"},{\"success\":false,\"error\":\"An item with this hash already exists (ids: 933289749)\"},{\"success\":false,\"error\":\"An item with this hash already exists (ids: 933289752)\"},{\"success\":false,\"error\":\"An item with this hash already exists (ids: 933289755)\"},{\"success\":false,\"error\":\"An item with this hash already exists (ids: 933289757)\"},{\"success\":false,\"error\":\"An item with this hash already exists (ids: 933289760)\"},{\"success\":false,\"error\":\"An item with this hash already exists (ids: 933289763)\"},{\"success\":false,\"error\":\"An item with this hash already exists (ids: 933289766)\"},{\"success\":false,\"error\":\"An item with this hash already exists (ids: 933289768)\"},{\"success\":false,\"error\":\"An item with this hash already exists (ids: 933289772)\"},{\"success\":false,\"error\":\"An item with this hash already exists (ids: 933289775)\"},{\"success\":false,\"error\":\"An item with this hash already exists (ids: 933289778)\"},{\"success\":false,\"error\":\"An item with this hash already exists (ids: 933289782)\"},{\"success\":false,\"error\":\"An item with this hash already exists (ids: 933289785)\"},{\"success\":false,\"error\":\"An item with this hash already exists (ids: 933289788)\"},{\"success\":false,\"error\":\"An item with this hash already exists (ids: 933289789)\"},{\"success\":false,\"error\":\"An item with this hash already exists (ids: 933289793)\"},{\"success\":false,\"error\":\"An item with this hash already exists (ids: 933289797)\"},{\"success\":false,\"error\":\"An item with this hash already exists (ids: 933289800)\"},{\"success\":false,\"error\":\"An item with this hash already exists (ids: 933289805)\"},{\"success\":false,\"error\":\"An item with this hash already exists (ids: 933289808)\"},{\"success\":false,\"error\":\"An item with this hash already exists (ids: 933289813)\"},{\"success\":false,\"error\":\"An item with this hash already exists (ids: 933289820)\"},{\"success\":false,\"error\":\"An item with this hash already exists (ids: 933289840)\"},{\"success\":false,\"error\":\"An item with this hash already exists (ids: 933289845)\"},{\"success\":false,\"error\":\"An item with this hash already exists (ids: 933289850)\"},{\"success\":false,\"error\":\"An item with this hash already exists (ids: 933289873)\"},{\"success\":false,\"error\":\"An item with this hash already exists (ids: 933289879)\"},{\"success\":false,\"error\":\"An item with this hash already exists (ids: 933289891)\"},{\"success\":false,\"error\":\"An item with this hash already exists (ids: 933289908)\"},{\"success\":false,\"error\":\"An item with this hash already exists (ids: 933289913)\"},{\"success\":false,\"error\":\"An item with this hash already exists (ids: 933289919)\"},{\"success\":false,\"error\":\"An item with this hash already exists (ids: 933289933)\"},{\"success\":false,\"error\":\"An item with this hash already exists (ids: 933289946)\"},{\"success\":false,\"error\":\"An item with this hash already exists (ids: 933289953)\"},{\"success\":false,\"error\":\"An item with this hash already exists (ids: 933289966)\"},{\"success\":false,\"error\":\"An item with this hash already exists (ids: 933289980)\"},{\"success\":false,\"error\":\"An item with this hash already exists (ids: 933289988)\"},{\"success\":false,\"error\":\"An item with this hash already exists (ids: 933290010)\"},{\"success\":false,\"error\":\"An item with this hash already exists (ids: 933290024)\"},{\"success\":false,\"error\":\"An item with this hash already exists (ids: 933290037)\"},{\"success\":false,\"error\":\"An item with this hash already exists (ids: 933290061)\"},{\"success\":false,\"error\":\"An item with this hash already exists (ids: 933290066)\"},{\"success\":false,\"error\":\"An item with this hash already exists (ids: 933290075)\"}]}'\n",
      "Done\n"
     ]
    }
   ],
   "source": [
    "# You can run this multiple time without affecting existing files.\n",
    "\n",
    "def upload_data(category, files, label):\n",
    "    \"\"\"\n",
    "    Upload data to a specific project category via the Edge Impulse API.  \n",
    "  \n",
    "    Args:  \n",
    "        category (str): The category of data (e.g., 'training', 'testing').  \n",
    "        files (list): List of file paths to upload.  \n",
    "        label (str): Label to assign to the uploaded data.  \n",
    "    \"\"\"  \n",
    "    res = requests.post(\n",
    "        f\"https://ingestion.edgeimpulse.com/api/{category}/files\", \n",
    "        headers={\"x-api-key\": cfg[\"project_api_key\"], \"x-label\": label, \"x-disallow-duplicates\": \"1\"},\n",
    "        # Creating the data payload for the request.\n",
    "        files=(('data', (os.path.basename(i), open(\n",
    "            i, 'rb'), 'image/jpg')) for i in files)\n",
    "        )\n",
    "    \n",
    "    if (res.status_code == 200):\n",
    "        print('Uploaded file(s) to Edge Impulse\\n', res.status_code, res.content)\n",
    "    else:\n",
    "        print('Failed to upload file(s) to Edge Impulse\\n',\n",
    "          res.status_code, res.content)\n",
    "\n",
    "# Define dataset paths  \n",
    "dataset_path_good=f\"{cfg['dataset_path']}/no_anomaly\"\n",
    "dataset_path_defect_1=f\"{cfg['dataset_path']}/anomaly_lvl_1\"\n",
    "dataset_path_defect_2=f\"{cfg['dataset_path']}/anomaly_lvl_2\"\n",
    "dataset_path_defect_3=f\"{cfg['dataset_path']}/anomaly_lvl_3\"\n",
    "\n",
    "# List all jpg files for good cookies  \n",
    "all_good_cookies=[f\"{dataset_path_good}/{f}\" for f in os.listdir(dataset_path_good) if f.endswith('.jpg')]\n",
    "random.seed(42)\n",
    "random.shuffle(all_good_cookies)\n",
    "\n",
    "# Split good cookies data into training and testing sets  \n",
    "train_good_cookies = all_good_cookies[:-20]\n",
    "test_good_cookies = all_good_cookies[-20:]\n",
    "\n",
    "print(\"train_good_cookies len\", len(train_good_cookies))\n",
    "print(\"test_good_cookies len\", len(test_good_cookies))\n",
    "# Upload the good cookies dataset  \n",
    "\n",
    "print(\"Uploading good cookies training\")\n",
    "upload_data(\"training\", train_good_cookies, \"no anomaly\") # \"no anomaly\" and \"anomaly\" is important!\n",
    "print(\"Uploading good cookies testing\")\n",
    "upload_data(\"testing\", test_good_cookies, \"no anomaly\")\n",
    "\n",
    "# List all jpg files for defective cookies across different levels  \n",
    "all_defect_cookies_lvl_1=[f\"{dataset_path_defect_1}/{f}\" for f in os.listdir(dataset_path_defect_1) if f.endswith('.jpg')]\n",
    "all_defect_cookies_lvl_2=[f\"{dataset_path_defect_2}/{f}\" for f in os.listdir(dataset_path_defect_2) if f.endswith('.jpg')]\n",
    "all_defect_cookies_lvl_3=[f\"{dataset_path_defect_3}/{f}\" for f in os.listdir(dataset_path_defect_3) if f.endswith('.jpg')]\n",
    "all_defect_cookies = all_defect_cookies_lvl_1 + all_defect_cookies_lvl_2 + all_defect_cookies_lvl_3  \n",
    "\n",
    "print(\"all_defect_cookies\", len(all_defect_cookies))\n",
    "\n",
    "# Upload the defective cookies dataset  \n",
    "print(\"Uploading defect cookies testing\")\n",
    "upload_data(\"testing\", all_defect_cookies, \"anomaly\")\n",
    "print(\"Done\")"
   ]
  },
  {
   "cell_type": "markdown",
   "metadata": {},
   "source": [
    "## Create an impulse"
   ]
  },
  {
   "cell_type": "code",
   "execution_count": 6,
   "metadata": {},
   "outputs": [
    {
     "data": {
      "text/plain": [
       "{'success': True,\n",
       " 'impulse': {'inputBlocks': [{'db': False,\n",
       "    'id': 11,\n",
       "    'name': 'Image data',\n",
       "    'type': 'image',\n",
       "    'title': 'Image data',\n",
       "    'enabled': True,\n",
       "    'createdBy': 'clone',\n",
       "    'cropAnchor': 'middle-center',\n",
       "    'imageWidth': 160,\n",
       "    'resizeMode': 'squash',\n",
       "    'description': 'EON Tuner Primary',\n",
       "    'imageHeight': 160,\n",
       "    'resizeMethod': 'lanczos3',\n",
       "    'labelingMethod': 'single_label',\n",
       "    'tunerTemplateId': -1,\n",
       "    'createdAt': '2024-04-16T08:16:51.849Z',\n",
       "    'mutated': False,\n",
       "    'clonedFromBlockId': 4516308,\n",
       "    'primaryVersion': True}],\n",
       "  'dspBlocks': [{'db': False,\n",
       "    'id': 12,\n",
       "    'axes': ['image'],\n",
       "    'name': 'Image',\n",
       "    'type': 'image',\n",
       "    'input': 11,\n",
       "    'title': 'Image',\n",
       "    'enabled': True,\n",
       "    'autotune': False,\n",
       "    'createdBy': 'clone',\n",
       "    'description': 'EON Tuner Primary',\n",
       "    'tunerTemplateId': -1,\n",
       "    'implementationVersion': 1,\n",
       "    'createdAt': '2024-04-16T08:16:51.849Z',\n",
       "    'mutated': False,\n",
       "    'clonedFromBlockId': 4516309,\n",
       "    'primaryVersion': True}],\n",
       "  'learnBlocks': [{'id': 15,\n",
       "    'type': 'keras-visual-anomaly',\n",
       "    'name': 'FOMO-AD',\n",
       "    'dsp': [12],\n",
       "    'title': 'FOMO-AD (Images)',\n",
       "    'primaryVersion': True,\n",
       "    'createdBy': 'createImpulse',\n",
       "    'createdAt': '2024-04-16T09:04:22.040Z',\n",
       "    'mutated': True}]}}"
      ]
     },
     "execution_count": 6,
     "metadata": {},
     "output_type": "execute_result"
    }
   ],
   "source": [
    "def get_impulse(projectId):  \n",
    "    \"\"\"    \n",
    "    Fetches the impulse configuration for a given project ID.  \n",
    "        \n",
    "    Args:    \n",
    "        projectId: str. ID of the project from which to fetch the impulse configuration.  \n",
    "        \n",
    "    Returns:    \n",
    "        dict: The impulse configuration in JSON format.  \n",
    "    \"\"\"    \n",
    "    response = requests.get(f\"https://studio.edgeimpulse.com/v1/api/{projectId}/impulse\",  \n",
    "                            headers={\"x-jwt-token\": token})  \n",
    "    res = response.json()  \n",
    "    return res \n",
    "\n",
    "# get_impulse(project_fomoad[\"id\"])\n",
    "get_impulse(project[\"id\"])"
   ]
  },
  {
   "cell_type": "code",
   "execution_count": 8,
   "metadata": {},
   "outputs": [],
   "source": [
    "# DEFAULT LEARNING BLOCK\n",
    "# I got it from creating one manually then reading the API output from the browser's console.\n",
    "# It might not be up to date with the current one. Last update: April 2024.\n",
    "default_impulse_payload = {\n",
    "    \"inputBlocks\": [\n",
    "      {\n",
    "        \"db\": False,\n",
    "        \"id\": 11,\n",
    "        \"name\": \"Image data\",\n",
    "        \"type\": \"image\",\n",
    "        \"title\": \"Image data\",\n",
    "        \"enabled\": True,\n",
    "        \"createdBy\": \"clone\",\n",
    "        \"cropAnchor\": \"middle-center\",\n",
    "        \"imageWidth\": 160,\n",
    "        \"resizeMode\": \"squash\",\n",
    "        \"description\": \"EON Tuner Primary\",\n",
    "        \"imageHeight\": 160,\n",
    "        \"resizeMethod\": \"lanczos3\",\n",
    "        \"labelingMethod\": \"single_label\",\n",
    "        # \"primaryVersion\": True,\n",
    "        \"tunerTemplateId\": -1,\n",
    "        \"createdAt\": \"2024-04-16T08:16:51.849Z\",\n",
    "        \"mutated\": False,\n",
    "        \"clonedFromBlockId\": 4516308,\n",
    "        # \"tunerPrimary\": True\n",
    "      }\n",
    "    ],\n",
    "    \"dspBlocks\": [\n",
    "      {\n",
    "        \"db\": False,\n",
    "        \"id\": 12,\n",
    "        \"axes\": [\n",
    "          \"image\"\n",
    "        ],\n",
    "        \"name\": \"Image\",\n",
    "        \"type\": \"image\",\n",
    "        \"input\": 11,\n",
    "        \"title\": \"Image\",\n",
    "        \"enabled\": True,\n",
    "        \"autotune\": False,\n",
    "        \"createdBy\": \"clone\",\n",
    "        \"description\": \"EON Tuner Primary\",\n",
    "        # \"primaryVersion\": True,\n",
    "        \"tunerTemplateId\": -1,\n",
    "        \"implementationVersion\": 1,\n",
    "        \"createdAt\": \"2024-04-16T08:16:51.849Z\",\n",
    "        \"mutated\": False,\n",
    "        \"clonedFromBlockId\": 4516309,\n",
    "        # \"tunerPrimary\": True\n",
    "      }\n",
    "    ],\n",
    "    \"learnBlocks\": [\n",
    "      {\n",
    "        \"id\": 15,\n",
    "        \"type\": \"keras-visual-anomaly\",\n",
    "        \"name\": \"FOMO-AD\",\n",
    "        \"dsp\": [\n",
    "          12\n",
    "        ],\n",
    "        \"title\": \"FOMO-AD (Images)\",\n",
    "        \"primaryVersion\": True,\n",
    "        \"createdBy\": \"createImpulse\",\n",
    "        \"createdAt\": \"2024-04-16T09:04:22.040Z\"\n",
    "      }\n",
    "    ]\n",
    "}"
   ]
  },
  {
   "cell_type": "code",
   "execution_count": 9,
   "metadata": {},
   "outputs": [
    {
     "data": {
      "text/plain": [
       "{'success': True}"
      ]
     },
     "execution_count": 9,
     "metadata": {},
     "output_type": "execute_result"
    }
   ],
   "source": [
    "def delete_impulse(projectId):  \n",
    "    \"\"\"    \n",
    "    Deletes the impulse configuration for a given project ID.  \n",
    "        \n",
    "    Args:    \n",
    "        projectId: str. ID of the project for which to delete the impulse configuration.  \n",
    "        \n",
    "    Returns:    \n",
    "        dict: The result of the deletion in JSON format.  \n",
    "    \"\"\"    \n",
    "    response = requests.delete(f\"https://studio.edgeimpulse.com/v1/api/{projectId}/impulse\",  \n",
    "                               headers={\"x-jwt-token\": token})  \n",
    "    res = response.json()  \n",
    "    return res  \n",
    "\n",
    "def create_impulse(projectId, payload):  \n",
    "    \"\"\"    \n",
    "    Creates or updates the impulse configuration for a project based on the provided payload.  \n",
    "        \n",
    "    Args:    \n",
    "        projectId: str. ID of the project for which to create or update the impulse configuration.  \n",
    "        payload: dict. Configuration details necessary to create or update the impulse.  \n",
    "        \n",
    "    Returns:    \n",
    "        dict: The result of the impulse creation or update in JSON format.  \n",
    "    \"\"\"    \n",
    "    delete_impulse(projectId)  \n",
    "    response = requests.post(f\"https://studio.edgeimpulse.com/v1/api/{projectId}/impulse\",  \n",
    "                             json=payload, headers={\"x-jwt-token\": token})  \n",
    "    res = response.json()  \n",
    "    return res  \n",
    "\n",
    "create_impulse(project[\"id\"], default_impulse_payload)"
   ]
  },
  {
   "cell_type": "markdown",
   "metadata": {},
   "source": [
    "## Generate features"
   ]
  },
  {
   "cell_type": "code",
   "execution_count": 12,
   "metadata": {},
   "outputs": [],
   "source": [
    "def get_jobs(projectId):  \n",
    "    \"\"\"    \n",
    "    Fetches all jobs for a given project ID.  \n",
    "        \n",
    "    Args:    \n",
    "        projectId: str. ID of the project from which to fetch all jobs.  \n",
    "        \n",
    "    Returns:    \n",
    "        dict: Information about all jobs in JSON format.  \n",
    "    \"\"\"    \n",
    "    response = requests.get(f\"https://studio.edgeimpulse.com/v1/api/{projectId}/jobs/all\",  \n",
    "                            headers={\"x-jwt-token\": token})  \n",
    "    res = response.json()  \n",
    "    return res  \n",
    "\n",
    "def get_job_status(projectId, jobId):  \n",
    "    \"\"\"    \n",
    "    Fetches the status of a specific job for a given project ID.  \n",
    "        \n",
    "    Args:    \n",
    "        projectId: str. ID of the project.  \n",
    "        jobId: str. Specific job ID to fetch the status for.  \n",
    "        \n",
    "    Returns:    \n",
    "        dict: Status of the job in JSON format.  \n",
    "    \"\"\"  \n",
    "    response = requests.get(f\"https://studio.edgeimpulse.com/v1/api/{projectId}/jobs/{jobId}/status\",  \n",
    "                            headers={\"x-jwt-token\": token})  \n",
    "    res = response.json()  \n",
    "    return res[\"job\"]\n",
    "\n",
    "def get_job_output(projectId, jobId):  \n",
    "    \"\"\"    \n",
    "    Fetches the output of a specific job for a given project ID.  \n",
    "        \n",
    "    Args:    \n",
    "        projectId: str. ID of the project.  \n",
    "        jobId: str. Specific job ID to fetch the output for.  \n",
    "        \n",
    "    Returns:    \n",
    "        dict: Output of the job in JSON format.  \n",
    "    \"\"\"  \n",
    "    response = requests.get(f\"https://studio.edgeimpulse.com/v1/api/{projectId}/jobs/{jobId}/stdout\",  \n",
    "                            headers={\"x-jwt-token\": token})  \n",
    "    res = response.json()  \n",
    "    return res \n",
    "\n",
    "def generate_feature(projectId):  \n",
    "    \"\"\"    \n",
    "    Generates feature data for a project based on specific DSP configuration parameters.  \n",
    "        \n",
    "    Args:    \n",
    "        projectId: str. ID of the project to generate features for.  \n",
    "        \n",
    "    Returns:    \n",
    "        str: ID of the job handling feature generation.  \n",
    "    \"\"\"   \n",
    "    payload = {  \n",
    "        \"dspId\": 12,  \n",
    "        \"calculateFeatureImportance\": False  \n",
    "    }  \n",
    "    response = requests.post(f\"https://studio.edgeimpulse.com/v1/api/{projectId}/jobs/generate-features\",  \n",
    "                             json=payload, headers={\"x-jwt-token\": token})  \n",
    "    res = response.json()  \n",
    "    return res[\"id\"]  "
   ]
  },
  {
   "cell_type": "code",
   "execution_count": 11,
   "metadata": {},
   "outputs": [
    {
     "name": "stdout",
     "output_type": "stream",
     "text": [
      "18483524\n"
     ]
    }
   ],
   "source": [
    "job_id = generate_feature(project[\"id\"])\n",
    "print(job_id)"
   ]
  },
  {
   "cell_type": "code",
   "execution_count": 12,
   "metadata": {},
   "outputs": [
    {
     "data": {
      "text/plain": [
       "{'id': 18483524,\n",
       " 'category': 'Generating features (Image)',\n",
       " 'key': 'dsp-studio-wrapper-12',\n",
       " 'created': '2024-04-17T15:33:30.865Z',\n",
       " 'jobNotificationUids': [],\n",
       " 'additionalInfo': 'Image',\n",
       " 'computeTime': 0,\n",
       " 'createdByUser': {'id': 175414,\n",
       "  'name': 'math-pro',\n",
       "  'username': 'callmemath-pro'}}"
      ]
     },
     "execution_count": 12,
     "metadata": {},
     "output_type": "execute_result"
    }
   ],
   "source": [
    "get_job_status(project[\"id\"], job_id)"
   ]
  },
  {
   "cell_type": "code",
   "execution_count": 13,
   "metadata": {},
   "outputs": [
    {
     "name": "stdout",
     "output_type": "stream",
     "text": [
      "- Generating feature still in progress, waiting 10sec\n",
      "- Generating feature still in progress, waiting 10sec\n",
      "- Generating feature still in progress, waiting 10sec\n",
      "- Generating feature still in progress, waiting 10sec\n",
      "- Generating feature still in progress, waiting 10sec\n",
      "Feature generated!\n"
     ]
    }
   ],
   "source": [
    "# Wait until the job is done\n",
    "while True:  \n",
    "    status = get_job_status(project[\"id\"], job_id)  \n",
    "    if \"finishedSuccessful\" in status and status[\"finishedSuccessful\"]:\n",
    "        print(\"Feature generated!\") \n",
    "        break  \n",
    "    if \"finished\" in status and status[\"finished\"]:\n",
    "        print(\"Generating done not successful\", status) \n",
    "        break\n",
    "    \n",
    "    print(\"- Generating feature still in progress, waiting 10sec\")\n",
    "    time.sleep(10)"
   ]
  },
  {
   "cell_type": "markdown",
   "metadata": {},
   "source": [
    "## Train the model"
   ]
  },
  {
   "cell_type": "markdown",
   "metadata": {},
   "source": [
    "### Option 1: Default training configuration"
   ]
  },
  {
   "cell_type": "code",
   "execution_count": null,
   "metadata": {},
   "outputs": [
    {
     "name": "stdout",
     "output_type": "stream",
     "text": [
      "Skipping training, will use transformation blocks instead\n"
     ]
    }
   ],
   "source": [
    "def train_model_keras(projectId, learnId):  \n",
    "    \"\"\"    \n",
    "    Trigger a machine learning model training on a Edge Impulse\n",
    "    using the proper configuration for anomaly training.\n",
    "        \n",
    "    Args:    \n",
    "        projectId: str. Unique identifier for the project.  \n",
    "        learnId: str. Identifier for the learning block to be trained.  \n",
    "        \n",
    "    Returns:    \n",
    "        str: Unique job identifier for the triggered training.  \n",
    "    \"\"\"\n",
    "    \n",
    "    # Set up the payload with training parameters (Seen on the API while testing manually on the browser)\n",
    "    payload = {\n",
    "        \"trainTestSplit\": 0.2,\n",
    "        \"customValidationMetadataKey\": \"\",\n",
    "        \"autoClassWeights\": False,\n",
    "        \"profileInt8\": True,\n",
    "        \"learningRate\": 0.01,\n",
    "        \"trainingCycles\": 1,\n",
    "        \"visualLayers\": [\n",
    "            {\n",
    "                \"type\": \"transfer_mobilenetv2_a35\"\n",
    "            }\n",
    "        ],\n",
    "        \"augmentationPolicyImage\": \"none\",\n",
    "        \"anomalyCapacity\": \"low\",\n",
    "        \"customParameters\": {}\n",
    "    }\n",
    "    \n",
    "    # Make an API request to start training  \n",
    "    response = requests.post(f\"https://studio.edgeimpulse.com/v1/api/{projectId}/jobs/train/keras/{learnId}\", json=payload, headers={\"x-jwt-token\": token})\n",
    "    res = response.json()\n",
    "    return res[\"id\"]\n",
    "\n",
    "# If you haven't defined an organisation, run the training\n",
    "if cfg[\"organization_id\"] == 0:\n",
    "    \n",
    "    # Start training and get job ID  \n",
    "    job_id_train = train_model_keras(project[\"id\"], default_impulse_payload[\"learnBlocks\"][0][\"id\"])\n",
    "    \n",
    "    while True:\n",
    "        # Monitor the status of the training job  \n",
    "        status = get_job_status(project[\"id\"], job_id_train)\n",
    "        \n",
    "        if \"finishedSuccessful\" in status and status[\"finishedSuccessful\"]:\n",
    "            print(\"Training done\") \n",
    "            break\n",
    "        \n",
    "        if \"finished\" in status and status[\"finished\"]:\n",
    "            print(\"Training done not successful\", status) \n",
    "            break\n",
    "        \n",
    "        print(\"- Training is still in progress, waiting 10sec...\")\n",
    "        time.sleep(10)\n",
    "        \n",
    "else:\n",
    "    print(\"Skipping training, will use transformation blocks instead\")\n",
    "    "
   ]
  },
  {
   "cell_type": "markdown",
   "metadata": {},
   "source": [
    "### Option 2: Find the best model and configuration from your data"
   ]
  },
  {
   "cell_type": "code",
   "execution_count": 65,
   "metadata": {},
   "outputs": [
    {
     "name": "stdout",
     "output_type": "stream",
     "text": [
      "https://studio.edgeimpulse.com/v1/api/organizations/105154/pipelines/3928/run\n"
     ]
    },
    {
     "data": {
      "text/plain": [
       "{'success': True,\n",
       " 'pipelineRun': {'id': 429023,\n",
       "  'created': '2024-04-17T17:09:02.519Z',\n",
       "  'steps': [{'name': 'Import data using \"Find best Visual AD model\" - Import data using Find best Visual AD model - 2024-04-17T17:09:02.448Z',\n",
       "    'transformationJob': {'id': 576931,\n",
       "     'organizationId': 105154,\n",
       "     'name': 'Import data using \"Find best Visual AD model\" - Import data using Find best Visual AD model - 2024-04-17T17:09:02.448Z',\n",
       "     'uploadJobStatus': 'waiting',\n",
       "     'uploadType': 'project',\n",
       "     'projectId': 0,\n",
       "     'projectName': '',\n",
       "     'transformationBlockId': 5671,\n",
       "     'transformationBlockName': 'Find best Visual AD model',\n",
       "     'category': 'training',\n",
       "     'created': '2024-04-17T17:09:02.459Z',\n",
       "     'totalDownloadFileCount': 0,\n",
       "     'totalDownloadFileSize': 0,\n",
       "     'totalDownloadFileSizeString': '0 Bytes',\n",
       "     'totalUploadFileCount': 0,\n",
       "     'transformationSummary': {'startedCount': 0,\n",
       "      'finishedCount': 0,\n",
       "      'succeededCount': 0,\n",
       "      'totalFileCount': 0,\n",
       "      'totalTimeSpentSeconds': 0},\n",
       "     'transformationParallel': 3,\n",
       "     'emailRecipientUids': [0],\n",
       "     'transformJobStatus': 'finished',\n",
       "     'inProgress': False,\n",
       "     'pipelineId': 3928,\n",
       "     'pipelineRunId': 429023,\n",
       "     'pipelineStep': 1,\n",
       "     'pipelineName': 'Import data using \"Find best Visual AD model\"',\n",
       "     'status': 'waiting',\n",
       "     'operatesOn': 'standalone',\n",
       "     'totalTimeSpentSeconds': 0,\n",
       "     'totalTimeSpentString': '0s'}},\n",
       "   {'name': 'Retrain model'}]}}"
      ]
     },
     "execution_count": 65,
     "metadata": {},
     "output_type": "execute_result"
    }
   ],
   "source": [
    "def run_pipeline():\n",
    "    \"\"\"  \n",
    "    Initiates a run of the configured data pipeline\n",
    "      \n",
    "    Returns:  \n",
    "        dict: The JSON response from the API.  \n",
    "    \"\"\"  \n",
    "    print(f\"https://studio.edgeimpulse.com/v1/api/organizations/{cfg['organization_id']}/pipelines/{cfg['pipeline_id']}/run\")\n",
    "    response = requests.post(f\"https://studio.edgeimpulse.com/v1/api/organizations/{cfg['organization_id']}/pipelines/{cfg['pipeline_id']}/run\", headers={\"x-api-key\": cfg[\"organization_api_key\"]})\n",
    "    return response.json()\n",
    "\n",
    "# Only run if an organization is defined\n",
    "if cfg[\"organization_id\"]:\n",
    "    pass\n",
    "else:\n",
    "    pipeline = run_pipeline()\n",
    "\n"
   ]
  },
  {
   "cell_type": "markdown",
   "metadata": {},
   "source": [
    "## Export your model"
   ]
  },
  {
   "cell_type": "code",
   "execution_count": 9,
   "metadata": {},
   "outputs": [],
   "source": [
    "def get_deployment_targets(projectId):  \n",
    "    \"\"\"  \n",
    "    Retrieves deployment targets available for a given project.  \n",
    "      \n",
    "    Args:  \n",
    "        projectId (str): The project ID  \n",
    "      \n",
    "    Returns:  \n",
    "        list: A list of deployment targets  \n",
    "    \"\"\"  \n",
    "\n",
    "    response = requests.get(f\"https://studio.edgeimpulse.com/v1/api/{projectId}/deployment/targets\", headers={\"x-jwt-token\": token})\n",
    "    res = response.json()\n",
    "    return res[\"targets\"]\n",
    "\n",
    "def build_model(projectId, eim_type=\"runner-mac-x86_64\"):  \n",
    "    \"\"\"  \n",
    "    Requests the building of an on-device model for a specified project.  \n",
    "      \n",
    "    Args:  \n",
    "        projectId (str): The project ID.  \n",
    "        eim_type (str): Type of the executable inference model.  \n",
    "      \n",
    "    Returns:  \n",
    "        str: The job ID for the model building task.  \n",
    "    \"\"\"  \n",
    "    payload = {\n",
    "       \"engine\": \"tflite\"\n",
    "    }\n",
    "    response = requests.post(f\"https://studio.edgeimpulse.com/v1/api/{projectId}/jobs/build-ondevice-model?type={eim_type}\", json=payload, headers={\"x-jwt-token\": token})\n",
    "    res = response.json()\n",
    "    return res[\"id\"]\n",
    "\n",
    "def download_model_built(projectId, eim_type=\"runner-mac-x86_64\"):  \n",
    "    \"\"\"  \n",
    "    Retrieves a built model for a specified project and model type.  \n",
    "      \n",
    "    Args:  \n",
    "        projectId (str): The project ID.  \n",
    "        eim_type (str): Type of the executable inference model.  \n",
    "      \n",
    "    Returns:  \n",
    "        Response: A response object containing the binary model data.  \n",
    "    \"\"\" \n",
    "    payload = {\n",
    "       \"engine\": \"tflite\"\n",
    "    }\n",
    "    response = requests.get(f\"https://studio.edgeimpulse.com/v1/api/{projectId}/deployment/download?type={eim_type}\", headers={\"x-jwt-token\": token})\n",
    "    return response\n",
    "\n",
    "def build_and_download_model(projectId, extension=\"eim\",eim_type=\"runner-mac-x86_64\"):  \n",
    "    \"\"\"  \n",
    "    Orchestrates the building and downloading of a model for a specified project.  \n",
    "      \n",
    "    Args:  \n",
    "        projectId (str): The project ID.  \n",
    "        extension (str): File extension for the downloaded model.  \n",
    "        eim_type (str): Type of the executable inference model.  \n",
    "    \"\"\" \n",
    "    job_id_build = build_model(projectId)\n",
    "    while True:\n",
    "        status = get_job_status(projectId, job_id_build)  \n",
    "        if \"finishedSuccessful\" in status and status[\"finishedSuccessful\"]:\n",
    "            print(\"Building done\") \n",
    "            break  \n",
    "        if \"finished\" in status and status[\"finished\"]:\n",
    "            print(\"Building done not successful\", status) \n",
    "            break  \n",
    "        \n",
    "        print(\"- Building is still in progress, waiting 10sec...\")\n",
    "        time.sleep(10)\n",
    "        \n",
    "    data = download_model_built(projectId)\n",
    "    os.makedirs(cfg[\"output_path\"], exist_ok=True)\n",
    "    with open(f'{cfg[\"output_path\"]}/fomoad_{eim_type}.{extension}', 'wb') as f:\n",
    "        f.write(data.content)\n"
   ]
  },
  {
   "cell_type": "code",
   "execution_count": 13,
   "metadata": {},
   "outputs": [
    {
     "name": "stdout",
     "output_type": "stream",
     "text": [
      "- Building is still in progress, waiting 10sec...\n",
      "- Building is still in progress, waiting 10sec...\n",
      "- Building is still in progress, waiting 10sec...\n",
      "- Building is still in progress, waiting 10sec...\n",
      "Building done\n",
      "- Building is still in progress, waiting 10sec...\n",
      "- Building is still in progress, waiting 10sec...\n",
      "- Building is still in progress, waiting 10sec...\n",
      "- Building is still in progress, waiting 10sec...\n",
      "Building done\n"
     ]
    }
   ],
   "source": [
    "build_and_download_model(project[\"id\"])\n",
    "build_and_download_model(project[\"id\"], extension=\"wasm\", eim_type=\"wasm\")"
   ]
  },
  {
   "cell_type": "code",
   "execution_count": 14,
   "metadata": {},
   "outputs": [],
   "source": [
    "# For the macos model only, modify this path if needed\n",
    "!chmod +x \"../output/fomoad/cookies_1/fomoad_runner-mac-x86_64.eim\""
   ]
  },
  {
   "cell_type": "markdown",
   "metadata": {},
   "source": [
    "## Run the Inference on your exported model"
   ]
  },
  {
   "cell_type": "code",
   "execution_count": 19,
   "metadata": {},
   "outputs": [
    {
     "name": "stdout",
     "output_type": "stream",
     "text": [
      "Original is good\n",
      "{'anomaly': 0.0, 'visual_anomaly_grid': [], 'visual_anomaly_max': 2.5091969966888428, 'visual_anomaly_mean': 0.8197279572486877}\n",
      "\n",
      "Original is anomaly lvl 1\n",
      "{'anomaly': 0.0, 'visual_anomaly_grid': [{'height': 16, 'label': 'anomaly', 'value': 6.74155855178833, 'width': 16, 'x': 151, 'y': 101}, {'height': 16, 'label': 'anomaly', 'value': 4.752529621124268, 'width': 16, 'x': 117, 'y': 117}, {'height': 16, 'label': 'anomaly', 'value': 12.333181381225586, 'width': 16, 'x': 151, 'y': 117}, {'height': 16, 'label': 'anomaly', 'value': 4.555690288543701, 'width': 16, 'x': 168, 'y': 117}, {'height': 16, 'label': 'anomaly', 'value': 7.292279243469238, 'width': 16, 'x': 185, 'y': 117}, {'height': 16, 'label': 'anomaly', 'value': 7.878374099731445, 'width': 16, 'x': 202, 'y': 117}, {'height': 16, 'label': 'anomaly', 'value': 9.117081642150879, 'width': 16, 'x': 151, 'y': 134}, {'height': 16, 'label': 'anomaly', 'value': 7.489037990570068, 'width': 16, 'x': 168, 'y': 134}, {'height': 16, 'label': 'anomaly', 'value': 13.325844764709473, 'width': 16, 'x': 185, 'y': 134}, {'height': 16, 'label': 'anomaly', 'value': 6.4926228523254395, 'width': 16, 'x': 117, 'y': 151}, {'height': 16, 'label': 'anomaly', 'value': 10.926608085632324, 'width': 16, 'x': 134, 'y': 151}, {'height': 16, 'label': 'anomaly', 'value': 13.26594352722168, 'width': 16, 'x': 151, 'y': 151}, {'height': 16, 'label': 'anomaly', 'value': 8.373218536376953, 'width': 16, 'x': 168, 'y': 151}, {'height': 16, 'label': 'anomaly', 'value': 4.472812652587891, 'width': 16, 'x': 101, 'y': 168}, {'height': 16, 'label': 'anomaly', 'value': 6.81819486618042, 'width': 16, 'x': 117, 'y': 168}, {'height': 16, 'label': 'anomaly', 'value': 5.355188369750977, 'width': 16, 'x': 134, 'y': 168}], 'visual_anomaly_max': 13.325844764709473, 'visual_anomaly_mean': 1.1839889287948608}\n",
      "\n",
      "Original is anomaly lvl 2\n",
      "{'anomaly': 0.0, 'visual_anomaly_grid': [{'height': 16, 'label': 'anomaly', 'value': 4.478601455688477, 'width': 16, 'x': 151, 'y': 101}, {'height': 16, 'label': 'anomaly', 'value': 11.270303726196289, 'width': 16, 'x': 168, 'y': 117}, {'height': 16, 'label': 'anomaly', 'value': 10.364933013916016, 'width': 16, 'x': 168, 'y': 134}, {'height': 16, 'label': 'anomaly', 'value': 12.282515525817871, 'width': 16, 'x': 185, 'y': 134}, {'height': 16, 'label': 'anomaly', 'value': 7.404606819152832, 'width': 16, 'x': 151, 'y': 151}, {'height': 16, 'label': 'anomaly', 'value': 4.962933540344238, 'width': 16, 'x': 202, 'y': 151}, {'height': 16, 'label': 'anomaly', 'value': 4.691855430603027, 'width': 16, 'x': 117, 'y': 168}, {'height': 16, 'label': 'anomaly', 'value': 8.678184509277344, 'width': 16, 'x': 134, 'y': 168}, {'height': 16, 'label': 'anomaly', 'value': 5.46175479888916, 'width': 16, 'x': 151, 'y': 168}], 'visual_anomaly_max': 12.282515525817871, 'visual_anomaly_mean': 0.8914684057235718}\n",
      "{'anomaly': 0.0, 'visual_anomaly_grid': [{'height': 16, 'label': 'anomaly', 'value': 5.319401264190674, 'width': 16, 'x': 134, 'y': 168}, {'height': 16, 'label': 'anomaly', 'value': 14.486319541931152, 'width': 16, 'x': 151, 'y': 168}, {'height': 16, 'label': 'anomaly', 'value': 6.8735456466674805, 'width': 16, 'x': 168, 'y': 168}, {'height': 16, 'label': 'anomaly', 'value': 6.462235927581787, 'width': 16, 'x': 185, 'y': 168}, {'height': 16, 'label': 'anomaly', 'value': 4.932301998138428, 'width': 16, 'x': 134, 'y': 185}, {'height': 16, 'label': 'anomaly', 'value': 4.469750881195068, 'width': 16, 'x': 151, 'y': 185}, {'height': 16, 'label': 'anomaly', 'value': 7.011229038238525, 'width': 16, 'x': 168, 'y': 185}, {'height': 16, 'label': 'anomaly', 'value': 6.76670503616333, 'width': 16, 'x': 185, 'y': 185}], 'visual_anomaly_max': 14.486319541931152, 'visual_anomaly_mean': 0.77300626039505}\n",
      "\n",
      "Original is anomaly lvl 3\n",
      "{'anomaly': 0.0, 'visual_anomaly_grid': [{'height': 16, 'label': 'anomaly', 'value': 5.142298698425293, 'width': 16, 'x': 168, 'y': 117}, {'height': 16, 'label': 'anomaly', 'value': 7.7687668800354, 'width': 16, 'x': 185, 'y': 117}, {'height': 16, 'label': 'anomaly', 'value': 9.022894859313965, 'width': 16, 'x': 185, 'y': 134}], 'visual_anomaly_max': 9.022894859313965, 'visual_anomaly_mean': 0.8986004590988159}\n"
     ]
    }
   ],
   "source": [
    "from edge_impulse_linux.image import ImageImpulseRunner\n",
    "import cv2  \n",
    "\n",
    "modelfile = cfg[\"output_path\"]\n",
    "\n",
    "def ei_inference(img_path):\n",
    "    with ImageImpulseRunner(modelfile) as runner:\n",
    "        model_info = runner.init()\n",
    "        # print(\"model_info\", model_info)\n",
    "        \n",
    "        # Load the image directly from the disk  \n",
    "        original_image = cv2.imread(img_path, cv2.IMREAD_COLOR)  \n",
    "        # Convert the image from BGR to RGB (since OpenCV loads images in BGR format)  \n",
    "        img = cv2.cvtColor(original_image, cv2.COLOR_BGR2RGB)  \n",
    "        \n",
    "        features, cropped = runner.get_features_from_image(img)\n",
    "        # print(\"FEATURES\", len(features), len(cropped))\n",
    "        \n",
    "        # print(\"GO\")\n",
    "        res = runner.classify(features)\n",
    "        print(res[\"result\"])\n",
    "\n",
    "\n",
    "\n",
    "all_defect_cookies_lvl_1=[f\"{dataset_path_defect_1}/{f}\" for f in os.listdir(dataset_path_defect_1) if f.endswith('.jpg')]\n",
    "all_defect_cookies_lvl_2=[f\"{dataset_path_defect_2}/{f}\" for f in os.listdir(dataset_path_defect_2) if f.endswith('.jpg')]\n",
    "all_defect_cookies_lvl_3=[f\"{dataset_path_defect_3}/{f}\" for f in os.listdir(dataset_path_defect_3) if f.endswith('.jpg')]\n",
    "all_defect_cookies = all_defect_cookies_lvl_1 + all_defect_cookies_lvl_2 + all_defect_cookies_lvl_3  \n",
    "\n",
    "print(\"Original is good\")\n",
    "ei_inference(test_good_cookies[0])\n",
    "print(\"\\nOriginal is anomaly lvl 1\")\n",
    "ei_inference(all_defect_cookies_lvl_1[0])\n",
    "print(\"\\nOriginal is anomaly lvl 2\")\n",
    "ei_inference(all_defect_cookies_lvl_2[0])\n",
    "ei_inference( \"datasets/cookies_2/anomaly_lvl_2/20240417_142025.jpg\")\n",
    "print(\"\\nOriginal is anomaly lvl 3\")\n",
    "ei_inference(all_defect_cookies_lvl_3[0])"
   ]
  }
 ],
 "metadata": {
  "kernelspec": {
   "display_name": "Python 3",
   "language": "python",
   "name": "python3"
  },
  "language_info": {
   "codemirror_mode": {
    "name": "ipython",
    "version": 3
   },
   "file_extension": ".py",
   "mimetype": "text/x-python",
   "name": "python",
   "nbconvert_exporter": "python",
   "pygments_lexer": "ipython3",
   "version": "3.11.7"
  }
 },
 "nbformat": 4,
 "nbformat_minor": 2
}
