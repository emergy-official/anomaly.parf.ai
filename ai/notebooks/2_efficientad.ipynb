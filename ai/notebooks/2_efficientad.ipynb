{
 "cells": [
  {
   "cell_type": "markdown",
   "metadata": {},
   "source": [
    "# Efficient AD Model For Anomaly Detection"
   ]
  },
  {
   "cell_type": "markdown",
   "metadata": {},
   "source": [
    "# Summary\n",
    "\n",
    "- Introduction\n",
    "- Before running the notebook\n",
    "- Different Model testing for easiest cookies type (cookies 3)\n",
    "- Create model for cookies 2\n",
    "- Create model for cookies 1"
   ]
  },
  {
   "cell_type": "markdown",
   "metadata": {},
   "source": [
    "## Introduction"
   ]
  },
  {
   "cell_type": "markdown",
   "metadata": {},
   "source": [
    "The approach is called **EfficientAD**.  \n",
    "It is a anomaly detection models that takes few milliseconds on a modern GPU to do an inference.\n",
    "\n",
    "More on [Arxiv](https://arxiv.org/abs/2303.14535)\n",
    "\n",
    "It creates three models:  \n",
    "    - Student  \n",
    "    - Teacher  \n",
    "    - Auto encoder\n",
    "\n",
    "This notebooks is used to train multiple models and using [MLFLOW](https://mlflow.org/) to store the images on a remote t2.micro instance on AWS.\n",
    "\n",
    "The model is trained on a g4dn.xlarge instance.  \n",
    "If you want to train it on the same instance, make sure to create a support ticket on AWS requesting to have access on the \"G series\" instances in your region."
   ]
  },
  {
   "cell_type": "markdown",
   "metadata": {},
   "source": [
    "## Before running the notebook"
   ]
  },
  {
   "cell_type": "markdown",
   "metadata": {},
   "source": [
    "Let's prepare the environement before running the notebook.\n",
    "\n",
    "1. Do you have the datasets ? Download it [here](https://drive.google.com/file/d/19VM3RtzVFyDZ4s0HKJ8eVMnijAKEJdRJ/view?usp=drive_link) and extract it in the `notebooks` folder\n",
    "\n",
    "2. Run the following command in the terminal from the **`ai`** folder.\n",
    "```sh\n",
    "conda create -p envs/2_efficientad python=3.11.7 -y\n",
    "conda activate envs/2_efficientad\n",
    "\n",
    "pip install -r requirements/2_efficientad.txt\n",
    "```"
   ]
  },
  {
   "cell_type": "markdown",
   "metadata": {},
   "source": [
    "## Model Creation"
   ]
  },
  {
   "cell_type": "code",
   "execution_count": 1,
   "metadata": {},
   "outputs": [],
   "source": [
    "import sys  # Import the sys module, required to access system-specific parameters and functions  \n",
    "sys.path.append('../code/')  # Add the '../code/' directory to the path that Python looks in for files to import  \n",
    "  \n",
    "# Import all functions from the efficientad_fns module  \n",
    "from efficientad_fns import *"
   ]
  },
  {
   "cell_type": "code",
   "execution_count": 2,
   "metadata": {},
   "outputs": [],
   "source": [
    "\n",
    "# Define a dictionary to hold configuration parameters  \n",
    "config = {  \n",
    "    \"seed\": 42,  # Seed for random number generation for reproducibility  \n",
    "    \"on_gpu\": torch.cuda.is_available(),  # Boolean flag to use GPU if available  \n",
    "      \n",
    "    \"out_channels\": 384,  # Number of output channels in the model  \n",
    "    \"image_size\": 256,  # Size of input images  \n",
    "      \n",
    "    \"model_type\": \"small\",  # Type of model, identified here as 'small'  \n",
    "      \n",
    "    \"dataset_path\": \"datasets\",  # Path to the datasets directory  \n",
    "    \"subdataset\": \"cookies_3\",  # Specific sub-dataset to use  \n",
    "      \n",
    "    \"output_dir\": \"../output\",  # Directory to save output files  \n",
    "    \n",
    "    # Usage of weight_path\n",
    "    # \"weight_path\": \"../weights/teacher_small.pth\",\n",
    "    # Download the model here: https://github.com/nelson1425/EfficientAD/tree/main/models\n",
    "    # Or pretrain it yourself here: https://github.com/nelson1425/EfficientAD/blob/main/pretraining.py\n",
    "    \"weight_path\": \"\",  # Path to pre-trained weights (empty means no pre-loading)  \n",
    "      \n",
    "    # \"mlflow_tracking_uri\": \"\",  # URI for MLflow tracking server  \n",
    "    \"mlflow_tracking_uri\": \"http://3.90.103.58:5000/\",  # URI for MLflow tracking server  \n",
    "      \n",
    "    \"train_steps\": 20,  # Number of training steps  \n",
    "    \"learning_rate\": 1e-4,  # Learning rate for model training  \n",
    "    \"weight_decay\": 1e-5,  # Weight decay for regularization  \n",
    "}  "
   ]
  },
  {
   "cell_type": "markdown",
   "metadata": {},
   "source": [
    "### Different Model testing for easiest cookies type (cookies 3)\n",
    "\n",
    "- Step = 20,    model = small, weight = none\n",
    "- Step = 500,   model = small, weight = none\n",
    "- Step = 5000,  model = small, weight = none\n",
    "- Step = 10000, model = small, weight = none\n",
    "- Step = 70000, model = small, weight = none\n",
    "\n",
    "---\n",
    "\n",
    "- Step = 20,    model = medium, weight = none\n",
    "- Step = 500,   model = medium, weight = none\n",
    "- Step = 5000,  model = medium, weight = none\n",
    "- Step = 10000, model = medium, weight = none\n",
    "- ~~Step = 70000, model = medium, weight = none~~\n",
    "\n",
    "---\n",
    "\n",
    "- Step = 20,    model = small, weight = on\n",
    "- Step = 500,   model = small, weight = on\n",
    "- Step = 5000,  model = small, weight = on\n",
    "- Step = 10000, model = small, weight = on\n",
    "- ~~Step = 70000, model = small, weight = on~~\n",
    "\n",
    "---\n",
    "\n",
    "- Step = 20,    model = medium, weight = on\n",
    "- Step = 500,   model = medium, weight = on\n",
    "- Step = 5000,  model = medium, weight = on\n",
    "- Step = 10000, model = medium, weight = on\n",
    "- ~~Step = 70000, model = medium, weight = on~~"
   ]
  },
  {
   "cell_type": "code",
   "execution_count": 3,
   "metadata": {},
   "outputs": [
    {
     "name": "stdout",
     "output_type": "stream",
     "text": [
      "- Setting seed to 42\n",
      "- OK - Setting seed to 42 (1.09 ms)\n",
      "\n",
      "- Setting datasets path\n",
      "     Dataset paths: dict_keys(['anomaly_lvl_1_test_paths', 'anomaly_lvl_2_test_paths', 'anomaly_lvl_3_test_paths', 'no_anomaly_test_paths', 'all_anomaly_test_paths', 'train_paths', 'test_paths', 'val_paths'])\n",
      "- OK - Setting datasets path (3.26 ms)\n",
      "\n",
      "- Setting config\n",
      "     Output folder path: ../output/cookies_3_steps_20_small\n",
      "- OK - Setting config (4.36 ms)\n",
      "\n",
      "- Prepare teacher, student & autoencoder\n",
      "     No weight to load\n",
      "     Training\n",
      "- OK - Prepare teacher, student & autoencoder (254.78 ms)\n",
      "\n",
      "- Normalizing teacher\n"
     ]
    },
    {
     "name": "stderr",
     "output_type": "stream",
     "text": [
      "    Computing mean of features: 100%|█████████████████████████████████████████████████████████████████████████████████████| 72/72 [00:01<00:00, 46.89it/s]\n",
      "    Computing std of features: 100%|██████████████████████████████████████████████████████████████████████████████████████| 72/72 [00:01<00:00, 51.77it/s]\n"
     ]
    },
    {
     "name": "stdout",
     "output_type": "stream",
     "text": [
      "- OK - Normalizing teacher (2.97 s)\n",
      "\n",
      "- Train\n"
     ]
    },
    {
     "name": "stderr",
     "output_type": "stream",
     "text": [
      "       Current loss: 23.5000  :   5%|████▎                                                                                 | 1/20 [00:02<00:45,  2.37s/it]"
     ]
    },
    {
     "name": "stdout",
     "output_type": "stream",
     "text": [
      "F1 Validation 0.6451612903225806\n"
     ]
    },
    {
     "name": "stderr",
     "output_type": "stream",
     "text": [
      "       Current loss: 100.5513  : 100%|████████████████████████████████████████████████████████████████████████████████████| 20/20 [00:04<00:00,  4.31it/s]\n"
     ]
    },
    {
     "name": "stdout",
     "output_type": "stream",
     "text": [
      "- OK - Train (4.64 s)\n",
      "\n",
      "- Saving models to ../output/cookies_3_steps_20_small/all_models.pth\n",
      "- OK - Saving models (69.14 ms)\n",
      "\n",
      "- Saving map normalization to ../output/cookies_3_steps_20_small/map_normalization.pth\n"
     ]
    },
    {
     "name": "stderr",
     "output_type": "stream",
     "text": [
      "     Map normalisation: 100%|█████████████████████████████████████████████████████████████████████████████████████████████| 28/28 [00:00<00:00, 28.75it/s]\n"
     ]
    },
    {
     "name": "stdout",
     "output_type": "stream",
     "text": [
      "- OK - Saving map normalization (1008.84 ms)\n",
      "\n",
      "- Evaluating model\n"
     ]
    },
    {
     "name": "stderr",
     "output_type": "stream",
     "text": [
      "     inference test: 100%|██████████████████████████████████████████████████████████████████████████████████████████████| 100/100 [00:04<00:00, 22.03it/s]\n"
     ]
    },
    {
     "data": {
      "image/png": "[encoded data removed]",
      "text/plain": [
       "<Figure size 800x600 with 1 Axes>"
      ]
     },
     "metadata": {},
     "output_type": "display_data"
    },
    {
     "name": "stdout",
     "output_type": "stream",
     "text": [
      "\n",
      "     - AUC: 46.56%\n",
      "    - Optimal Threshold: 0.0438165\n",
      "    - F1 Score: 0.78\n",
      "    - CONFUSION MATRIX:\n",
      " [[ 8 12]\n",
      " [21 59]] \n",
      "\n"
     ]
    },
    {
     "name": "stderr",
     "output_type": "stream",
     "text": [
      "    inference anomaly lvl 1 test: 100%|███████████████████████████████████████████████████████████████████████████████████| 40/40 [00:01<00:00, 22.32it/s]\n",
      "    inference anomaly lvl 2 test: 100%|███████████████████████████████████████████████████████████████████████████████████| 20/20 [00:00<00:00, 22.18it/s]\n",
      "    inference anomaly lvl 3 test: 100%|███████████████████████████████████████████████████████████████████████████████████| 20/20 [00:00<00:00, 22.17it/s]\n",
      "    inference all anomaly test: 100%|███████████████████████████████████████████████████████████████████████████████████| 100/100 [00:04<00:00, 22.14it/s]\n"
     ]
    },
    {
     "name": "stdout",
     "output_type": "stream",
     "text": [
      "\n"
     ]
    },
    {
     "name": "stderr",
     "output_type": "stream",
     "text": [
      "    inference no anomaly test: 100%|██████████████████████████████████████████████████████████████████████████████████████| 20/20 [00:00<00:00, 22.19it/s]\n"
     ]
    },
    {
     "name": "stdout",
     "output_type": "stream",
     "text": [
      "\n",
      "- OK - Evaluating model (13.78 s)\n",
      "\n",
      "Dataset               F1 Score\n",
      "------------------------------\n",
      "Anonaly lvl 1 test        0.93\n",
      "Anonaly lvl 2 test        0.86\n",
      "Anonaly lvl 3 test        0.62\n",
      "\n",
      "Anomaly all test          0.86\n",
      "\n",
      "No Anomaly Test           0.57\n",
      "\n",
      "All test                  0.78\n"
     ]
    }
   ],
   "source": [
    "# STEPS = 20, MODEL TYPE = SMALL, WEIGHT = none\n",
    "model1 = EfficientAD({**config, \"train_steps\": 20, \"model_type\": \"small\", \"weight_path\":\"\"})\n",
    "model1.create_model()\n",
    "model1.display_eval_result()"
   ]
  },
  {
   "cell_type": "code",
   "execution_count": 4,
   "metadata": {},
   "outputs": [
    {
     "name": "stdout",
     "output_type": "stream",
     "text": [
      "- Setting seed to 42\n",
      "- OK - Setting seed to 42 (0.75 ms)\n",
      "\n",
      "- Setting datasets path\n",
      "     Dataset paths: dict_keys(['anomaly_lvl_1_test_paths', 'anomaly_lvl_2_test_paths', 'anomaly_lvl_3_test_paths', 'no_anomaly_test_paths', 'all_anomaly_test_paths', 'train_paths', 'test_paths', 'val_paths'])\n",
      "- OK - Setting datasets path (4.08 ms)\n",
      "\n",
      "- Setting config\n",
      "     Output folder path: ../output/cookies_3_steps_500_small\n",
      "- OK - Setting config (3.91 ms)\n",
      "\n",
      "- Prepare teacher, student & autoencoder\n",
      "     No weight to load\n",
      "     Training\n",
      "- OK - Prepare teacher, student & autoencoder (65.90 ms)\n",
      "\n",
      "- Normalizing teacher\n"
     ]
    },
    {
     "name": "stderr",
     "output_type": "stream",
     "text": [
      "    Computing mean of features: 100%|█████████████████████████████████████████████████████████████████████████████████████| 72/72 [00:01<00:00, 51.39it/s]\n",
      "    Computing std of features: 100%|██████████████████████████████████████████████████████████████████████████████████████| 72/72 [00:01<00:00, 51.61it/s]\n"
     ]
    },
    {
     "name": "stdout",
     "output_type": "stream",
     "text": [
      "- OK - Normalizing teacher (2.80 s)\n",
      "\n",
      "- Train\n"
     ]
    },
    {
     "name": "stderr",
     "output_type": "stream",
     "text": [
      "       Current loss: 23.5000  :   0%|▏                                                                                    | 1/500 [00:01<13:07,  1.58s/it]"
     ]
    },
    {
     "name": "stdout",
     "output_type": "stream",
     "text": [
      "F1 Validation 0.6451612903225806\n"
     ]
    },
    {
     "name": "stderr",
     "output_type": "stream",
     "text": [
      "       Current loss: 14.7164  :  20%|████████████████▊                                                                  | 101/500 [00:15<03:20,  1.99it/s]"
     ]
    },
    {
     "name": "stdout",
     "output_type": "stream",
     "text": [
      "F1 Validation 0.7878787878787878\n"
     ]
    },
    {
     "name": "stderr",
     "output_type": "stream",
     "text": [
      "       Current loss: 6.1046  :  40%|█████████████████████████████████▊                                                  | 201/500 [00:28<02:31,  1.98it/s]"
     ]
    },
    {
     "name": "stdout",
     "output_type": "stream",
     "text": [
      "F1 Validation 0.85\n"
     ]
    },
    {
     "name": "stderr",
     "output_type": "stream",
     "text": [
      "       Current loss: 6.5540  :  60%|██████████████████████████████████████████████████▌                                 | 301/500 [00:42<01:40,  1.98it/s]"
     ]
    },
    {
     "name": "stdout",
     "output_type": "stream",
     "text": [
      "F1 Validation 0.85\n"
     ]
    },
    {
     "name": "stderr",
     "output_type": "stream",
     "text": [
      "       Current loss: 4.9979  :  80%|███████████████████████████████████████████████████████████████████▎                | 401/500 [00:56<00:50,  1.97it/s]"
     ]
    },
    {
     "name": "stdout",
     "output_type": "stream",
     "text": [
      "F1 Validation 0.7096774193548387\n"
     ]
    },
    {
     "name": "stderr",
     "output_type": "stream",
     "text": [
      "       Current loss: 4.3021  : 100%|████████████████████████████████████████████████████████████████████████████████████| 500/500 [01:08<00:00,  7.29it/s]\n"
     ]
    },
    {
     "name": "stdout",
     "output_type": "stream",
     "text": [
      "- OK - Train (68.59 s)\n",
      "\n",
      "- Saving models to ../output/cookies_3_steps_500_small/all_models.pth\n",
      "- OK - Saving models (79.69 ms)\n",
      "\n",
      "- Saving map normalization to ../output/cookies_3_steps_500_small/map_normalization.pth\n"
     ]
    },
    {
     "name": "stderr",
     "output_type": "stream",
     "text": [
      "     Map normalisation: 100%|█████████████████████████████████████████████████████████████████████████████████████████████| 28/28 [00:00<00:00, 28.58it/s]\n"
     ]
    },
    {
     "name": "stdout",
     "output_type": "stream",
     "text": [
      "- OK - Saving map normalization (1013.53 ms)\n",
      "\n",
      "- Evaluating model\n"
     ]
    },
    {
     "name": "stderr",
     "output_type": "stream",
     "text": [
      "     inference test: 100%|██████████████████████████████████████████████████████████████████████████████████████████████| 100/100 [00:04<00:00, 21.98it/s]\n"
     ]
    },
    {
     "data": {
      "image/png": "[encoded data removed]",
      "text/plain": [
       "<Figure size 800x600 with 1 Axes>"
      ]
     },
     "metadata": {},
     "output_type": "display_data"
    },
    {
     "name": "stdout",
     "output_type": "stream",
     "text": [
      "\n",
      "     - AUC: 66.62%\n",
      "    - Optimal Threshold: 0.0519325\n",
      "    - F1 Score: 0.90\n",
      "    - CONFUSION MATRIX:\n",
      " [[ 8 12]\n",
      " [ 5 75]] \n",
      "\n"
     ]
    },
    {
     "name": "stderr",
     "output_type": "stream",
     "text": [
      "    inference anomaly lvl 1 test: 100%|███████████████████████████████████████████████████████████████████████████████████| 40/40 [00:01<00:00, 22.02it/s]\n",
      "    inference anomaly lvl 2 test: 100%|███████████████████████████████████████████████████████████████████████████████████| 20/20 [00:00<00:00, 21.99it/s]\n",
      "    inference anomaly lvl 3 test: 100%|███████████████████████████████████████████████████████████████████████████████████| 20/20 [00:00<00:00, 21.96it/s]\n",
      "    inference all anomaly test: 100%|███████████████████████████████████████████████████████████████████████████████████| 100/100 [00:04<00:00, 22.06it/s]\n"
     ]
    },
    {
     "name": "stdout",
     "output_type": "stream",
     "text": [
      "\n"
     ]
    },
    {
     "name": "stderr",
     "output_type": "stream",
     "text": [
      "    inference no anomaly test: 100%|██████████████████████████████████████████████████████████████████████████████████████| 20/20 [00:00<00:00, 22.02it/s]\n"
     ]
    },
    {
     "name": "stdout",
     "output_type": "stream",
     "text": [
      "\n",
      "- OK - Evaluating model (13.85 s)\n",
      "\n",
      "Dataset               F1 Score\n",
      "------------------------------\n",
      "Anonaly lvl 1 test        0.93\n",
      "Anonaly lvl 2 test        1.00\n",
      "Anonaly lvl 3 test        1.00\n",
      "\n",
      "Anomaly all test          0.97\n",
      "\n",
      "No Anomaly Test           0.57\n",
      "\n",
      "All test                  0.90\n"
     ]
    }
   ],
   "source": [
    "# STEPS = 500, MODEL TYPE = SMALL, WEIGHT = none\n",
    "model2 = EfficientAD({**config, \"train_steps\": 500, \"model_type\": \"small\", \"weight_path\":\"\"})\n",
    "model2.create_model()\n",
    "model2.display_eval_result()"
   ]
  },
  {
   "cell_type": "code",
   "execution_count": 5,
   "metadata": {},
   "outputs": [
    {
     "name": "stdout",
     "output_type": "stream",
     "text": [
      "- Setting seed to 42\n",
      "- OK - Setting seed to 42 (0.82 ms)\n",
      "\n",
      "- Setting datasets path\n",
      "     Dataset paths: dict_keys(['anomaly_lvl_1_test_paths', 'anomaly_lvl_2_test_paths', 'anomaly_lvl_3_test_paths', 'no_anomaly_test_paths', 'all_anomaly_test_paths', 'train_paths', 'test_paths', 'val_paths'])\n",
      "- OK - Setting datasets path (4.21 ms)\n",
      "\n",
      "- Setting config\n",
      "     Output folder path: ../output/cookies_3_steps_5000_small\n",
      "- OK - Setting config (4.03 ms)\n",
      "\n",
      "- Prepare teacher, student & autoencoder\n",
      "     No weight to load\n",
      "     Training\n",
      "- OK - Prepare teacher, student & autoencoder (61.64 ms)\n",
      "\n",
      "- Normalizing teacher\n"
     ]
    },
    {
     "name": "stderr",
     "output_type": "stream",
     "text": [
      "    Computing mean of features: 100%|█████████████████████████████████████████████████████████████████████████████████████| 72/72 [00:01<00:00, 51.22it/s]\n",
      "    Computing std of features: 100%|██████████████████████████████████████████████████████████████████████████████████████| 72/72 [00:01<00:00, 50.12it/s]\n"
     ]
    },
    {
     "name": "stdout",
     "output_type": "stream",
     "text": [
      "- OK - Normalizing teacher (2.85 s)\n",
      "\n",
      "- Train\n"
     ]
    },
    {
     "name": "stderr",
     "output_type": "stream",
     "text": [
      "       Current loss: 23.5000  :   0%|                                                                                  | 1/5000 [00:01<2:12:18,  1.59s/it]"
     ]
    },
    {
     "name": "stdout",
     "output_type": "stream",
     "text": [
      "F1 Validation 0.6451612903225806\n"
     ]
    },
    {
     "name": "stderr",
     "output_type": "stream",
     "text": [
      "       Current loss: 14.7530  :   2%|█▋                                                                                | 101/5000 [00:15<41:08,  1.98it/s]"
     ]
    },
    {
     "name": "stdout",
     "output_type": "stream",
     "text": [
      "F1 Validation 0.75\n"
     ]
    },
    {
     "name": "stderr",
     "output_type": "stream",
     "text": [
      "       Current loss: 6.0656  :   4%|███▎                                                                               | 201/5000 [00:28<40:06,  1.99it/s]"
     ]
    },
    {
     "name": "stdout",
     "output_type": "stream",
     "text": [
      "F1 Validation 0.8205128205128205\n"
     ]
    },
    {
     "name": "stderr",
     "output_type": "stream",
     "text": [
      "       Current loss: 6.4918  :   6%|████▉                                                                              | 301/5000 [00:42<39:44,  1.97it/s]"
     ]
    },
    {
     "name": "stdout",
     "output_type": "stream",
     "text": [
      "F1 Validation 0.6666666666666666\n"
     ]
    },
    {
     "name": "stderr",
     "output_type": "stream",
     "text": [
      "       Current loss: 4.9741  :   8%|██████▋                                                                            | 401/5000 [00:56<38:45,  1.98it/s]"
     ]
    },
    {
     "name": "stdout",
     "output_type": "stream",
     "text": [
      "F1 Validation 0.7096774193548387\n"
     ]
    },
    {
     "name": "stderr",
     "output_type": "stream",
     "text": [
      "       Current loss: 5.8714  :  10%|████████▎                                                                          | 501/5000 [01:10<38:00,  1.97it/s]"
     ]
    },
    {
     "name": "stdout",
     "output_type": "stream",
     "text": [
      "F1 Validation 0.8717948717948718\n"
     ]
    },
    {
     "name": "stderr",
     "output_type": "stream",
     "text": [
      "       Current loss: 5.3687  :  12%|█████████▉                                                                         | 601/5000 [01:24<37:03,  1.98it/s]"
     ]
    },
    {
     "name": "stdout",
     "output_type": "stream",
     "text": [
      "F1 Validation 0.8\n"
     ]
    },
    {
     "name": "stderr",
     "output_type": "stream",
     "text": [
      "       Current loss: 3.4545  :  14%|███████████▋                                                                       | 701/5000 [01:37<36:05,  1.99it/s]"
     ]
    },
    {
     "name": "stdout",
     "output_type": "stream",
     "text": [
      "F1 Validation 0.5714285714285714\n"
     ]
    },
    {
     "name": "stderr",
     "output_type": "stream",
     "text": [
      "       Current loss: 5.2899  :  16%|█████████████▎                                                                     | 801/5000 [01:51<35:46,  1.96it/s]"
     ]
    },
    {
     "name": "stdout",
     "output_type": "stream",
     "text": [
      "F1 Validation 0.625\n"
     ]
    },
    {
     "name": "stderr",
     "output_type": "stream",
     "text": [
      "       Current loss: 2.3064  :  18%|██████████████▉                                                                    | 901/5000 [02:05<34:36,  1.97it/s]"
     ]
    },
    {
     "name": "stdout",
     "output_type": "stream",
     "text": [
      "F1 Validation 0.6875\n"
     ]
    },
    {
     "name": "stderr",
     "output_type": "stream",
     "text": [
      "       Current loss: 3.9667  :  20%|████████████████▍                                                                 | 1001/5000 [02:19<33:40,  1.98it/s]"
     ]
    },
    {
     "name": "stdout",
     "output_type": "stream",
     "text": [
      "F1 Validation 0.7777777777777778\n"
     ]
    },
    {
     "name": "stderr",
     "output_type": "stream",
     "text": [
      "       Current loss: 4.5612  :  22%|██████████████████                                                                | 1101/5000 [02:32<32:50,  1.98it/s]"
     ]
    },
    {
     "name": "stdout",
     "output_type": "stream",
     "text": [
      "F1 Validation 0.7777777777777778\n"
     ]
    },
    {
     "name": "stderr",
     "output_type": "stream",
     "text": [
      "       Current loss: 3.1548  :  24%|███████████████████▋                                                              | 1201/5000 [02:46<31:57,  1.98it/s]"
     ]
    },
    {
     "name": "stdout",
     "output_type": "stream",
     "text": [
      "F1 Validation 0.7777777777777778\n"
     ]
    },
    {
     "name": "stderr",
     "output_type": "stream",
     "text": [
      "       Current loss: 2.6697  :  26%|█████████████████████▎                                                            | 1301/5000 [03:00<32:03,  1.92it/s]"
     ]
    },
    {
     "name": "stdout",
     "output_type": "stream",
     "text": [
      "F1 Validation 0.5517241379310345\n"
     ]
    },
    {
     "name": "stderr",
     "output_type": "stream",
     "text": [
      "       Current loss: 1.9708  :  28%|██████████████████████▉                                                           | 1401/5000 [03:14<30:18,  1.98it/s]"
     ]
    },
    {
     "name": "stdout",
     "output_type": "stream",
     "text": [
      "F1 Validation 0.8\n"
     ]
    },
    {
     "name": "stderr",
     "output_type": "stream",
     "text": [
      "       Current loss: 2.1729  :  30%|████████████████████████▌                                                         | 1501/5000 [03:27<29:24,  1.98it/s]"
     ]
    },
    {
     "name": "stdout",
     "output_type": "stream",
     "text": [
      "F1 Validation 0.7058823529411765\n"
     ]
    },
    {
     "name": "stderr",
     "output_type": "stream",
     "text": [
      "       Current loss: 1.4776  :  32%|██████████████████████████▎                                                       | 1601/5000 [03:41<29:06,  1.95it/s]"
     ]
    },
    {
     "name": "stdout",
     "output_type": "stream",
     "text": [
      "F1 Validation 0.8571428571428571\n"
     ]
    },
    {
     "name": "stderr",
     "output_type": "stream",
     "text": [
      "       Current loss: 2.6586  :  34%|███████████████████████████▉                                                      | 1701/5000 [03:55<27:34,  1.99it/s]"
     ]
    },
    {
     "name": "stdout",
     "output_type": "stream",
     "text": [
      "F1 Validation 0.7096774193548387\n"
     ]
    },
    {
     "name": "stderr",
     "output_type": "stream",
     "text": [
      "       Current loss: 3.3335  :  36%|█████████████████████████████▌                                                    | 1801/5000 [04:09<29:54,  1.78it/s]"
     ]
    },
    {
     "name": "stdout",
     "output_type": "stream",
     "text": [
      "F1 Validation 0.8333333333333334\n"
     ]
    },
    {
     "name": "stderr",
     "output_type": "stream",
     "text": [
      "       Current loss: 1.5362  :  38%|███████████████████████████████▏                                                  | 1901/5000 [04:23<26:03,  1.98it/s]"
     ]
    },
    {
     "name": "stdout",
     "output_type": "stream",
     "text": [
      "F1 Validation 0.75\n"
     ]
    },
    {
     "name": "stderr",
     "output_type": "stream",
     "text": [
      "       Current loss: 1.7777  :  40%|████████████████████████████████▊                                                 | 2000/5000 [04:36<06:55,  7.23it/s]\n"
     ]
    },
    {
     "name": "stdout",
     "output_type": "stream",
     "text": [
      "F1 Validation 0.7777777777777778\n",
      "Early stopping at iteration 2001 because validation F1 did not improve.\n",
      "- OK - Train (276.81 s)\n",
      "\n",
      "- Saving models to ../output/cookies_3_steps_5000_small/all_models.pth\n",
      "- OK - Saving models (59.25 ms)\n",
      "\n",
      "- Saving map normalization to ../output/cookies_3_steps_5000_small/map_normalization.pth\n"
     ]
    },
    {
     "name": "stderr",
     "output_type": "stream",
     "text": [
      "     Map normalisation: 100%|█████████████████████████████████████████████████████████████████████████████████████████████| 28/28 [00:00<00:00, 28.73it/s]\n"
     ]
    },
    {
     "name": "stdout",
     "output_type": "stream",
     "text": [
      "- OK - Saving map normalization (1008.47 ms)\n",
      "\n",
      "- Evaluating model\n"
     ]
    },
    {
     "name": "stderr",
     "output_type": "stream",
     "text": [
      "     inference test: 100%|██████████████████████████████████████████████████████████████████████████████████████████████| 100/100 [00:04<00:00, 22.16it/s]\n"
     ]
    },
    {
     "data": {
      "image/png": "[encoded data removed]",
      "text/plain": [
       "<Figure size 800x600 with 1 Axes>"
      ]
     },
     "metadata": {},
     "output_type": "display_data"
    },
    {
     "name": "stdout",
     "output_type": "stream",
     "text": [
      "\n",
      "     - AUC: 88.62%\n",
      "    - Optimal Threshold: 0.0289546\n",
      "    - F1 Score: 0.86\n",
      "    - CONFUSION MATRIX:\n",
      " [[18  2]\n",
      " [18 62]] \n",
      "\n"
     ]
    },
    {
     "name": "stderr",
     "output_type": "stream",
     "text": [
      "    inference anomaly lvl 1 test: 100%|███████████████████████████████████████████████████████████████████████████████████| 40/40 [00:01<00:00, 22.19it/s]\n",
      "    inference anomaly lvl 2 test: 100%|███████████████████████████████████████████████████████████████████████████████████| 20/20 [00:00<00:00, 22.18it/s]\n",
      "    inference anomaly lvl 3 test: 100%|███████████████████████████████████████████████████████████████████████████████████| 20/20 [00:00<00:00, 22.08it/s]\n",
      "    inference all anomaly test: 100%|███████████████████████████████████████████████████████████████████████████████████| 100/100 [00:04<00:00, 22.14it/s]\n"
     ]
    },
    {
     "name": "stdout",
     "output_type": "stream",
     "text": [
      "\n"
     ]
    },
    {
     "name": "stderr",
     "output_type": "stream",
     "text": [
      "    inference no anomaly test: 100%|██████████████████████████████████████████████████████████████████████████████████████| 20/20 [00:00<00:00, 22.16it/s]\n"
     ]
    },
    {
     "name": "stdout",
     "output_type": "stream",
     "text": [
      "\n",
      "- OK - Evaluating model (13.76 s)\n",
      "\n",
      "Dataset               F1 Score\n",
      "------------------------------\n",
      "Anonaly lvl 1 test        1.00\n",
      "Anonaly lvl 2 test        0.75\n",
      "Anonaly lvl 3 test        0.67\n",
      "\n",
      "Anomaly all test          0.86\n",
      "\n",
      "No Anomaly Test           0.95\n",
      "\n",
      "All test                  0.86\n"
     ]
    }
   ],
   "source": [
    "# STEPS = 5000, MODEL TYPE = SMALL, WEIGHT = none\n",
    "model3 = EfficientAD({**config, \"train_steps\": 5000, \"model_type\": \"small\", \"weight_path\":\"\"})\n",
    "model3.create_model()\n",
    "model3.display_eval_result()"
   ]
  },
  {
   "cell_type": "code",
   "execution_count": 6,
   "metadata": {
    "scrolled": true
   },
   "outputs": [
    {
     "name": "stdout",
     "output_type": "stream",
     "text": [
      "- Setting seed to 42\n",
      "- OK - Setting seed to 42 (0.22 ms)\n",
      "\n",
      "- Setting datasets path\n",
      "     Dataset paths: dict_keys(['anomaly_lvl_1_test_paths', 'anomaly_lvl_2_test_paths', 'anomaly_lvl_3_test_paths', 'no_anomaly_test_paths', 'all_anomaly_test_paths', 'train_paths', 'test_paths', 'val_paths'])\n",
      "- OK - Setting datasets path (4.31 ms)\n",
      "\n",
      "- Setting config\n",
      "     Output folder path: ../output/cookies_3_steps_10000_small\n",
      "- OK - Setting config (3.99 ms)\n",
      "\n",
      "- Prepare teacher, student & autoencoder\n",
      "     No weight to load\n",
      "     Training\n",
      "- OK - Prepare teacher, student & autoencoder (61.42 ms)\n",
      "\n",
      "- Normalizing teacher\n"
     ]
    },
    {
     "name": "stderr",
     "output_type": "stream",
     "text": [
      "    Computing mean of features: 100%|█████████████████████████████████████████████████████████████████████████████████████| 72/72 [00:01<00:00, 51.34it/s]\n",
      "    Computing std of features: 100%|██████████████████████████████████████████████████████████████████████████████████████| 72/72 [00:01<00:00, 50.81it/s]\n"
     ]
    },
    {
     "name": "stdout",
     "output_type": "stream",
     "text": [
      "- OK - Normalizing teacher (2.83 s)\n",
      "\n",
      "- Train\n"
     ]
    },
    {
     "name": "stderr",
     "output_type": "stream",
     "text": [
      "       Current loss: 23.5000  :   0%|                                                                                 | 1/10000 [00:01<4:30:22,  1.62s/it]"
     ]
    },
    {
     "name": "stdout",
     "output_type": "stream",
     "text": [
      "F1 Validation 0.6451612903225806\n"
     ]
    },
    {
     "name": "stderr",
     "output_type": "stream",
     "text": [
      "       Current loss: 31.6716  :   0%|▍                                                                                 | 49/10000 [00:07<25:23,  6.53it/s]\n"
     ]
    },
    {
     "ename": "KeyboardInterrupt",
     "evalue": "",
     "output_type": "error",
     "traceback": [
      "\u001b[0;31m---------------------------------------------------------------------------\u001b[0m",
      "\u001b[0;31mKeyboardInterrupt\u001b[0m                         Traceback (most recent call last)",
      "Cell \u001b[0;32mIn[6], line 3\u001b[0m\n\u001b[1;32m      1\u001b[0m \u001b[38;5;66;03m# STEPS = 10000, MODEL TYPE = SMALL, WEIGHT = none\u001b[39;00m\n\u001b[1;32m      2\u001b[0m model4 \u001b[38;5;241m=\u001b[39m EfficientAD({\u001b[38;5;241m*\u001b[39m\u001b[38;5;241m*\u001b[39mconfig, \u001b[38;5;124m\"\u001b[39m\u001b[38;5;124mtrain_steps\u001b[39m\u001b[38;5;124m\"\u001b[39m: \u001b[38;5;241m10000\u001b[39m, \u001b[38;5;124m\"\u001b[39m\u001b[38;5;124mmodel_type\u001b[39m\u001b[38;5;124m\"\u001b[39m: \u001b[38;5;124m\"\u001b[39m\u001b[38;5;124msmall\u001b[39m\u001b[38;5;124m\"\u001b[39m, \u001b[38;5;124m\"\u001b[39m\u001b[38;5;124mweight_path\u001b[39m\u001b[38;5;124m\"\u001b[39m:\u001b[38;5;124m\"\u001b[39m\u001b[38;5;124m\"\u001b[39m})\n\u001b[0;32m----> 3\u001b[0m \u001b[43mmodel4\u001b[49m\u001b[38;5;241;43m.\u001b[39;49m\u001b[43mcreate_model\u001b[49m\u001b[43m(\u001b[49m\u001b[43m)\u001b[49m\n\u001b[1;32m      4\u001b[0m model4\u001b[38;5;241m.\u001b[39mdisplay_eval_result()\n",
      "File \u001b[0;32m~/workspace/ai/notebooks/../code/efficientad_fns.py:69\u001b[0m, in \u001b[0;36mEfficientAD.create_model\u001b[0;34m(self)\u001b[0m\n\u001b[1;32m     64\u001b[0m mlflow\u001b[38;5;241m.\u001b[39mlog_params({\n\u001b[1;32m     65\u001b[0m     \u001b[38;5;241m*\u001b[39m\u001b[38;5;241m*\u001b[39m\u001b[38;5;28mself\u001b[39m\u001b[38;5;241m.\u001b[39mcfg,\n\u001b[1;32m     66\u001b[0m }) \n\u001b[1;32m     68\u001b[0m \u001b[38;5;66;03m# Execute all train-validation-testing steps\u001b[39;00m\n\u001b[0;32m---> 69\u001b[0m \u001b[38;5;28;43mself\u001b[39;49m\u001b[38;5;241;43m.\u001b[39;49m\u001b[43mdo_all\u001b[49m\u001b[43m(\u001b[49m\u001b[43m)\u001b[49m\n\u001b[1;32m     71\u001b[0m \u001b[38;5;66;03m# Log performance metrics\u001b[39;00m\n\u001b[1;32m     72\u001b[0m mlflow\u001b[38;5;241m.\u001b[39mlog_metric(\u001b[38;5;124m\"\u001b[39m\u001b[38;5;124mauc\u001b[39m\u001b[38;5;124m\"\u001b[39m, \u001b[38;5;28mself\u001b[39m\u001b[38;5;241m.\u001b[39mfinal_auc)\n",
      "File \u001b[0;32m~/workspace/ai/notebooks/../code/efficientad_fns.py:49\u001b[0m, in \u001b[0;36mEfficientAD.do_all\u001b[0;34m(self)\u001b[0m\n\u001b[1;32m     46\u001b[0m \u001b[38;5;28mself\u001b[39m\u001b[38;5;241m.\u001b[39mprepare_teacher_student_autoencoder()\n\u001b[1;32m     47\u001b[0m \u001b[38;5;28mself\u001b[39m\u001b[38;5;241m.\u001b[39mteacher_normalization()\n\u001b[0;32m---> 49\u001b[0m \u001b[38;5;28;43mself\u001b[39;49m\u001b[38;5;241;43m.\u001b[39;49m\u001b[43mtrain\u001b[49m\u001b[43m(\u001b[49m\u001b[43m)\u001b[49m\n\u001b[1;32m     50\u001b[0m \u001b[38;5;28mself\u001b[39m\u001b[38;5;241m.\u001b[39msave_models()\n\u001b[1;32m     51\u001b[0m \u001b[38;5;28mself\u001b[39m\u001b[38;5;241m.\u001b[39msave_normalization()\n",
      "File \u001b[0;32m~/workspace/ai/notebooks/../code/efficientad_fns.py:260\u001b[0m, in \u001b[0;36mEfficientAD.train\u001b[0;34m(self)\u001b[0m\n\u001b[1;32m    258\u001b[0m \u001b[38;5;66;03m# Move data to GPU if enabled \u001b[39;00m\n\u001b[1;32m    259\u001b[0m \u001b[38;5;28;01mif\u001b[39;00m \u001b[38;5;28mself\u001b[39m\u001b[38;5;241m.\u001b[39mcfg[\u001b[38;5;124m\"\u001b[39m\u001b[38;5;124mon_gpu\u001b[39m\u001b[38;5;124m\"\u001b[39m]:\n\u001b[0;32m--> 260\u001b[0m     image_st \u001b[38;5;241m=\u001b[39m \u001b[43mimage_st\u001b[49m\u001b[38;5;241;43m.\u001b[39;49m\u001b[43mcuda\u001b[49m\u001b[43m(\u001b[49m\u001b[43m)\u001b[49m\n\u001b[1;32m    261\u001b[0m     image_ae \u001b[38;5;241m=\u001b[39m image_ae\u001b[38;5;241m.\u001b[39mcuda()\n\u001b[1;32m    263\u001b[0m \u001b[38;5;66;03m# Teacher model inference followed by normalization \u001b[39;00m\n",
      "\u001b[0;31mKeyboardInterrupt\u001b[0m: "
     ]
    }
   ],
   "source": [
    "# STEPS = 10000, MODEL TYPE = SMALL, WEIGHT = none\n",
    "model4 = EfficientAD({**config, \"train_steps\": 10000, \"model_type\": \"small\", \"weight_path\":\"\"})\n",
    "model4.create_model()\n",
    "model4.display_eval_result()"
   ]
  },
  {
   "cell_type": "markdown",
   "metadata": {},
   "source": [
    "---"
   ]
  },
  {
   "cell_type": "code",
   "execution_count": 7,
   "metadata": {},
   "outputs": [
    {
     "name": "stdout",
     "output_type": "stream",
     "text": [
      "- Setting seed to 42\n",
      "- OK - Setting seed to 42 (0.50 ms)\n",
      "\n",
      "- Setting datasets path\n",
      "     Dataset paths: dict_keys(['anomaly_lvl_1_test_paths', 'anomaly_lvl_2_test_paths', 'anomaly_lvl_3_test_paths', 'no_anomaly_test_paths', 'all_anomaly_test_paths', 'train_paths', 'test_paths', 'val_paths'])\n",
      "- OK - Setting datasets path (3.57 ms)\n",
      "\n",
      "- Setting config\n",
      "     Output folder path: ../output/cookies_3_steps_20_medium\n",
      "- OK - Setting config (11.83 ms)\n",
      "\n",
      "- Prepare teacher, student & autoencoder\n",
      "     No weight to load\n",
      "     Training\n",
      "- OK - Prepare teacher, student & autoencoder (180.60 ms)\n",
      "\n",
      "- Normalizing teacher\n"
     ]
    },
    {
     "name": "stderr",
     "output_type": "stream",
     "text": [
      "    Computing mean of features: 100%|█████████████████████████████████████████████████████████████████████████████████████| 72/72 [00:03<00:00, 21.89it/s]\n",
      "    Computing std of features: 100%|██████████████████████████████████████████████████████████████████████████████████████| 72/72 [00:03<00:00, 21.85it/s]\n"
     ]
    },
    {
     "name": "stdout",
     "output_type": "stream",
     "text": [
      "- OK - Normalizing teacher (6.59 s)\n",
      "\n",
      "- Train\n"
     ]
    },
    {
     "name": "stderr",
     "output_type": "stream",
     "text": [
      "       Current loss: 91.8934  :   5%|████▎                                                                                 | 1/20 [00:03<01:07,  3.53s/it]"
     ]
    },
    {
     "name": "stdout",
     "output_type": "stream",
     "text": [
      "F1 Validation 0.5517241379310345\n"
     ]
    },
    {
     "name": "stderr",
     "output_type": "stream",
     "text": [
      "       Current loss: 59.0334  : 100%|█████████████████████████████████████████████████████████████████████████████████████| 20/20 [00:09<00:00,  2.06it/s]\n"
     ]
    },
    {
     "name": "stdout",
     "output_type": "stream",
     "text": [
      "- OK - Train (9.72 s)\n",
      "\n",
      "- Saving models to ../output/cookies_3_steps_20_medium/all_models.pth\n",
      "- OK - Saving models (197.52 ms)\n",
      "\n",
      "- Saving map normalization to ../output/cookies_3_steps_20_medium/map_normalization.pth\n"
     ]
    },
    {
     "name": "stderr",
     "output_type": "stream",
     "text": [
      "     Map normalisation: 100%|█████████████████████████████████████████████████████████████████████████████████████████████| 28/28 [00:02<00:00, 10.38it/s]\n"
     ]
    },
    {
     "name": "stdout",
     "output_type": "stream",
     "text": [
      "- OK - Saving map normalization (2794.26 ms)\n",
      "\n",
      "- Evaluating model\n"
     ]
    },
    {
     "name": "stderr",
     "output_type": "stream",
     "text": [
      "     inference test: 100%|██████████████████████████████████████████████████████████████████████████████████████████████| 100/100 [00:10<00:00,  9.19it/s]\n"
     ]
    },
    {
     "data": {
      "image/png": "[encoded data removed]",
      "text/plain": [
       "<Figure size 800x600 with 1 Axes>"
      ]
     },
     "metadata": {},
     "output_type": "display_data"
    },
    {
     "name": "stdout",
     "output_type": "stream",
     "text": [
      "\n",
      "     - AUC: 45.31%\n",
      "    - Optimal Threshold: 0.0491857\n",
      "    - F1 Score: 0.90\n",
      "    - CONFUSION MATRIX:\n",
      " [[ 2 18]\n",
      " [ 0 80]] \n",
      "\n"
     ]
    },
    {
     "name": "stderr",
     "output_type": "stream",
     "text": [
      "    inference anomaly lvl 1 test: 100%|███████████████████████████████████████████████████████████████████████████████████| 40/40 [00:04<00:00,  9.16it/s]\n",
      "    inference anomaly lvl 2 test: 100%|███████████████████████████████████████████████████████████████████████████████████| 20/20 [00:02<00:00,  9.18it/s]\n",
      "    inference anomaly lvl 3 test: 100%|███████████████████████████████████████████████████████████████████████████████████| 20/20 [00:02<00:00,  9.19it/s]\n",
      "    inference all anomaly test: 100%|███████████████████████████████████████████████████████████████████████████████████| 100/100 [00:10<00:00,  9.17it/s]\n"
     ]
    },
    {
     "name": "stdout",
     "output_type": "stream",
     "text": [
      "\n"
     ]
    },
    {
     "name": "stderr",
     "output_type": "stream",
     "text": [
      "    inference no anomaly test: 100%|██████████████████████████████████████████████████████████████████████████████████████| 20/20 [00:02<00:00,  9.17it/s]\n"
     ]
    },
    {
     "name": "stdout",
     "output_type": "stream",
     "text": [
      "\n",
      "- OK - Evaluating model (32.92 s)\n",
      "\n",
      "Dataset               F1 Score\n",
      "------------------------------\n",
      "Anonaly lvl 1 test        1.00\n",
      "Anonaly lvl 2 test        1.00\n",
      "Anonaly lvl 3 test        1.00\n",
      "\n",
      "Anomaly all test          0.99\n",
      "\n",
      "No Anomaly Test           0.18\n",
      "\n",
      "All test                  0.90\n"
     ]
    }
   ],
   "source": [
    "# STEPS = 20, MODEL TYPE = MEDIUM, WEIGHT = none\n",
    "model6 = EfficientAD({**config, \"train_steps\": 20, \"model_type\": \"medium\", \"weight_path\":\"\"})\n",
    "model6.create_model()\n",
    "model6.display_eval_result()"
   ]
  },
  {
   "cell_type": "code",
   "execution_count": 8,
   "metadata": {},
   "outputs": [
    {
     "name": "stdout",
     "output_type": "stream",
     "text": [
      "- Setting seed to 42\n",
      "- OK - Setting seed to 42 (0.26 ms)\n",
      "\n",
      "- Setting datasets path\n",
      "     Dataset paths: dict_keys(['anomaly_lvl_1_test_paths', 'anomaly_lvl_2_test_paths', 'anomaly_lvl_3_test_paths', 'no_anomaly_test_paths', 'all_anomaly_test_paths', 'train_paths', 'test_paths', 'val_paths'])\n",
      "- OK - Setting datasets path (4.93 ms)\n",
      "\n",
      "- Setting config\n",
      "     Output folder path: ../output/cookies_3_steps_500_medium\n",
      "- OK - Setting config (10.06 ms)\n",
      "\n",
      "- Prepare teacher, student & autoencoder\n",
      "     No weight to load\n",
      "     Training\n",
      "- OK - Prepare teacher, student & autoencoder (164.97 ms)\n",
      "\n",
      "- Normalizing teacher\n"
     ]
    },
    {
     "name": "stderr",
     "output_type": "stream",
     "text": [
      "    Computing mean of features: 100%|█████████████████████████████████████████████████████████████████████████████████████| 72/72 [00:03<00:00, 21.62it/s]\n",
      "    Computing std of features: 100%|██████████████████████████████████████████████████████████████████████████████████████| 72/72 [00:03<00:00, 21.71it/s]\n"
     ]
    },
    {
     "name": "stdout",
     "output_type": "stream",
     "text": [
      "- OK - Normalizing teacher (6.65 s)\n",
      "\n",
      "- Train\n"
     ]
    },
    {
     "name": "stderr",
     "output_type": "stream",
     "text": [
      "       Current loss: 91.8934  :   0%|▏                                                                                    | 1/500 [00:03<29:39,  3.57s/it]"
     ]
    },
    {
     "name": "stdout",
     "output_type": "stream",
     "text": [
      "F1 Validation 0.5517241379310345\n"
     ]
    },
    {
     "name": "stderr",
     "output_type": "stream",
     "text": [
      "       Current loss: 10.9337  :  20%|████████████████▊                                                                  | 101/500 [00:39<08:22,  1.26s/it]"
     ]
    },
    {
     "name": "stdout",
     "output_type": "stream",
     "text": [
      "F1 Validation 0.8108108108108109\n"
     ]
    },
    {
     "name": "stderr",
     "output_type": "stream",
     "text": [
      "       Current loss: 7.4086  :  40%|█████████████████████████████████▊                                                  | 201/500 [01:15<06:17,  1.26s/it]"
     ]
    },
    {
     "name": "stdout",
     "output_type": "stream",
     "text": [
      "F1 Validation 0.75\n"
     ]
    },
    {
     "name": "stderr",
     "output_type": "stream",
     "text": [
      "       Current loss: 7.4997  :  60%|██████████████████████████████████████████████████▌                                 | 301/500 [01:52<04:11,  1.26s/it]"
     ]
    },
    {
     "name": "stdout",
     "output_type": "stream",
     "text": [
      "F1 Validation 0.7272727272727273\n"
     ]
    },
    {
     "name": "stderr",
     "output_type": "stream",
     "text": [
      "       Current loss: 11.0552  :  80%|██████████████████████████████████████████████████████████████████▌                | 401/500 [02:28<02:05,  1.27s/it]"
     ]
    },
    {
     "name": "stdout",
     "output_type": "stream",
     "text": [
      "F1 Validation 0.8333333333333334\n"
     ]
    },
    {
     "name": "stderr",
     "output_type": "stream",
     "text": [
      "       Current loss: 3.2578  : 100%|████████████████████████████████████████████████████████████████████████████████████| 500/500 [03:01<00:00,  2.76it/s]\n"
     ]
    },
    {
     "name": "stdout",
     "output_type": "stream",
     "text": [
      "- OK - Train (181.31 s)\n",
      "\n",
      "- Saving models to ../output/cookies_3_steps_500_medium/all_models.pth\n",
      "- OK - Saving models (206.78 ms)\n",
      "\n",
      "- Saving map normalization to ../output/cookies_3_steps_500_medium/map_normalization.pth\n"
     ]
    },
    {
     "name": "stderr",
     "output_type": "stream",
     "text": [
      "     Map normalisation: 100%|█████████████████████████████████████████████████████████████████████████████████████████████| 28/28 [00:02<00:00, 10.35it/s]\n"
     ]
    },
    {
     "name": "stdout",
     "output_type": "stream",
     "text": [
      "- OK - Saving map normalization (2804.30 ms)\n",
      "\n",
      "- Evaluating model\n"
     ]
    },
    {
     "name": "stderr",
     "output_type": "stream",
     "text": [
      "     inference test: 100%|██████████████████████████████████████████████████████████████████████████████████████████████| 100/100 [00:10<00:00,  9.11it/s]\n"
     ]
    },
    {
     "data": {
      "image/png": "[encoded data removed]",
      "text/plain": [
       "<Figure size 800x600 with 1 Axes>"
      ]
     },
     "metadata": {},
     "output_type": "display_data"
    },
    {
     "name": "stdout",
     "output_type": "stream",
     "text": [
      "\n",
      "     - AUC: 89.75%\n",
      "    - Optimal Threshold: 0.0412511\n",
      "    - F1 Score: 0.87\n",
      "    - CONFUSION MATRIX:\n",
      " [[18  2]\n",
      " [17 63]] \n",
      "\n"
     ]
    },
    {
     "name": "stderr",
     "output_type": "stream",
     "text": [
      "    inference anomaly lvl 1 test: 100%|███████████████████████████████████████████████████████████████████████████████████| 40/40 [00:04<00:00,  9.14it/s]\n",
      "    inference anomaly lvl 2 test: 100%|███████████████████████████████████████████████████████████████████████████████████| 20/20 [00:02<00:00,  9.16it/s]\n",
      "    inference anomaly lvl 3 test: 100%|███████████████████████████████████████████████████████████████████████████████████| 20/20 [00:02<00:00,  9.15it/s]\n",
      "    inference all anomaly test: 100%|███████████████████████████████████████████████████████████████████████████████████| 100/100 [00:10<00:00,  9.16it/s]\n"
     ]
    },
    {
     "name": "stdout",
     "output_type": "stream",
     "text": [
      "\n"
     ]
    },
    {
     "name": "stderr",
     "output_type": "stream",
     "text": [
      "    inference no anomaly test: 100%|██████████████████████████████████████████████████████████████████████████████████████| 20/20 [00:02<00:00,  9.17it/s]\n"
     ]
    },
    {
     "name": "stdout",
     "output_type": "stream",
     "text": [
      "\n",
      "- OK - Evaluating model (33.06 s)\n",
      "\n",
      "Dataset               F1 Score\n",
      "------------------------------\n",
      "Anonaly lvl 1 test        0.99\n",
      "Anonaly lvl 2 test        0.82\n",
      "Anonaly lvl 3 test        0.67\n",
      "\n",
      "Anomaly all test          0.88\n",
      "\n",
      "No Anomaly Test           0.95\n",
      "\n",
      "All test                  0.87\n"
     ]
    }
   ],
   "source": [
    "# STEPS = 500, MODEL TYPE = MEDIUM, WEIGHT = none\n",
    "model7 = EfficientAD({**config, \"train_steps\": 500, \"model_type\": \"medium\", \"weight_path\":\"\"})\n",
    "model7.create_model()\n",
    "model7.display_eval_result()"
   ]
  },
  {
   "cell_type": "code",
   "execution_count": 9,
   "metadata": {},
   "outputs": [
    {
     "name": "stdout",
     "output_type": "stream",
     "text": [
      "- Setting seed to 42\n",
      "- OK - Setting seed to 42 (0.27 ms)\n",
      "\n",
      "- Setting datasets path\n",
      "     Dataset paths: dict_keys(['anomaly_lvl_1_test_paths', 'anomaly_lvl_2_test_paths', 'anomaly_lvl_3_test_paths', 'no_anomaly_test_paths', 'all_anomaly_test_paths', 'train_paths', 'test_paths', 'val_paths'])\n",
      "- OK - Setting datasets path (4.74 ms)\n",
      "\n",
      "- Setting config\n",
      "     Output folder path: ../output/cookies_3_steps_5000_medium\n",
      "- OK - Setting config (0.12 ms)\n",
      "\n",
      "- Prepare teacher, student & autoencoder\n",
      "     No weight to load\n",
      "     Training\n",
      "- OK - Prepare teacher, student & autoencoder (160.22 ms)\n",
      "\n",
      "- Normalizing teacher\n"
     ]
    },
    {
     "name": "stderr",
     "output_type": "stream",
     "text": [
      "    Computing mean of features: 100%|█████████████████████████████████████████████████████████████████████████████████████| 72/72 [00:03<00:00, 21.55it/s]\n",
      "    Computing std of features: 100%|██████████████████████████████████████████████████████████████████████████████████████| 72/72 [00:03<00:00, 21.52it/s]\n"
     ]
    },
    {
     "name": "stdout",
     "output_type": "stream",
     "text": [
      "- OK - Normalizing teacher (6.69 s)\n",
      "\n",
      "- Train\n"
     ]
    },
    {
     "name": "stderr",
     "output_type": "stream",
     "text": [
      "       Current loss: 91.8934  :   0%|                                                                                  | 1/5000 [00:03<4:58:50,  3.59s/it]"
     ]
    },
    {
     "name": "stdout",
     "output_type": "stream",
     "text": [
      "F1 Validation 0.5517241379310345\n"
     ]
    },
    {
     "name": "stderr",
     "output_type": "stream",
     "text": [
      "       Current loss: 10.9421  :   2%|█▌                                                                              | 101/5000 [00:39<1:43:11,  1.26s/it]"
     ]
    },
    {
     "name": "stdout",
     "output_type": "stream",
     "text": [
      "F1 Validation 0.8108108108108109\n"
     ]
    },
    {
     "name": "stderr",
     "output_type": "stream",
     "text": [
      "       Current loss: 7.5011  :   4%|███▎                                                                             | 201/5000 [01:16<1:41:18,  1.27s/it]"
     ]
    },
    {
     "name": "stdout",
     "output_type": "stream",
     "text": [
      "F1 Validation 0.75\n"
     ]
    },
    {
     "name": "stderr",
     "output_type": "stream",
     "text": [
      "       Current loss: 7.5772  :   6%|████▉                                                                            | 301/5000 [01:52<1:39:31,  1.27s/it]"
     ]
    },
    {
     "name": "stdout",
     "output_type": "stream",
     "text": [
      "F1 Validation 0.7647058823529411\n"
     ]
    },
    {
     "name": "stderr",
     "output_type": "stream",
     "text": [
      "       Current loss: 11.0889  :   8%|██████▍                                                                         | 401/5000 [02:28<1:37:15,  1.27s/it]"
     ]
    },
    {
     "name": "stdout",
     "output_type": "stream",
     "text": [
      "F1 Validation 0.8333333333333334\n"
     ]
    },
    {
     "name": "stderr",
     "output_type": "stream",
     "text": [
      "       Current loss: 6.0276  :  10%|████████                                                                         | 501/5000 [03:05<1:34:52,  1.27s/it]"
     ]
    },
    {
     "name": "stdout",
     "output_type": "stream",
     "text": [
      "F1 Validation 0.9\n"
     ]
    },
    {
     "name": "stderr",
     "output_type": "stream",
     "text": [
      "       Current loss: 10.1115  :  12%|█████████▌                                                                      | 601/5000 [03:41<1:33:16,  1.27s/it]"
     ]
    },
    {
     "name": "stdout",
     "output_type": "stream",
     "text": [
      "F1 Validation 0.7647058823529411\n"
     ]
    },
    {
     "name": "stderr",
     "output_type": "stream",
     "text": [
      "       Current loss: 3.4369  :  14%|███████████▎                                                                     | 701/5000 [04:18<1:31:02,  1.27s/it]"
     ]
    },
    {
     "name": "stdout",
     "output_type": "stream",
     "text": [
      "F1 Validation 0.8\n"
     ]
    },
    {
     "name": "stderr",
     "output_type": "stream",
     "text": [
      "       Current loss: 5.4180  :  16%|████████████▉                                                                    | 801/5000 [04:54<1:28:50,  1.27s/it]"
     ]
    },
    {
     "name": "stdout",
     "output_type": "stream",
     "text": [
      "F1 Validation 0.8333333333333334\n"
     ]
    },
    {
     "name": "stderr",
     "output_type": "stream",
     "text": [
      "       Current loss: 4.4896  :  18%|██████████████▌                                                                  | 901/5000 [05:31<1:26:41,  1.27s/it]"
     ]
    },
    {
     "name": "stdout",
     "output_type": "stream",
     "text": [
      "F1 Validation 0.8717948717948718\n"
     ]
    },
    {
     "name": "stderr",
     "output_type": "stream",
     "text": [
      "       Current loss: 2.0717  :  20%|████████████████                                                                | 1001/5000 [06:07<1:24:38,  1.27s/it]"
     ]
    },
    {
     "name": "stdout",
     "output_type": "stream",
     "text": [
      "F1 Validation 0.7647058823529411\n"
     ]
    },
    {
     "name": "stderr",
     "output_type": "stream",
     "text": [
      "       Current loss: 2.3179  :  22%|█████████████████▌                                                              | 1101/5000 [06:43<1:22:30,  1.27s/it]"
     ]
    },
    {
     "name": "stdout",
     "output_type": "stream",
     "text": [
      "F1 Validation 0.7096774193548387\n"
     ]
    },
    {
     "name": "stderr",
     "output_type": "stream",
     "text": [
      "       Current loss: 2.6633  :  24%|███████████████████▏                                                            | 1201/5000 [07:20<1:20:23,  1.27s/it]"
     ]
    },
    {
     "name": "stdout",
     "output_type": "stream",
     "text": [
      "F1 Validation 0.8\n"
     ]
    },
    {
     "name": "stderr",
     "output_type": "stream",
     "text": [
      "       Current loss: 2.8343  :  26%|████████████████████▊                                                           | 1301/5000 [07:56<1:19:08,  1.28s/it]"
     ]
    },
    {
     "name": "stdout",
     "output_type": "stream",
     "text": [
      "F1 Validation 0.7272727272727273\n"
     ]
    },
    {
     "name": "stderr",
     "output_type": "stream",
     "text": [
      "       Current loss: 3.3417  :  28%|██████████████████████▍                                                         | 1401/5000 [08:33<1:16:12,  1.27s/it]"
     ]
    },
    {
     "name": "stdout",
     "output_type": "stream",
     "text": [
      "F1 Validation 0.9047619047619048\n"
     ]
    },
    {
     "name": "stderr",
     "output_type": "stream",
     "text": [
      "       Current loss: 2.0842  :  30%|████████████████████████                                                        | 1501/5000 [09:09<1:14:08,  1.27s/it]"
     ]
    },
    {
     "name": "stdout",
     "output_type": "stream",
     "text": [
      "F1 Validation 0.7096774193548387\n"
     ]
    },
    {
     "name": "stderr",
     "output_type": "stream",
     "text": [
      "       Current loss: 3.1276  :  32%|█████████████████████████▌                                                      | 1601/5000 [09:46<1:11:43,  1.27s/it]"
     ]
    },
    {
     "name": "stdout",
     "output_type": "stream",
     "text": [
      "F1 Validation 0.8\n"
     ]
    },
    {
     "name": "stderr",
     "output_type": "stream",
     "text": [
      "       Current loss: 2.1818  :  34%|███████████████████████████▏                                                    | 1701/5000 [10:22<1:09:46,  1.27s/it]"
     ]
    },
    {
     "name": "stdout",
     "output_type": "stream",
     "text": [
      "F1 Validation 0.8780487804878049\n"
     ]
    },
    {
     "name": "stderr",
     "output_type": "stream",
     "text": [
      "       Current loss: 2.2747  :  36%|████████████████████████████▊                                                   | 1801/5000 [10:59<1:10:19,  1.32s/it]"
     ]
    },
    {
     "name": "stdout",
     "output_type": "stream",
     "text": [
      "F1 Validation 0.8717948717948718\n"
     ]
    },
    {
     "name": "stderr",
     "output_type": "stream",
     "text": [
      "       Current loss: 3.8479  :  38%|██████████████████████████████▍                                                 | 1901/5000 [11:35<1:05:27,  1.27s/it]"
     ]
    },
    {
     "name": "stdout",
     "output_type": "stream",
     "text": [
      "F1 Validation 0.8333333333333334\n"
     ]
    },
    {
     "name": "stderr",
     "output_type": "stream",
     "text": [
      "       Current loss: 7.6651  :  40%|████████████████████████████████                                                | 2001/5000 [12:12<1:03:31,  1.27s/it]"
     ]
    },
    {
     "name": "stdout",
     "output_type": "stream",
     "text": [
      "F1 Validation 0.9047619047619048\n"
     ]
    },
    {
     "name": "stderr",
     "output_type": "stream",
     "text": [
      "       Current loss: 2.1156  :  42%|█████████████████████████████████▌                                              | 2101/5000 [12:48<1:01:26,  1.27s/it]"
     ]
    },
    {
     "name": "stdout",
     "output_type": "stream",
     "text": [
      "F1 Validation 0.8\n"
     ]
    },
    {
     "name": "stderr",
     "output_type": "stream",
     "text": [
      "       Current loss: 1.9430  :  44%|████████████████████████████████████                                              | 2201/5000 [13:25<59:14,  1.27s/it]"
     ]
    },
    {
     "name": "stdout",
     "output_type": "stream",
     "text": [
      "F1 Validation 0.8717948717948718\n"
     ]
    },
    {
     "name": "stderr",
     "output_type": "stream",
     "text": [
      "       Current loss: 1.5055  :  46%|█████████████████████████████████████▋                                            | 2301/5000 [14:01<57:02,  1.27s/it]"
     ]
    },
    {
     "name": "stdout",
     "output_type": "stream",
     "text": [
      "F1 Validation 0.926829268292683\n"
     ]
    },
    {
     "name": "stderr",
     "output_type": "stream",
     "text": [
      "       Current loss: 2.7284  :  48%|███████████████████████████████████████▍                                          | 2401/5000 [14:38<55:06,  1.27s/it]"
     ]
    },
    {
     "name": "stdout",
     "output_type": "stream",
     "text": [
      "F1 Validation 0.9047619047619048\n"
     ]
    },
    {
     "name": "stderr",
     "output_type": "stream",
     "text": [
      "       Current loss: 3.6469  :  50%|█████████████████████████████████████████                                         | 2501/5000 [15:14<53:01,  1.27s/it]"
     ]
    },
    {
     "name": "stdout",
     "output_type": "stream",
     "text": [
      "F1 Validation 0.926829268292683\n"
     ]
    },
    {
     "name": "stderr",
     "output_type": "stream",
     "text": [
      "       Current loss: 3.2708  :  52%|██████████████████████████████████████████▋                                       | 2601/5000 [15:51<51:03,  1.28s/it]"
     ]
    },
    {
     "name": "stdout",
     "output_type": "stream",
     "text": [
      "F1 Validation 0.9\n"
     ]
    },
    {
     "name": "stderr",
     "output_type": "stream",
     "text": [
      "       Current loss: 3.8423  :  54%|████████████████████████████████████████████▎                                     | 2701/5000 [16:27<48:37,  1.27s/it]"
     ]
    },
    {
     "name": "stdout",
     "output_type": "stream",
     "text": [
      "F1 Validation 0.7272727272727273\n"
     ]
    },
    {
     "name": "stderr",
     "output_type": "stream",
     "text": [
      "       Current loss: 1.4583  :  56%|█████████████████████████████████████████████▉                                    | 2801/5000 [17:04<46:40,  1.27s/it]"
     ]
    },
    {
     "name": "stdout",
     "output_type": "stream",
     "text": [
      "F1 Validation 0.7777777777777778\n"
     ]
    },
    {
     "name": "stderr",
     "output_type": "stream",
     "text": [
      "       Current loss: 2.9438  :  58%|███████████████████████████████████████████████▌                                  | 2901/5000 [17:41<44:36,  1.27s/it]"
     ]
    },
    {
     "name": "stdout",
     "output_type": "stream",
     "text": [
      "F1 Validation 0.7777777777777778\n"
     ]
    },
    {
     "name": "stderr",
     "output_type": "stream",
     "text": [
      "       Current loss: 1.4852  :  60%|█████████████████████████████████████████████████▏                                | 3001/5000 [18:17<42:19,  1.27s/it]"
     ]
    },
    {
     "name": "stdout",
     "output_type": "stream",
     "text": [
      "F1 Validation 0.8333333333333334\n"
     ]
    },
    {
     "name": "stderr",
     "output_type": "stream",
     "text": [
      "       Current loss: 1.7922  :  62%|██████████████████████████████████████████████████▊                               | 3101/5000 [18:54<40:32,  1.28s/it]"
     ]
    },
    {
     "name": "stdout",
     "output_type": "stream",
     "text": [
      "F1 Validation 0.8\n"
     ]
    },
    {
     "name": "stderr",
     "output_type": "stream",
     "text": [
      "       Current loss: 1.9035  :  64%|████████████████████████████████████████████████████▍                             | 3201/5000 [19:30<38:03,  1.27s/it]"
     ]
    },
    {
     "name": "stdout",
     "output_type": "stream",
     "text": [
      "F1 Validation 0.8\n"
     ]
    },
    {
     "name": "stderr",
     "output_type": "stream",
     "text": [
      "       Current loss: 0.9275  :  66%|██████████████████████████████████████████████████████▏                           | 3301/5000 [20:06<35:54,  1.27s/it]"
     ]
    },
    {
     "name": "stdout",
     "output_type": "stream",
     "text": [
      "F1 Validation 0.6666666666666666\n"
     ]
    },
    {
     "name": "stderr",
     "output_type": "stream",
     "text": [
      "       Current loss: 1.6014  :  68%|███████████████████████████████████████████████████████▊                          | 3401/5000 [20:43<33:54,  1.27s/it]"
     ]
    },
    {
     "name": "stdout",
     "output_type": "stream",
     "text": [
      "F1 Validation 0.7272727272727273\n"
     ]
    },
    {
     "name": "stderr",
     "output_type": "stream",
     "text": [
      "       Current loss: 1.8778  :  70%|█████████████████████████████████████████████████████████▍                        | 3501/5000 [21:20<31:48,  1.27s/it]"
     ]
    },
    {
     "name": "stdout",
     "output_type": "stream",
     "text": [
      "F1 Validation 0.7272727272727273\n"
     ]
    },
    {
     "name": "stderr",
     "output_type": "stream",
     "text": [
      "       Current loss: 4.0031  :  72%|███████████████████████████████████████████████████████████                       | 3601/5000 [21:56<30:53,  1.33s/it]"
     ]
    },
    {
     "name": "stdout",
     "output_type": "stream",
     "text": [
      "F1 Validation 0.8333333333333334\n"
     ]
    },
    {
     "name": "stderr",
     "output_type": "stream",
     "text": [
      "       Current loss: 1.2849  :  74%|████████████████████████████████████████████████████████████▋                     | 3701/5000 [22:33<27:28,  1.27s/it]"
     ]
    },
    {
     "name": "stdout",
     "output_type": "stream",
     "text": [
      "F1 Validation 0.8\n"
     ]
    },
    {
     "name": "stderr",
     "output_type": "stream",
     "text": [
      "       Current loss: 1.8299  :  76%|██████████████████████████████████████████████████████████████▎                   | 3800/5000 [23:09<07:18,  2.73it/s]\n"
     ]
    },
    {
     "name": "stdout",
     "output_type": "stream",
     "text": [
      "F1 Validation 0.8\n",
      "Early stopping at iteration 3801 because validation F1 did not improve.\n",
      "- OK - Train (1389.47 s)\n",
      "\n",
      "- Saving models to ../output/cookies_3_steps_5000_medium/all_models.pth\n",
      "- OK - Saving models (148.95 ms)\n",
      "\n",
      "- Saving map normalization to ../output/cookies_3_steps_5000_medium/map_normalization.pth\n"
     ]
    },
    {
     "name": "stderr",
     "output_type": "stream",
     "text": [
      "     Map normalisation: 100%|█████████████████████████████████████████████████████████████████████████████████████████████| 28/28 [00:02<00:00, 10.29it/s]\n"
     ]
    },
    {
     "name": "stdout",
     "output_type": "stream",
     "text": [
      "- OK - Saving map normalization (2820.04 ms)\n",
      "\n",
      "- Evaluating model\n"
     ]
    },
    {
     "name": "stderr",
     "output_type": "stream",
     "text": [
      "     inference test: 100%|██████████████████████████████████████████████████████████████████████████████████████████████| 100/100 [00:10<00:00,  9.13it/s]\n"
     ]
    },
    {
     "data": {
      "image/png": "[encoded data removed]",
      "text/plain": [
       "<Figure size 800x600 with 1 Axes>"
      ]
     },
     "metadata": {},
     "output_type": "display_data"
    },
    {
     "name": "stdout",
     "output_type": "stream",
     "text": [
      "\n",
      "     - AUC: 90.19%\n",
      "    - Optimal Threshold: 0.0372543\n",
      "    - F1 Score: 0.87\n",
      "    - CONFUSION MATRIX:\n",
      " [[17  3]\n",
      " [16 64]] \n",
      "\n"
     ]
    },
    {
     "name": "stderr",
     "output_type": "stream",
     "text": [
      "    inference anomaly lvl 1 test: 100%|███████████████████████████████████████████████████████████████████████████████████| 40/40 [00:04<00:00,  9.10it/s]\n",
      "    inference anomaly lvl 2 test: 100%|███████████████████████████████████████████████████████████████████████████████████| 20/20 [00:02<00:00,  9.10it/s]\n",
      "    inference anomaly lvl 3 test: 100%|███████████████████████████████████████████████████████████████████████████████████| 20/20 [00:02<00:00,  9.12it/s]\n",
      "    inference all anomaly test: 100%|███████████████████████████████████████████████████████████████████████████████████| 100/100 [00:10<00:00,  9.11it/s]\n"
     ]
    },
    {
     "name": "stdout",
     "output_type": "stream",
     "text": [
      "\n"
     ]
    },
    {
     "name": "stderr",
     "output_type": "stream",
     "text": [
      "    inference no anomaly test: 100%|██████████████████████████████████████████████████████████████████████████████████████| 20/20 [00:02<00:00,  9.11it/s]\n"
     ]
    },
    {
     "name": "stdout",
     "output_type": "stream",
     "text": [
      "\n",
      "- OK - Evaluating model (33.13 s)\n",
      "\n",
      "Dataset               F1 Score\n",
      "------------------------------\n",
      "Anonaly lvl 1 test        1.00\n",
      "Anonaly lvl 2 test        0.79\n",
      "Anonaly lvl 3 test        0.71\n",
      "\n",
      "Anomaly all test          0.88\n",
      "\n",
      "No Anomaly Test           0.92\n",
      "\n",
      "All test                  0.87\n"
     ]
    }
   ],
   "source": [
    "# STEPS = 5000, MODEL TYPE = MEDIUM, WEIGHT = none\n",
    "model8 = EfficientAD({**config, \"train_steps\": 5000, \"model_type\": \"medium\", \"weight_path\":\"\"})\n",
    "model8.create_model()\n",
    "model8.display_eval_result()"
   ]
  },
  {
   "cell_type": "code",
   "execution_count": 10,
   "metadata": {
    "scrolled": true
   },
   "outputs": [
    {
     "name": "stdout",
     "output_type": "stream",
     "text": [
      "- Setting seed to 42\n",
      "- OK - Setting seed to 42 (0.50 ms)\n",
      "\n",
      "- Setting datasets path\n",
      "     Dataset paths: dict_keys(['anomaly_lvl_1_test_paths', 'anomaly_lvl_2_test_paths', 'anomaly_lvl_3_test_paths', 'no_anomaly_test_paths', 'all_anomaly_test_paths', 'train_paths', 'test_paths', 'val_paths'])\n",
      "- OK - Setting datasets path (4.48 ms)\n",
      "\n",
      "- Setting config\n",
      "     Output folder path: ../output/cookies_3_steps_10000_medium\n",
      "- OK - Setting config (0.11 ms)\n",
      "\n",
      "- Prepare teacher, student & autoencoder\n",
      "     No weight to load\n",
      "     Training\n",
      "- OK - Prepare teacher, student & autoencoder (160.58 ms)\n",
      "\n",
      "- Normalizing teacher\n"
     ]
    },
    {
     "name": "stderr",
     "output_type": "stream",
     "text": [
      "    Computing mean of features: 100%|█████████████████████████████████████████████████████████████████████████████████████| 72/72 [00:03<00:00, 21.63it/s]\n",
      "    Computing std of features:   0%|                                                                                               | 0/72 [00:00<?, ?it/s]\n",
      "    Computing std of features:   0%|                                                                                               | 0/72 [00:00<?, ?it/s]\n"
     ]
    },
    {
     "ename": "KeyboardInterrupt",
     "evalue": "",
     "output_type": "error",
     "traceback": [
      "\u001b[0;31m---------------------------------------------------------------------------\u001b[0m",
      "\u001b[0;31mKeyboardInterrupt\u001b[0m                         Traceback (most recent call last)",
      "Cell \u001b[0;32mIn[10], line 3\u001b[0m\n\u001b[1;32m      1\u001b[0m \u001b[38;5;66;03m# STEPS = 10000, MODEL TYPE = MEDIUM, WEIGHT = none\u001b[39;00m\n\u001b[1;32m      2\u001b[0m model9 \u001b[38;5;241m=\u001b[39m EfficientAD({\u001b[38;5;241m*\u001b[39m\u001b[38;5;241m*\u001b[39mconfig, \u001b[38;5;124m\"\u001b[39m\u001b[38;5;124mtrain_steps\u001b[39m\u001b[38;5;124m\"\u001b[39m: \u001b[38;5;241m10000\u001b[39m, \u001b[38;5;124m\"\u001b[39m\u001b[38;5;124mmodel_type\u001b[39m\u001b[38;5;124m\"\u001b[39m: \u001b[38;5;124m\"\u001b[39m\u001b[38;5;124mmedium\u001b[39m\u001b[38;5;124m\"\u001b[39m, \u001b[38;5;124m\"\u001b[39m\u001b[38;5;124mweight_path\u001b[39m\u001b[38;5;124m\"\u001b[39m:\u001b[38;5;124m\"\u001b[39m\u001b[38;5;124m\"\u001b[39m})\n\u001b[0;32m----> 3\u001b[0m \u001b[43mmodel9\u001b[49m\u001b[38;5;241;43m.\u001b[39;49m\u001b[43mcreate_model\u001b[49m\u001b[43m(\u001b[49m\u001b[43m)\u001b[49m\n\u001b[1;32m      4\u001b[0m model9\u001b[38;5;241m.\u001b[39mdisplay_eval_result()\n",
      "File \u001b[0;32m~/workspace/ai/notebooks/../code/efficientad_fns.py:69\u001b[0m, in \u001b[0;36mEfficientAD.create_model\u001b[0;34m(self)\u001b[0m\n\u001b[1;32m     64\u001b[0m mlflow\u001b[38;5;241m.\u001b[39mlog_params({\n\u001b[1;32m     65\u001b[0m     \u001b[38;5;241m*\u001b[39m\u001b[38;5;241m*\u001b[39m\u001b[38;5;28mself\u001b[39m\u001b[38;5;241m.\u001b[39mcfg,\n\u001b[1;32m     66\u001b[0m }) \n\u001b[1;32m     68\u001b[0m \u001b[38;5;66;03m# Execute all train-validation-testing steps\u001b[39;00m\n\u001b[0;32m---> 69\u001b[0m \u001b[38;5;28;43mself\u001b[39;49m\u001b[38;5;241;43m.\u001b[39;49m\u001b[43mdo_all\u001b[49m\u001b[43m(\u001b[49m\u001b[43m)\u001b[49m\n\u001b[1;32m     71\u001b[0m \u001b[38;5;66;03m# Log performance metrics\u001b[39;00m\n\u001b[1;32m     72\u001b[0m mlflow\u001b[38;5;241m.\u001b[39mlog_metric(\u001b[38;5;124m\"\u001b[39m\u001b[38;5;124mauc\u001b[39m\u001b[38;5;124m\"\u001b[39m, \u001b[38;5;28mself\u001b[39m\u001b[38;5;241m.\u001b[39mfinal_auc)\n",
      "File \u001b[0;32m~/workspace/ai/notebooks/../code/efficientad_fns.py:47\u001b[0m, in \u001b[0;36mEfficientAD.do_all\u001b[0;34m(self)\u001b[0m\n\u001b[1;32m     45\u001b[0m \u001b[38;5;66;03m# Prepare models and perform training  \u001b[39;00m\n\u001b[1;32m     46\u001b[0m \u001b[38;5;28mself\u001b[39m\u001b[38;5;241m.\u001b[39mprepare_teacher_student_autoencoder()\n\u001b[0;32m---> 47\u001b[0m \u001b[38;5;28;43mself\u001b[39;49m\u001b[38;5;241;43m.\u001b[39;49m\u001b[43mteacher_normalization\u001b[49m\u001b[43m(\u001b[49m\u001b[43m)\u001b[49m\n\u001b[1;32m     49\u001b[0m \u001b[38;5;28mself\u001b[39m\u001b[38;5;241m.\u001b[39mtrain()\n\u001b[1;32m     50\u001b[0m \u001b[38;5;28mself\u001b[39m\u001b[38;5;241m.\u001b[39msave_models()\n",
      "File \u001b[0;32m/opt/conda/envs/pytorch/lib/python3.10/site-packages/torch/utils/_contextlib.py:115\u001b[0m, in \u001b[0;36mcontext_decorator.<locals>.decorate_context\u001b[0;34m(*args, **kwargs)\u001b[0m\n\u001b[1;32m    112\u001b[0m \u001b[38;5;129m@functools\u001b[39m\u001b[38;5;241m.\u001b[39mwraps(func)\n\u001b[1;32m    113\u001b[0m \u001b[38;5;28;01mdef\u001b[39;00m \u001b[38;5;21mdecorate_context\u001b[39m(\u001b[38;5;241m*\u001b[39margs, \u001b[38;5;241m*\u001b[39m\u001b[38;5;241m*\u001b[39mkwargs):\n\u001b[1;32m    114\u001b[0m     \u001b[38;5;28;01mwith\u001b[39;00m ctx_factory():\n\u001b[0;32m--> 115\u001b[0m         \u001b[38;5;28;01mreturn\u001b[39;00m \u001b[43mfunc\u001b[49m\u001b[43m(\u001b[49m\u001b[38;5;241;43m*\u001b[39;49m\u001b[43margs\u001b[49m\u001b[43m,\u001b[49m\u001b[43m \u001b[49m\u001b[38;5;241;43m*\u001b[39;49m\u001b[38;5;241;43m*\u001b[39;49m\u001b[43mkwargs\u001b[49m\u001b[43m)\u001b[49m\n",
      "File \u001b[0;32m~/workspace/ai/notebooks/../code/efficientad_fns.py:439\u001b[0m, in \u001b[0;36mEfficientAD.teacher_normalization\u001b[0;34m(self)\u001b[0m\n\u001b[1;32m    436\u001b[0m channel_mean \u001b[38;5;241m=\u001b[39m channel_mean[\u001b[38;5;28;01mNone\u001b[39;00m, :, \u001b[38;5;28;01mNone\u001b[39;00m, \u001b[38;5;28;01mNone\u001b[39;00m]\n\u001b[1;32m    438\u001b[0m mean_distances \u001b[38;5;241m=\u001b[39m []\n\u001b[0;32m--> 439\u001b[0m \u001b[38;5;28;01mfor\u001b[39;00m train_image, _ \u001b[38;5;129;01min\u001b[39;00m tqdm(\u001b[38;5;28mself\u001b[39m\u001b[38;5;241m.\u001b[39mtrain_loader, desc\u001b[38;5;241m=\u001b[39m\u001b[38;5;124m'\u001b[39m\u001b[38;5;124m    Computing std of features\u001b[39m\u001b[38;5;124m'\u001b[39m):\n\u001b[1;32m    440\u001b[0m     \u001b[38;5;28;01mif\u001b[39;00m \u001b[38;5;28mself\u001b[39m\u001b[38;5;241m.\u001b[39mcfg[\u001b[38;5;124m\"\u001b[39m\u001b[38;5;124mon_gpu\u001b[39m\u001b[38;5;124m\"\u001b[39m]:\n\u001b[1;32m    441\u001b[0m         train_image \u001b[38;5;241m=\u001b[39m train_image\u001b[38;5;241m.\u001b[39mcuda()\n",
      "File \u001b[0;32m/opt/conda/envs/pytorch/lib/python3.10/site-packages/tqdm/std.py:1181\u001b[0m, in \u001b[0;36mtqdm.__iter__\u001b[0;34m(self)\u001b[0m\n\u001b[1;32m   1178\u001b[0m time \u001b[38;5;241m=\u001b[39m \u001b[38;5;28mself\u001b[39m\u001b[38;5;241m.\u001b[39m_time\n\u001b[1;32m   1180\u001b[0m \u001b[38;5;28;01mtry\u001b[39;00m:\n\u001b[0;32m-> 1181\u001b[0m     \u001b[38;5;28;01mfor\u001b[39;00m obj \u001b[38;5;129;01min\u001b[39;00m iterable:\n\u001b[1;32m   1182\u001b[0m         \u001b[38;5;28;01myield\u001b[39;00m obj\n\u001b[1;32m   1183\u001b[0m         \u001b[38;5;66;03m# Update and possibly print the progressbar.\u001b[39;00m\n\u001b[1;32m   1184\u001b[0m         \u001b[38;5;66;03m# Note: does not call self.update(1) for speed optimisation.\u001b[39;00m\n",
      "File \u001b[0;32m/opt/conda/envs/pytorch/lib/python3.10/site-packages/torch/utils/data/dataloader.py:631\u001b[0m, in \u001b[0;36m_BaseDataLoaderIter.__next__\u001b[0;34m(self)\u001b[0m\n\u001b[1;32m    628\u001b[0m \u001b[38;5;28;01mif\u001b[39;00m \u001b[38;5;28mself\u001b[39m\u001b[38;5;241m.\u001b[39m_sampler_iter \u001b[38;5;129;01mis\u001b[39;00m \u001b[38;5;28;01mNone\u001b[39;00m:\n\u001b[1;32m    629\u001b[0m     \u001b[38;5;66;03m# TODO(https://github.com/pytorch/pytorch/issues/76750)\u001b[39;00m\n\u001b[1;32m    630\u001b[0m     \u001b[38;5;28mself\u001b[39m\u001b[38;5;241m.\u001b[39m_reset()  \u001b[38;5;66;03m# type: ignore[call-arg]\u001b[39;00m\n\u001b[0;32m--> 631\u001b[0m data \u001b[38;5;241m=\u001b[39m \u001b[38;5;28;43mself\u001b[39;49m\u001b[38;5;241;43m.\u001b[39;49m\u001b[43m_next_data\u001b[49m\u001b[43m(\u001b[49m\u001b[43m)\u001b[49m\n\u001b[1;32m    632\u001b[0m \u001b[38;5;28mself\u001b[39m\u001b[38;5;241m.\u001b[39m_num_yielded \u001b[38;5;241m+\u001b[39m\u001b[38;5;241m=\u001b[39m \u001b[38;5;241m1\u001b[39m\n\u001b[1;32m    633\u001b[0m \u001b[38;5;28;01mif\u001b[39;00m \u001b[38;5;28mself\u001b[39m\u001b[38;5;241m.\u001b[39m_dataset_kind \u001b[38;5;241m==\u001b[39m _DatasetKind\u001b[38;5;241m.\u001b[39mIterable \u001b[38;5;129;01mand\u001b[39;00m \\\n\u001b[1;32m    634\u001b[0m         \u001b[38;5;28mself\u001b[39m\u001b[38;5;241m.\u001b[39m_IterableDataset_len_called \u001b[38;5;129;01mis\u001b[39;00m \u001b[38;5;129;01mnot\u001b[39;00m \u001b[38;5;28;01mNone\u001b[39;00m \u001b[38;5;129;01mand\u001b[39;00m \\\n\u001b[1;32m    635\u001b[0m         \u001b[38;5;28mself\u001b[39m\u001b[38;5;241m.\u001b[39m_num_yielded \u001b[38;5;241m>\u001b[39m \u001b[38;5;28mself\u001b[39m\u001b[38;5;241m.\u001b[39m_IterableDataset_len_called:\n",
      "File \u001b[0;32m/opt/conda/envs/pytorch/lib/python3.10/site-packages/torch/utils/data/dataloader.py:1329\u001b[0m, in \u001b[0;36m_MultiProcessingDataLoaderIter._next_data\u001b[0;34m(self)\u001b[0m\n\u001b[1;32m   1326\u001b[0m     \u001b[38;5;28;01mreturn\u001b[39;00m \u001b[38;5;28mself\u001b[39m\u001b[38;5;241m.\u001b[39m_process_data(data)\n\u001b[1;32m   1328\u001b[0m \u001b[38;5;28;01massert\u001b[39;00m \u001b[38;5;129;01mnot\u001b[39;00m \u001b[38;5;28mself\u001b[39m\u001b[38;5;241m.\u001b[39m_shutdown \u001b[38;5;129;01mand\u001b[39;00m \u001b[38;5;28mself\u001b[39m\u001b[38;5;241m.\u001b[39m_tasks_outstanding \u001b[38;5;241m>\u001b[39m \u001b[38;5;241m0\u001b[39m\n\u001b[0;32m-> 1329\u001b[0m idx, data \u001b[38;5;241m=\u001b[39m \u001b[38;5;28;43mself\u001b[39;49m\u001b[38;5;241;43m.\u001b[39;49m\u001b[43m_get_data\u001b[49m\u001b[43m(\u001b[49m\u001b[43m)\u001b[49m\n\u001b[1;32m   1330\u001b[0m \u001b[38;5;28mself\u001b[39m\u001b[38;5;241m.\u001b[39m_tasks_outstanding \u001b[38;5;241m-\u001b[39m\u001b[38;5;241m=\u001b[39m \u001b[38;5;241m1\u001b[39m\n\u001b[1;32m   1331\u001b[0m \u001b[38;5;28;01mif\u001b[39;00m \u001b[38;5;28mself\u001b[39m\u001b[38;5;241m.\u001b[39m_dataset_kind \u001b[38;5;241m==\u001b[39m _DatasetKind\u001b[38;5;241m.\u001b[39mIterable:\n\u001b[1;32m   1332\u001b[0m     \u001b[38;5;66;03m# Check for _IterableDatasetStopIteration\u001b[39;00m\n",
      "File \u001b[0;32m/opt/conda/envs/pytorch/lib/python3.10/site-packages/torch/utils/data/dataloader.py:1285\u001b[0m, in \u001b[0;36m_MultiProcessingDataLoaderIter._get_data\u001b[0;34m(self)\u001b[0m\n\u001b[1;32m   1283\u001b[0m \u001b[38;5;28;01melif\u001b[39;00m \u001b[38;5;28mself\u001b[39m\u001b[38;5;241m.\u001b[39m_pin_memory:\n\u001b[1;32m   1284\u001b[0m     \u001b[38;5;28;01mwhile\u001b[39;00m \u001b[38;5;28mself\u001b[39m\u001b[38;5;241m.\u001b[39m_pin_memory_thread\u001b[38;5;241m.\u001b[39mis_alive():\n\u001b[0;32m-> 1285\u001b[0m         success, data \u001b[38;5;241m=\u001b[39m \u001b[38;5;28;43mself\u001b[39;49m\u001b[38;5;241;43m.\u001b[39;49m\u001b[43m_try_get_data\u001b[49m\u001b[43m(\u001b[49m\u001b[43m)\u001b[49m\n\u001b[1;32m   1286\u001b[0m         \u001b[38;5;28;01mif\u001b[39;00m success:\n\u001b[1;32m   1287\u001b[0m             \u001b[38;5;28;01mreturn\u001b[39;00m data\n",
      "File \u001b[0;32m/opt/conda/envs/pytorch/lib/python3.10/site-packages/torch/utils/data/dataloader.py:1133\u001b[0m, in \u001b[0;36m_MultiProcessingDataLoaderIter._try_get_data\u001b[0;34m(self, timeout)\u001b[0m\n\u001b[1;32m   1120\u001b[0m \u001b[38;5;28;01mdef\u001b[39;00m \u001b[38;5;21m_try_get_data\u001b[39m(\u001b[38;5;28mself\u001b[39m, timeout\u001b[38;5;241m=\u001b[39m_utils\u001b[38;5;241m.\u001b[39mMP_STATUS_CHECK_INTERVAL):\n\u001b[1;32m   1121\u001b[0m     \u001b[38;5;66;03m# Tries to fetch data from `self._data_queue` once for a given timeout.\u001b[39;00m\n\u001b[1;32m   1122\u001b[0m     \u001b[38;5;66;03m# This can also be used as inner loop of fetching without timeout, with\u001b[39;00m\n\u001b[0;32m   (...)\u001b[0m\n\u001b[1;32m   1130\u001b[0m     \u001b[38;5;66;03m# Returns a 2-tuple:\u001b[39;00m\n\u001b[1;32m   1131\u001b[0m     \u001b[38;5;66;03m#   (bool: whether successfully get data, any: data if successful else None)\u001b[39;00m\n\u001b[1;32m   1132\u001b[0m     \u001b[38;5;28;01mtry\u001b[39;00m:\n\u001b[0;32m-> 1133\u001b[0m         data \u001b[38;5;241m=\u001b[39m \u001b[38;5;28;43mself\u001b[39;49m\u001b[38;5;241;43m.\u001b[39;49m\u001b[43m_data_queue\u001b[49m\u001b[38;5;241;43m.\u001b[39;49m\u001b[43mget\u001b[49m\u001b[43m(\u001b[49m\u001b[43mtimeout\u001b[49m\u001b[38;5;241;43m=\u001b[39;49m\u001b[43mtimeout\u001b[49m\u001b[43m)\u001b[49m\n\u001b[1;32m   1134\u001b[0m         \u001b[38;5;28;01mreturn\u001b[39;00m (\u001b[38;5;28;01mTrue\u001b[39;00m, data)\n\u001b[1;32m   1135\u001b[0m     \u001b[38;5;28;01mexcept\u001b[39;00m \u001b[38;5;167;01mException\u001b[39;00m \u001b[38;5;28;01mas\u001b[39;00m e:\n\u001b[1;32m   1136\u001b[0m         \u001b[38;5;66;03m# At timeout and error, we manually check whether any worker has\u001b[39;00m\n\u001b[1;32m   1137\u001b[0m         \u001b[38;5;66;03m# failed. Note that this is the only mechanism for Windows to detect\u001b[39;00m\n\u001b[1;32m   1138\u001b[0m         \u001b[38;5;66;03m# worker failures.\u001b[39;00m\n",
      "File \u001b[0;32m/opt/conda/envs/pytorch/lib/python3.10/queue.py:180\u001b[0m, in \u001b[0;36mQueue.get\u001b[0;34m(self, block, timeout)\u001b[0m\n\u001b[1;32m    178\u001b[0m         \u001b[38;5;28;01mif\u001b[39;00m remaining \u001b[38;5;241m<\u001b[39m\u001b[38;5;241m=\u001b[39m \u001b[38;5;241m0.0\u001b[39m:\n\u001b[1;32m    179\u001b[0m             \u001b[38;5;28;01mraise\u001b[39;00m Empty\n\u001b[0;32m--> 180\u001b[0m         \u001b[38;5;28;43mself\u001b[39;49m\u001b[38;5;241;43m.\u001b[39;49m\u001b[43mnot_empty\u001b[49m\u001b[38;5;241;43m.\u001b[39;49m\u001b[43mwait\u001b[49m\u001b[43m(\u001b[49m\u001b[43mremaining\u001b[49m\u001b[43m)\u001b[49m\n\u001b[1;32m    181\u001b[0m item \u001b[38;5;241m=\u001b[39m \u001b[38;5;28mself\u001b[39m\u001b[38;5;241m.\u001b[39m_get()\n\u001b[1;32m    182\u001b[0m \u001b[38;5;28mself\u001b[39m\u001b[38;5;241m.\u001b[39mnot_full\u001b[38;5;241m.\u001b[39mnotify()\n",
      "File \u001b[0;32m/opt/conda/envs/pytorch/lib/python3.10/threading.py:324\u001b[0m, in \u001b[0;36mCondition.wait\u001b[0;34m(self, timeout)\u001b[0m\n\u001b[1;32m    322\u001b[0m \u001b[38;5;28;01melse\u001b[39;00m:\n\u001b[1;32m    323\u001b[0m     \u001b[38;5;28;01mif\u001b[39;00m timeout \u001b[38;5;241m>\u001b[39m \u001b[38;5;241m0\u001b[39m:\n\u001b[0;32m--> 324\u001b[0m         gotit \u001b[38;5;241m=\u001b[39m \u001b[43mwaiter\u001b[49m\u001b[38;5;241;43m.\u001b[39;49m\u001b[43macquire\u001b[49m\u001b[43m(\u001b[49m\u001b[38;5;28;43;01mTrue\u001b[39;49;00m\u001b[43m,\u001b[49m\u001b[43m \u001b[49m\u001b[43mtimeout\u001b[49m\u001b[43m)\u001b[49m\n\u001b[1;32m    325\u001b[0m     \u001b[38;5;28;01melse\u001b[39;00m:\n\u001b[1;32m    326\u001b[0m         gotit \u001b[38;5;241m=\u001b[39m waiter\u001b[38;5;241m.\u001b[39macquire(\u001b[38;5;28;01mFalse\u001b[39;00m)\n",
      "\u001b[0;31mKeyboardInterrupt\u001b[0m: "
     ]
    },
    {
     "ename": "KeyboardInterrupt",
     "evalue": "",
     "output_type": "error",
     "traceback": [
      "\u001b[0;31m---------------------------------------------------------------------------\u001b[0m",
      "\u001b[0;31mKeyboardInterrupt\u001b[0m                         Traceback (most recent call last)",
      "Cell \u001b[0;32mIn[10], line 3\u001b[0m\n\u001b[1;32m      1\u001b[0m \u001b[38;5;66;03m# STEPS = 10000, MODEL TYPE = MEDIUM, WEIGHT = none\u001b[39;00m\n\u001b[1;32m      2\u001b[0m model9 \u001b[38;5;241m=\u001b[39m EfficientAD({\u001b[38;5;241m*\u001b[39m\u001b[38;5;241m*\u001b[39mconfig, \u001b[38;5;124m\"\u001b[39m\u001b[38;5;124mtrain_steps\u001b[39m\u001b[38;5;124m\"\u001b[39m: \u001b[38;5;241m10000\u001b[39m, \u001b[38;5;124m\"\u001b[39m\u001b[38;5;124mmodel_type\u001b[39m\u001b[38;5;124m\"\u001b[39m: \u001b[38;5;124m\"\u001b[39m\u001b[38;5;124mmedium\u001b[39m\u001b[38;5;124m\"\u001b[39m, \u001b[38;5;124m\"\u001b[39m\u001b[38;5;124mweight_path\u001b[39m\u001b[38;5;124m\"\u001b[39m:\u001b[38;5;124m\"\u001b[39m\u001b[38;5;124m\"\u001b[39m})\n\u001b[0;32m----> 3\u001b[0m \u001b[43mmodel9\u001b[49m\u001b[38;5;241;43m.\u001b[39;49m\u001b[43mcreate_model\u001b[49m\u001b[43m(\u001b[49m\u001b[43m)\u001b[49m\n\u001b[1;32m      4\u001b[0m model9\u001b[38;5;241m.\u001b[39mdisplay_eval_result()\n",
      "File \u001b[0;32m~/workspace/ai/notebooks/../code/efficientad_fns.py:69\u001b[0m, in \u001b[0;36mEfficientAD.create_model\u001b[0;34m(self)\u001b[0m\n\u001b[1;32m     64\u001b[0m mlflow\u001b[38;5;241m.\u001b[39mlog_params({\n\u001b[1;32m     65\u001b[0m     \u001b[38;5;241m*\u001b[39m\u001b[38;5;241m*\u001b[39m\u001b[38;5;28mself\u001b[39m\u001b[38;5;241m.\u001b[39mcfg,\n\u001b[1;32m     66\u001b[0m }) \n\u001b[1;32m     68\u001b[0m \u001b[38;5;66;03m# Execute all train-validation-testing steps\u001b[39;00m\n\u001b[0;32m---> 69\u001b[0m \u001b[38;5;28;43mself\u001b[39;49m\u001b[38;5;241;43m.\u001b[39;49m\u001b[43mdo_all\u001b[49m\u001b[43m(\u001b[49m\u001b[43m)\u001b[49m\n\u001b[1;32m     71\u001b[0m \u001b[38;5;66;03m# Log performance metrics\u001b[39;00m\n\u001b[1;32m     72\u001b[0m mlflow\u001b[38;5;241m.\u001b[39mlog_metric(\u001b[38;5;124m\"\u001b[39m\u001b[38;5;124mauc\u001b[39m\u001b[38;5;124m\"\u001b[39m, \u001b[38;5;28mself\u001b[39m\u001b[38;5;241m.\u001b[39mfinal_auc)\n",
      "File \u001b[0;32m~/workspace/ai/notebooks/../code/efficientad_fns.py:47\u001b[0m, in \u001b[0;36mEfficientAD.do_all\u001b[0;34m(self)\u001b[0m\n\u001b[1;32m     45\u001b[0m \u001b[38;5;66;03m# Prepare models and perform training  \u001b[39;00m\n\u001b[1;32m     46\u001b[0m \u001b[38;5;28mself\u001b[39m\u001b[38;5;241m.\u001b[39mprepare_teacher_student_autoencoder()\n\u001b[0;32m---> 47\u001b[0m \u001b[38;5;28;43mself\u001b[39;49m\u001b[38;5;241;43m.\u001b[39;49m\u001b[43mteacher_normalization\u001b[49m\u001b[43m(\u001b[49m\u001b[43m)\u001b[49m\n\u001b[1;32m     49\u001b[0m \u001b[38;5;28mself\u001b[39m\u001b[38;5;241m.\u001b[39mtrain()\n\u001b[1;32m     50\u001b[0m \u001b[38;5;28mself\u001b[39m\u001b[38;5;241m.\u001b[39msave_models()\n",
      "File \u001b[0;32m/opt/conda/envs/pytorch/lib/python3.10/site-packages/torch/utils/_contextlib.py:115\u001b[0m, in \u001b[0;36mcontext_decorator.<locals>.decorate_context\u001b[0;34m(*args, **kwargs)\u001b[0m\n\u001b[1;32m    112\u001b[0m \u001b[38;5;129m@functools\u001b[39m\u001b[38;5;241m.\u001b[39mwraps(func)\n\u001b[1;32m    113\u001b[0m \u001b[38;5;28;01mdef\u001b[39;00m \u001b[38;5;21mdecorate_context\u001b[39m(\u001b[38;5;241m*\u001b[39margs, \u001b[38;5;241m*\u001b[39m\u001b[38;5;241m*\u001b[39mkwargs):\n\u001b[1;32m    114\u001b[0m     \u001b[38;5;28;01mwith\u001b[39;00m ctx_factory():\n\u001b[0;32m--> 115\u001b[0m         \u001b[38;5;28;01mreturn\u001b[39;00m \u001b[43mfunc\u001b[49m\u001b[43m(\u001b[49m\u001b[38;5;241;43m*\u001b[39;49m\u001b[43margs\u001b[49m\u001b[43m,\u001b[49m\u001b[43m \u001b[49m\u001b[38;5;241;43m*\u001b[39;49m\u001b[38;5;241;43m*\u001b[39;49m\u001b[43mkwargs\u001b[49m\u001b[43m)\u001b[49m\n",
      "File \u001b[0;32m~/workspace/ai/notebooks/../code/efficientad_fns.py:439\u001b[0m, in \u001b[0;36mEfficientAD.teacher_normalization\u001b[0;34m(self)\u001b[0m\n\u001b[1;32m    436\u001b[0m channel_mean \u001b[38;5;241m=\u001b[39m channel_mean[\u001b[38;5;28;01mNone\u001b[39;00m, :, \u001b[38;5;28;01mNone\u001b[39;00m, \u001b[38;5;28;01mNone\u001b[39;00m]\n\u001b[1;32m    438\u001b[0m mean_distances \u001b[38;5;241m=\u001b[39m []\n\u001b[0;32m--> 439\u001b[0m \u001b[38;5;28;01mfor\u001b[39;00m train_image, _ \u001b[38;5;129;01min\u001b[39;00m tqdm(\u001b[38;5;28mself\u001b[39m\u001b[38;5;241m.\u001b[39mtrain_loader, desc\u001b[38;5;241m=\u001b[39m\u001b[38;5;124m'\u001b[39m\u001b[38;5;124m    Computing std of features\u001b[39m\u001b[38;5;124m'\u001b[39m):\n\u001b[1;32m    440\u001b[0m     \u001b[38;5;28;01mif\u001b[39;00m \u001b[38;5;28mself\u001b[39m\u001b[38;5;241m.\u001b[39mcfg[\u001b[38;5;124m\"\u001b[39m\u001b[38;5;124mon_gpu\u001b[39m\u001b[38;5;124m\"\u001b[39m]:\n\u001b[1;32m    441\u001b[0m         train_image \u001b[38;5;241m=\u001b[39m train_image\u001b[38;5;241m.\u001b[39mcuda()\n",
      "File \u001b[0;32m/opt/conda/envs/pytorch/lib/python3.10/site-packages/tqdm/std.py:1181\u001b[0m, in \u001b[0;36mtqdm.__iter__\u001b[0;34m(self)\u001b[0m\n\u001b[1;32m   1178\u001b[0m time \u001b[38;5;241m=\u001b[39m \u001b[38;5;28mself\u001b[39m\u001b[38;5;241m.\u001b[39m_time\n\u001b[1;32m   1180\u001b[0m \u001b[38;5;28;01mtry\u001b[39;00m:\n\u001b[0;32m-> 1181\u001b[0m     \u001b[38;5;28;01mfor\u001b[39;00m obj \u001b[38;5;129;01min\u001b[39;00m iterable:\n\u001b[1;32m   1182\u001b[0m         \u001b[38;5;28;01myield\u001b[39;00m obj\n\u001b[1;32m   1183\u001b[0m         \u001b[38;5;66;03m# Update and possibly print the progressbar.\u001b[39;00m\n\u001b[1;32m   1184\u001b[0m         \u001b[38;5;66;03m# Note: does not call self.update(1) for speed optimisation.\u001b[39;00m\n",
      "File \u001b[0;32m/opt/conda/envs/pytorch/lib/python3.10/site-packages/torch/utils/data/dataloader.py:439\u001b[0m, in \u001b[0;36mDataLoader.__iter__\u001b[0;34m(self)\u001b[0m\n\u001b[1;32m    437\u001b[0m     \u001b[38;5;28;01mreturn\u001b[39;00m \u001b[38;5;28mself\u001b[39m\u001b[38;5;241m.\u001b[39m_iterator\n\u001b[1;32m    438\u001b[0m \u001b[38;5;28;01melse\u001b[39;00m:\n\u001b[0;32m--> 439\u001b[0m     \u001b[38;5;28;01mreturn\u001b[39;00m \u001b[38;5;28;43mself\u001b[39;49m\u001b[38;5;241;43m.\u001b[39;49m\u001b[43m_get_iterator\u001b[49m\u001b[43m(\u001b[49m\u001b[43m)\u001b[49m\n",
      "File \u001b[0;32m/opt/conda/envs/pytorch/lib/python3.10/site-packages/torch/utils/data/dataloader.py:387\u001b[0m, in \u001b[0;36mDataLoader._get_iterator\u001b[0;34m(self)\u001b[0m\n\u001b[1;32m    385\u001b[0m \u001b[38;5;28;01melse\u001b[39;00m:\n\u001b[1;32m    386\u001b[0m     \u001b[38;5;28mself\u001b[39m\u001b[38;5;241m.\u001b[39mcheck_worker_number_rationality()\n\u001b[0;32m--> 387\u001b[0m     \u001b[38;5;28;01mreturn\u001b[39;00m \u001b[43m_MultiProcessingDataLoaderIter\u001b[49m\u001b[43m(\u001b[49m\u001b[38;5;28;43mself\u001b[39;49m\u001b[43m)\u001b[49m\n",
      "File \u001b[0;32m/opt/conda/envs/pytorch/lib/python3.10/site-packages/torch/utils/data/dataloader.py:1040\u001b[0m, in \u001b[0;36m_MultiProcessingDataLoaderIter.__init__\u001b[0;34m(self, loader)\u001b[0m\n\u001b[1;32m   1033\u001b[0m w\u001b[38;5;241m.\u001b[39mdaemon \u001b[38;5;241m=\u001b[39m \u001b[38;5;28;01mTrue\u001b[39;00m\n\u001b[1;32m   1034\u001b[0m \u001b[38;5;66;03m# NB: Process.start() actually take some time as it needs to\u001b[39;00m\n\u001b[1;32m   1035\u001b[0m \u001b[38;5;66;03m#     start a process and pass the arguments over via a pipe.\u001b[39;00m\n\u001b[1;32m   1036\u001b[0m \u001b[38;5;66;03m#     Therefore, we only add a worker to self._workers list after\u001b[39;00m\n\u001b[1;32m   1037\u001b[0m \u001b[38;5;66;03m#     it started, so that we do not call .join() if program dies\u001b[39;00m\n\u001b[1;32m   1038\u001b[0m \u001b[38;5;66;03m#     before it starts, and __del__ tries to join but will get:\u001b[39;00m\n\u001b[1;32m   1039\u001b[0m \u001b[38;5;66;03m#     AssertionError: can only join a started process.\u001b[39;00m\n\u001b[0;32m-> 1040\u001b[0m \u001b[43mw\u001b[49m\u001b[38;5;241;43m.\u001b[39;49m\u001b[43mstart\u001b[49m\u001b[43m(\u001b[49m\u001b[43m)\u001b[49m\n\u001b[1;32m   1041\u001b[0m \u001b[38;5;28mself\u001b[39m\u001b[38;5;241m.\u001b[39m_index_queues\u001b[38;5;241m.\u001b[39mappend(index_queue)\n\u001b[1;32m   1042\u001b[0m \u001b[38;5;28mself\u001b[39m\u001b[38;5;241m.\u001b[39m_workers\u001b[38;5;241m.\u001b[39mappend(w)\n",
      "File \u001b[0;32m/opt/conda/envs/pytorch/lib/python3.10/multiprocessing/process.py:121\u001b[0m, in \u001b[0;36mBaseProcess.start\u001b[0;34m(self)\u001b[0m\n\u001b[1;32m    118\u001b[0m \u001b[38;5;28;01massert\u001b[39;00m \u001b[38;5;129;01mnot\u001b[39;00m _current_process\u001b[38;5;241m.\u001b[39m_config\u001b[38;5;241m.\u001b[39mget(\u001b[38;5;124m'\u001b[39m\u001b[38;5;124mdaemon\u001b[39m\u001b[38;5;124m'\u001b[39m), \\\n\u001b[1;32m    119\u001b[0m        \u001b[38;5;124m'\u001b[39m\u001b[38;5;124mdaemonic processes are not allowed to have children\u001b[39m\u001b[38;5;124m'\u001b[39m\n\u001b[1;32m    120\u001b[0m _cleanup()\n\u001b[0;32m--> 121\u001b[0m \u001b[38;5;28mself\u001b[39m\u001b[38;5;241m.\u001b[39m_popen \u001b[38;5;241m=\u001b[39m \u001b[38;5;28;43mself\u001b[39;49m\u001b[38;5;241;43m.\u001b[39;49m\u001b[43m_Popen\u001b[49m\u001b[43m(\u001b[49m\u001b[38;5;28;43mself\u001b[39;49m\u001b[43m)\u001b[49m\n\u001b[1;32m    122\u001b[0m \u001b[38;5;28mself\u001b[39m\u001b[38;5;241m.\u001b[39m_sentinel \u001b[38;5;241m=\u001b[39m \u001b[38;5;28mself\u001b[39m\u001b[38;5;241m.\u001b[39m_popen\u001b[38;5;241m.\u001b[39msentinel\n\u001b[1;32m    123\u001b[0m \u001b[38;5;66;03m# Avoid a refcycle if the target function holds an indirect\u001b[39;00m\n\u001b[1;32m    124\u001b[0m \u001b[38;5;66;03m# reference to the process object (see bpo-30775)\u001b[39;00m\n",
      "File \u001b[0;32m/opt/conda/envs/pytorch/lib/python3.10/multiprocessing/context.py:224\u001b[0m, in \u001b[0;36mProcess._Popen\u001b[0;34m(process_obj)\u001b[0m\n\u001b[1;32m    222\u001b[0m \u001b[38;5;129m@staticmethod\u001b[39m\n\u001b[1;32m    223\u001b[0m \u001b[38;5;28;01mdef\u001b[39;00m \u001b[38;5;21m_Popen\u001b[39m(process_obj):\n\u001b[0;32m--> 224\u001b[0m     \u001b[38;5;28;01mreturn\u001b[39;00m \u001b[43m_default_context\u001b[49m\u001b[38;5;241;43m.\u001b[39;49m\u001b[43mget_context\u001b[49m\u001b[43m(\u001b[49m\u001b[43m)\u001b[49m\u001b[38;5;241;43m.\u001b[39;49m\u001b[43mProcess\u001b[49m\u001b[38;5;241;43m.\u001b[39;49m\u001b[43m_Popen\u001b[49m\u001b[43m(\u001b[49m\u001b[43mprocess_obj\u001b[49m\u001b[43m)\u001b[49m\n",
      "File \u001b[0;32m/opt/conda/envs/pytorch/lib/python3.10/multiprocessing/context.py:281\u001b[0m, in \u001b[0;36mForkProcess._Popen\u001b[0;34m(process_obj)\u001b[0m\n\u001b[1;32m    278\u001b[0m \u001b[38;5;129m@staticmethod\u001b[39m\n\u001b[1;32m    279\u001b[0m \u001b[38;5;28;01mdef\u001b[39;00m \u001b[38;5;21m_Popen\u001b[39m(process_obj):\n\u001b[1;32m    280\u001b[0m     \u001b[38;5;28;01mfrom\u001b[39;00m \u001b[38;5;21;01m.\u001b[39;00m\u001b[38;5;21;01mpopen_fork\u001b[39;00m \u001b[38;5;28;01mimport\u001b[39;00m Popen\n\u001b[0;32m--> 281\u001b[0m     \u001b[38;5;28;01mreturn\u001b[39;00m \u001b[43mPopen\u001b[49m\u001b[43m(\u001b[49m\u001b[43mprocess_obj\u001b[49m\u001b[43m)\u001b[49m\n",
      "File \u001b[0;32m/opt/conda/envs/pytorch/lib/python3.10/multiprocessing/popen_fork.py:19\u001b[0m, in \u001b[0;36mPopen.__init__\u001b[0;34m(self, process_obj)\u001b[0m\n\u001b[1;32m     17\u001b[0m \u001b[38;5;28mself\u001b[39m\u001b[38;5;241m.\u001b[39mreturncode \u001b[38;5;241m=\u001b[39m \u001b[38;5;28;01mNone\u001b[39;00m\n\u001b[1;32m     18\u001b[0m \u001b[38;5;28mself\u001b[39m\u001b[38;5;241m.\u001b[39mfinalizer \u001b[38;5;241m=\u001b[39m \u001b[38;5;28;01mNone\u001b[39;00m\n\u001b[0;32m---> 19\u001b[0m \u001b[38;5;28;43mself\u001b[39;49m\u001b[38;5;241;43m.\u001b[39;49m\u001b[43m_launch\u001b[49m\u001b[43m(\u001b[49m\u001b[43mprocess_obj\u001b[49m\u001b[43m)\u001b[49m\n",
      "File \u001b[0;32m/opt/conda/envs/pytorch/lib/python3.10/multiprocessing/popen_fork.py:66\u001b[0m, in \u001b[0;36mPopen._launch\u001b[0;34m(self, process_obj)\u001b[0m\n\u001b[1;32m     64\u001b[0m parent_r, child_w \u001b[38;5;241m=\u001b[39m os\u001b[38;5;241m.\u001b[39mpipe()\n\u001b[1;32m     65\u001b[0m child_r, parent_w \u001b[38;5;241m=\u001b[39m os\u001b[38;5;241m.\u001b[39mpipe()\n\u001b[0;32m---> 66\u001b[0m \u001b[38;5;28mself\u001b[39m\u001b[38;5;241m.\u001b[39mpid \u001b[38;5;241m=\u001b[39m \u001b[43mos\u001b[49m\u001b[38;5;241;43m.\u001b[39;49m\u001b[43mfork\u001b[49m\u001b[43m(\u001b[49m\u001b[43m)\u001b[49m\n\u001b[1;32m     67\u001b[0m \u001b[38;5;28;01mif\u001b[39;00m \u001b[38;5;28mself\u001b[39m\u001b[38;5;241m.\u001b[39mpid \u001b[38;5;241m==\u001b[39m \u001b[38;5;241m0\u001b[39m:\n\u001b[1;32m     68\u001b[0m     \u001b[38;5;28;01mtry\u001b[39;00m:\n",
      "\u001b[0;31mKeyboardInterrupt\u001b[0m: "
     ]
    }
   ],
   "source": [
    "# STEPS = 10000, MODEL TYPE = MEDIUM, WEIGHT = none\n",
    "model9 = EfficientAD({**config, \"train_steps\": 10000, \"model_type\": \"medium\", \"weight_path\":\"\"})\n",
    "model9.create_model()\n",
    "model9.display_eval_result()"
   ]
  },
  {
   "cell_type": "markdown",
   "metadata": {},
   "source": [
    "---"
   ]
  },
  {
   "cell_type": "code",
   "execution_count": 13,
   "metadata": {},
   "outputs": [
    {
     "name": "stdout",
     "output_type": "stream",
     "text": [
      "- Setting seed to 42\n",
      "- OK - Setting seed to 42 (0.42 ms)\n",
      "\n",
      "- Setting datasets path\n",
      "     Dataset paths: dict_keys(['anomaly_lvl_1_test_paths', 'anomaly_lvl_2_test_paths', 'anomaly_lvl_3_test_paths', 'no_anomaly_test_paths', 'all_anomaly_test_paths', 'train_paths', 'test_paths', 'val_paths'])\n",
      "- OK - Setting datasets path (4.70 ms)\n",
      "\n",
      "- Setting config\n",
      "     Output folder path: ../output/cookies_3_steps_20_small_weighted\n",
      "- OK - Setting config (0.21 ms)\n",
      "\n",
      "- Prepare teacher, student & autoencoder\n",
      "     Loading weight ../weights/teacher_small.pth\n",
      "     Training\n",
      "- OK - Prepare teacher, student & autoencoder (80.52 ms)\n",
      "\n",
      "- Normalizing teacher\n"
     ]
    },
    {
     "name": "stderr",
     "output_type": "stream",
     "text": [
      "    Computing mean of features: 100%|█████████████████████████████████████████████████████████████████████████████████████| 72/72 [00:01<00:00, 50.12it/s]\n",
      "    Computing std of features: 100%|██████████████████████████████████████████████████████████████████████████████████████| 72/72 [00:01<00:00, 49.47it/s]\n"
     ]
    },
    {
     "name": "stdout",
     "output_type": "stream",
     "text": [
      "- OK - Normalizing teacher (2.90 s)\n",
      "\n",
      "- Train\n"
     ]
    },
    {
     "name": "stderr",
     "output_type": "stream",
     "text": [
      "       Current loss: 39.9363  :   5%|████▎                                                                                 | 1/20 [00:01<00:30,  1.61s/it]"
     ]
    },
    {
     "name": "stdout",
     "output_type": "stream",
     "text": [
      "F1 Validation 0.9230769230769231\n"
     ]
    },
    {
     "name": "stderr",
     "output_type": "stream",
     "text": [
      "       Current loss: 60.6087  : 100%|█████████████████████████████████████████████████████████████████████████████████████| 20/20 [00:03<00:00,  5.16it/s]\n"
     ]
    },
    {
     "name": "stdout",
     "output_type": "stream",
     "text": [
      "- OK - Train (3.88 s)\n",
      "\n",
      "- Saving models to ../output/cookies_3_steps_20_small_weighted/all_models.pth\n",
      "- OK - Saving models (81.50 ms)\n",
      "\n",
      "- Saving map normalization to ../output/cookies_3_steps_20_small_weighted/map_normalization.pth\n"
     ]
    },
    {
     "name": "stderr",
     "output_type": "stream",
     "text": [
      "     Map normalisation: 100%|█████████████████████████████████████████████████████████████████████████████████████████████| 28/28 [00:00<00:00, 28.43it/s]\n"
     ]
    },
    {
     "name": "stdout",
     "output_type": "stream",
     "text": [
      "- OK - Saving map normalization (1018.72 ms)\n",
      "\n",
      "- Evaluating model\n"
     ]
    },
    {
     "name": "stderr",
     "output_type": "stream",
     "text": [
      "     inference test: 100%|██████████████████████████████████████████████████████████████████████████████████████████████| 100/100 [00:04<00:00, 22.01it/s]\n"
     ]
    },
    {
     "data": {
      "image/png": "[encoded data removed]",
      "text/plain": [
       "<Figure size 800x600 with 1 Axes>"
      ]
     },
     "metadata": {},
     "output_type": "display_data"
    },
    {
     "name": "stdout",
     "output_type": "stream",
     "text": [
      "\n",
      "     - AUC: 70.12%\n",
      "    - Optimal Threshold: 0.0674505\n",
      "    - F1 Score: 0.83\n",
      "    - CONFUSION MATRIX:\n",
      " [[13  7]\n",
      " [18 62]] \n",
      "\n"
     ]
    },
    {
     "name": "stderr",
     "output_type": "stream",
     "text": [
      "    inference anomaly lvl 1 test: 100%|███████████████████████████████████████████████████████████████████████████████████| 40/40 [00:01<00:00, 22.27it/s]\n",
      "    inference anomaly lvl 2 test: 100%|███████████████████████████████████████████████████████████████████████████████████| 20/20 [00:00<00:00, 22.20it/s]\n",
      "    inference anomaly lvl 3 test: 100%|███████████████████████████████████████████████████████████████████████████████████| 20/20 [00:00<00:00, 22.28it/s]\n",
      "    inference all anomaly test: 100%|███████████████████████████████████████████████████████████████████████████████████| 100/100 [00:04<00:00, 22.13it/s]\n"
     ]
    },
    {
     "name": "stdout",
     "output_type": "stream",
     "text": [
      "\n"
     ]
    },
    {
     "name": "stderr",
     "output_type": "stream",
     "text": [
      "    inference no anomaly test: 100%|██████████████████████████████████████████████████████████████████████████████████████| 20/20 [00:00<00:00, 22.14it/s]\n"
     ]
    },
    {
     "name": "stdout",
     "output_type": "stream",
     "text": [
      "\n",
      "- OK - Evaluating model (13.78 s)\n",
      "\n",
      "Dataset               F1 Score\n",
      "------------------------------\n",
      "Anonaly lvl 1 test        0.92\n",
      "Anonaly lvl 2 test        0.86\n",
      "Anonaly lvl 3 test        0.79\n",
      "\n",
      "Anomaly all test          0.88\n",
      "\n",
      "No Anomaly Test           0.79\n",
      "\n",
      "All test                  0.83\n"
     ]
    }
   ],
   "source": [
    "# STEPS = 20, MODEL TYPE = SMALL, WEIGHT = on\n",
    "model11 = EfficientAD({**config, \"train_steps\": 20, \"model_type\": \"small\", \"weight_path\":\"../weights/teacher_small.pth\"})\n",
    "model11.create_model()\n",
    "model11.display_eval_result()"
   ]
  },
  {
   "cell_type": "code",
   "execution_count": 14,
   "metadata": {},
   "outputs": [
    {
     "name": "stdout",
     "output_type": "stream",
     "text": [
      "- Setting seed to 42\n",
      "- OK - Setting seed to 42 (0.78 ms)\n",
      "\n",
      "- Setting datasets path\n",
      "     Dataset paths: dict_keys(['anomaly_lvl_1_test_paths', 'anomaly_lvl_2_test_paths', 'anomaly_lvl_3_test_paths', 'no_anomaly_test_paths', 'all_anomaly_test_paths', 'train_paths', 'test_paths', 'val_paths'])\n",
      "- OK - Setting datasets path (3.94 ms)\n",
      "\n",
      "- Setting config\n",
      "     Output folder path: ../output/cookies_3_steps_500_small_weighted\n",
      "- OK - Setting config (0.11 ms)\n",
      "\n",
      "- Prepare teacher, student & autoencoder\n",
      "     Loading weight ../weights/teacher_small.pth\n",
      "     Training\n",
      "- OK - Prepare teacher, student & autoencoder (74.82 ms)\n",
      "\n",
      "- Normalizing teacher\n"
     ]
    },
    {
     "name": "stderr",
     "output_type": "stream",
     "text": [
      "    Computing mean of features: 100%|█████████████████████████████████████████████████████████████████████████████████████| 72/72 [00:01<00:00, 49.95it/s]\n",
      "    Computing std of features: 100%|██████████████████████████████████████████████████████████████████████████████████████| 72/72 [00:01<00:00, 49.40it/s]\n"
     ]
    },
    {
     "name": "stdout",
     "output_type": "stream",
     "text": [
      "- OK - Normalizing teacher (2.90 s)\n",
      "\n",
      "- Train\n"
     ]
    },
    {
     "name": "stderr",
     "output_type": "stream",
     "text": [
      "       Current loss: 39.9363  :   0%|▏                                                                                    | 1/500 [00:01<13:26,  1.62s/it]"
     ]
    },
    {
     "name": "stdout",
     "output_type": "stream",
     "text": [
      "F1 Validation 0.9230769230769231\n"
     ]
    },
    {
     "name": "stderr",
     "output_type": "stream",
     "text": [
      "       Current loss: 20.2424  :  20%|████████████████▊                                                                  | 101/500 [00:15<03:21,  1.98it/s]"
     ]
    },
    {
     "name": "stdout",
     "output_type": "stream",
     "text": [
      "F1 Validation 0.918918918918919\n"
     ]
    },
    {
     "name": "stderr",
     "output_type": "stream",
     "text": [
      "       Current loss: 12.9697  :  40%|█████████████████████████████████▎                                                 | 201/500 [00:29<02:30,  1.98it/s]"
     ]
    },
    {
     "name": "stdout",
     "output_type": "stream",
     "text": [
      "F1 Validation 0.918918918918919\n"
     ]
    },
    {
     "name": "stderr",
     "output_type": "stream",
     "text": [
      "       Current loss: 11.6319  :  60%|█████████████████████████████████████████████████▉                                 | 301/500 [00:43<01:40,  1.97it/s]"
     ]
    },
    {
     "name": "stdout",
     "output_type": "stream",
     "text": [
      "F1 Validation 0.975609756097561\n"
     ]
    },
    {
     "name": "stderr",
     "output_type": "stream",
     "text": [
      "       Current loss: 9.2919  :  80%|███████████████████████████████████████████████████████████████████▎                | 401/500 [00:56<00:50,  1.96it/s]"
     ]
    },
    {
     "name": "stdout",
     "output_type": "stream",
     "text": [
      "F1 Validation 0.918918918918919\n"
     ]
    },
    {
     "name": "stderr",
     "output_type": "stream",
     "text": [
      "       Current loss: 8.1361  : 100%|████████████████████████████████████████████████████████████████████████████████████| 500/500 [01:09<00:00,  7.22it/s]\n"
     ]
    },
    {
     "name": "stdout",
     "output_type": "stream",
     "text": [
      "- OK - Train (69.28 s)\n",
      "\n",
      "- Saving models to ../output/cookies_3_steps_500_small_weighted/all_models.pth\n",
      "- OK - Saving models (79.04 ms)\n",
      "\n",
      "- Saving map normalization to ../output/cookies_3_steps_500_small_weighted/map_normalization.pth\n"
     ]
    },
    {
     "name": "stderr",
     "output_type": "stream",
     "text": [
      "     Map normalisation: 100%|█████████████████████████████████████████████████████████████████████████████████████████████| 28/28 [00:00<00:00, 28.24it/s]\n"
     ]
    },
    {
     "name": "stdout",
     "output_type": "stream",
     "text": [
      "- OK - Saving map normalization (1025.01 ms)\n",
      "\n",
      "- Evaluating model\n"
     ]
    },
    {
     "name": "stderr",
     "output_type": "stream",
     "text": [
      "     inference test: 100%|██████████████████████████████████████████████████████████████████████████████████████████████| 100/100 [00:04<00:00, 21.85it/s]\n"
     ]
    },
    {
     "data": {
      "image/png": "[encoded data removed]",
      "text/plain": [
       "<Figure size 800x600 with 1 Axes>"
      ]
     },
     "metadata": {},
     "output_type": "display_data"
    },
    {
     "name": "stdout",
     "output_type": "stream",
     "text": [
      "\n",
      "     - AUC: 97.94%\n",
      "    - Optimal Threshold: 0.0322094\n",
      "    - F1 Score: 0.96\n",
      "    - CONFUSION MATRIX:\n",
      " [[18  2]\n",
      " [ 4 76]] \n",
      "\n"
     ]
    },
    {
     "name": "stderr",
     "output_type": "stream",
     "text": [
      "    inference anomaly lvl 1 test: 100%|███████████████████████████████████████████████████████████████████████████████████| 40/40 [00:01<00:00, 22.12it/s]\n",
      "    inference anomaly lvl 2 test: 100%|███████████████████████████████████████████████████████████████████████████████████| 20/20 [00:00<00:00, 22.10it/s]\n",
      "    inference anomaly lvl 3 test: 100%|███████████████████████████████████████████████████████████████████████████████████| 20/20 [00:00<00:00, 22.01it/s]\n",
      "    inference all anomaly test: 100%|███████████████████████████████████████████████████████████████████████████████████| 100/100 [00:04<00:00, 22.06it/s]\n"
     ]
    },
    {
     "name": "stdout",
     "output_type": "stream",
     "text": [
      "\n"
     ]
    },
    {
     "name": "stderr",
     "output_type": "stream",
     "text": [
      "    inference no anomaly test: 100%|██████████████████████████████████████████████████████████████████████████████████████| 20/20 [00:00<00:00, 22.12it/s]\n"
     ]
    },
    {
     "name": "stdout",
     "output_type": "stream",
     "text": [
      "\n",
      "- OK - Evaluating model (13.87 s)\n",
      "\n",
      "Dataset               F1 Score\n",
      "------------------------------\n",
      "Anonaly lvl 1 test        1.00\n",
      "Anonaly lvl 2 test        1.00\n",
      "Anonaly lvl 3 test        0.89\n",
      "\n",
      "Anomaly all test          0.98\n",
      "\n",
      "No Anomaly Test           0.95\n",
      "\n",
      "All test                  0.96\n"
     ]
    }
   ],
   "source": [
    "# STEPS = 500, MODEL TYPE = SMALL, WEIGHT = on\n",
    "model12 = EfficientAD({**config, \"train_steps\": 500, \"model_type\": \"small\", \"weight_path\":\"../weights/teacher_small.pth\"})\n",
    "model12.create_model()\n",
    "model12.display_eval_result()"
   ]
  },
  {
   "cell_type": "code",
   "execution_count": 15,
   "metadata": {},
   "outputs": [
    {
     "name": "stdout",
     "output_type": "stream",
     "text": [
      "- Setting seed to 42\n",
      "- OK - Setting seed to 42 (0.27 ms)\n",
      "\n",
      "- Setting datasets path\n",
      "     Dataset paths: dict_keys(['anomaly_lvl_1_test_paths', 'anomaly_lvl_2_test_paths', 'anomaly_lvl_3_test_paths', 'no_anomaly_test_paths', 'all_anomaly_test_paths', 'train_paths', 'test_paths', 'val_paths'])\n",
      "- OK - Setting datasets path (4.67 ms)\n",
      "\n",
      "- Setting config\n",
      "     Output folder path: ../output/cookies_3_steps_5000_small_weighted\n",
      "- OK - Setting config (0.14 ms)\n",
      "\n",
      "- Prepare teacher, student & autoencoder\n",
      "     Loading weight ../weights/teacher_small.pth\n",
      "     Training\n",
      "- OK - Prepare teacher, student & autoencoder (74.20 ms)\n",
      "\n",
      "- Normalizing teacher\n"
     ]
    },
    {
     "name": "stderr",
     "output_type": "stream",
     "text": [
      "    Computing mean of features: 100%|█████████████████████████████████████████████████████████████████████████████████████| 72/72 [00:01<00:00, 51.03it/s]\n",
      "    Computing std of features: 100%|██████████████████████████████████████████████████████████████████████████████████████| 72/72 [00:01<00:00, 49.76it/s]\n"
     ]
    },
    {
     "name": "stdout",
     "output_type": "stream",
     "text": [
      "- OK - Normalizing teacher (2.86 s)\n",
      "\n",
      "- Train\n"
     ]
    },
    {
     "name": "stderr",
     "output_type": "stream",
     "text": [
      "       Current loss: 39.9363  :   0%|                                                                                  | 1/5000 [00:01<2:13:48,  1.61s/it]"
     ]
    },
    {
     "name": "stdout",
     "output_type": "stream",
     "text": [
      "F1 Validation 0.9230769230769231\n"
     ]
    },
    {
     "name": "stderr",
     "output_type": "stream",
     "text": [
      "       Current loss: 20.2371  :   2%|█▋                                                                                | 101/5000 [00:15<41:17,  1.98it/s]"
     ]
    },
    {
     "name": "stdout",
     "output_type": "stream",
     "text": [
      "F1 Validation 0.918918918918919\n"
     ]
    },
    {
     "name": "stderr",
     "output_type": "stream",
     "text": [
      "       Current loss: 12.9873  :   4%|███▎                                                                              | 201/5000 [00:29<40:32,  1.97it/s]"
     ]
    },
    {
     "name": "stdout",
     "output_type": "stream",
     "text": [
      "F1 Validation 0.918918918918919\n"
     ]
    },
    {
     "name": "stderr",
     "output_type": "stream",
     "text": [
      "       Current loss: 11.6855  :   6%|████▉                                                                             | 301/5000 [00:43<39:49,  1.97it/s]"
     ]
    },
    {
     "name": "stdout",
     "output_type": "stream",
     "text": [
      "F1 Validation 0.975609756097561\n"
     ]
    },
    {
     "name": "stderr",
     "output_type": "stream",
     "text": [
      "       Current loss: 9.3164  :   8%|██████▋                                                                            | 401/5000 [00:57<38:47,  1.98it/s]"
     ]
    },
    {
     "name": "stdout",
     "output_type": "stream",
     "text": [
      "F1 Validation 0.918918918918919\n"
     ]
    },
    {
     "name": "stderr",
     "output_type": "stream",
     "text": [
      "       Current loss: 10.1041  :  10%|████████▏                                                                         | 501/5000 [01:11<38:14,  1.96it/s]"
     ]
    },
    {
     "name": "stdout",
     "output_type": "stream",
     "text": [
      "F1 Validation 0.9743589743589743\n"
     ]
    },
    {
     "name": "stderr",
     "output_type": "stream",
     "text": [
      "       Current loss: 8.1916  :  12%|█████████▉                                                                         | 601/5000 [01:25<37:40,  1.95it/s]"
     ]
    },
    {
     "name": "stdout",
     "output_type": "stream",
     "text": [
      "F1 Validation 0.9743589743589743\n"
     ]
    },
    {
     "name": "stderr",
     "output_type": "stream",
     "text": [
      "       Current loss: 7.4264  :  14%|███████████▋                                                                       | 701/5000 [01:39<36:17,  1.97it/s]"
     ]
    },
    {
     "name": "stdout",
     "output_type": "stream",
     "text": [
      "F1 Validation 0.9473684210526315\n"
     ]
    },
    {
     "name": "stderr",
     "output_type": "stream",
     "text": [
      "       Current loss: 8.9889  :  16%|█████████████▎                                                                     | 801/5000 [01:53<36:03,  1.94it/s]"
     ]
    },
    {
     "name": "stdout",
     "output_type": "stream",
     "text": [
      "F1 Validation 0.9473684210526315\n"
     ]
    },
    {
     "name": "stderr",
     "output_type": "stream",
     "text": [
      "       Current loss: 7.6123  :  18%|██████████████▉                                                                    | 901/5000 [02:07<34:44,  1.97it/s]"
     ]
    },
    {
     "name": "stdout",
     "output_type": "stream",
     "text": [
      "F1 Validation 0.9473684210526315\n"
     ]
    },
    {
     "name": "stderr",
     "output_type": "stream",
     "text": [
      "       Current loss: 6.0918  :  20%|████████████████▍                                                                 | 1001/5000 [02:21<33:56,  1.96it/s]"
     ]
    },
    {
     "name": "stdout",
     "output_type": "stream",
     "text": [
      "F1 Validation 0.9743589743589743\n"
     ]
    },
    {
     "name": "stderr",
     "output_type": "stream",
     "text": [
      "       Current loss: 7.6462  :  22%|██████████████████                                                                | 1101/5000 [02:35<32:54,  1.97it/s]"
     ]
    },
    {
     "name": "stdout",
     "output_type": "stream",
     "text": [
      "F1 Validation 0.975609756097561\n"
     ]
    },
    {
     "name": "stderr",
     "output_type": "stream",
     "text": [
      "       Current loss: 7.4376  :  24%|███████████████████▋                                                              | 1201/5000 [02:49<32:13,  1.96it/s]"
     ]
    },
    {
     "name": "stdout",
     "output_type": "stream",
     "text": [
      "F1 Validation 0.975609756097561\n"
     ]
    },
    {
     "name": "stderr",
     "output_type": "stream",
     "text": [
      "       Current loss: 6.3026  :  26%|█████████████████████▎                                                            | 1301/5000 [03:03<32:17,  1.91it/s]"
     ]
    },
    {
     "name": "stdout",
     "output_type": "stream",
     "text": [
      "F1 Validation 0.975609756097561\n"
     ]
    },
    {
     "name": "stderr",
     "output_type": "stream",
     "text": [
      "       Current loss: 6.3493  :  28%|██████████████████████▉                                                           | 1401/5000 [03:17<30:47,  1.95it/s]"
     ]
    },
    {
     "name": "stdout",
     "output_type": "stream",
     "text": [
      "F1 Validation 0.9743589743589743\n"
     ]
    },
    {
     "name": "stderr",
     "output_type": "stream",
     "text": [
      "       Current loss: 6.6122  :  30%|████████████████████████▌                                                         | 1501/5000 [03:31<29:39,  1.97it/s]"
     ]
    },
    {
     "name": "stdout",
     "output_type": "stream",
     "text": [
      "F1 Validation 0.975609756097561\n"
     ]
    },
    {
     "name": "stderr",
     "output_type": "stream",
     "text": [
      "       Current loss: 13.8073  :  32%|█████████████████████████▉                                                       | 1601/5000 [03:45<29:10,  1.94it/s]"
     ]
    },
    {
     "name": "stdout",
     "output_type": "stream",
     "text": [
      "F1 Validation 0.9743589743589743\n"
     ]
    },
    {
     "name": "stderr",
     "output_type": "stream",
     "text": [
      "       Current loss: 6.6579  :  34%|███████████████████████████▉                                                      | 1701/5000 [03:59<28:15,  1.95it/s]"
     ]
    },
    {
     "name": "stdout",
     "output_type": "stream",
     "text": [
      "F1 Validation 1.0\n"
     ]
    },
    {
     "name": "stderr",
     "output_type": "stream",
     "text": [
      "       Current loss: 7.0115  :  36%|█████████████████████████████▌                                                    | 1801/5000 [04:13<31:47,  1.68it/s]"
     ]
    },
    {
     "name": "stdout",
     "output_type": "stream",
     "text": [
      "F1 Validation 1.0\n"
     ]
    },
    {
     "name": "stderr",
     "output_type": "stream",
     "text": [
      "       Current loss: 5.4137  :  38%|███████████████████████████████▏                                                  | 1901/5000 [04:27<26:20,  1.96it/s]"
     ]
    },
    {
     "name": "stdout",
     "output_type": "stream",
     "text": [
      "F1 Validation 0.975609756097561\n"
     ]
    },
    {
     "name": "stderr",
     "output_type": "stream",
     "text": [
      "       Current loss: 5.8775  :  40%|████████████████████████████████▊                                                 | 2001/5000 [04:41<25:23,  1.97it/s]"
     ]
    },
    {
     "name": "stdout",
     "output_type": "stream",
     "text": [
      "F1 Validation 1.0\n"
     ]
    },
    {
     "name": "stderr",
     "output_type": "stream",
     "text": [
      "       Current loss: 5.6189  :  42%|██████████████████████████████████▍                                               | 2101/5000 [04:55<24:29,  1.97it/s]"
     ]
    },
    {
     "name": "stdout",
     "output_type": "stream",
     "text": [
      "F1 Validation 0.975609756097561\n"
     ]
    },
    {
     "name": "stderr",
     "output_type": "stream",
     "text": [
      "       Current loss: 6.2148  :  44%|████████████████████████████████████                                              | 2201/5000 [05:09<24:07,  1.93it/s]"
     ]
    },
    {
     "name": "stdout",
     "output_type": "stream",
     "text": [
      "F1 Validation 1.0\n"
     ]
    },
    {
     "name": "stderr",
     "output_type": "stream",
     "text": [
      "       Current loss: 6.0581  :  46%|█████████████████████████████████████▋                                            | 2301/5000 [05:23<22:56,  1.96it/s]"
     ]
    },
    {
     "name": "stdout",
     "output_type": "stream",
     "text": [
      "F1 Validation 1.0\n"
     ]
    },
    {
     "name": "stderr",
     "output_type": "stream",
     "text": [
      "       Current loss: 6.0633  :  48%|███████████████████████████████████████▍                                          | 2401/5000 [05:37<22:26,  1.93it/s]"
     ]
    },
    {
     "name": "stdout",
     "output_type": "stream",
     "text": [
      "F1 Validation 0.9473684210526315\n"
     ]
    },
    {
     "name": "stderr",
     "output_type": "stream",
     "text": [
      "       Current loss: 5.7604  :  50%|█████████████████████████████████████████                                         | 2501/5000 [05:51<21:04,  1.98it/s]"
     ]
    },
    {
     "name": "stdout",
     "output_type": "stream",
     "text": [
      "F1 Validation 1.0\n"
     ]
    },
    {
     "name": "stderr",
     "output_type": "stream",
     "text": [
      "       Current loss: 6.0447  :  52%|██████████████████████████████████████████▋                                       | 2601/5000 [06:05<20:35,  1.94it/s]"
     ]
    },
    {
     "name": "stdout",
     "output_type": "stream",
     "text": [
      "F1 Validation 1.0\n"
     ]
    },
    {
     "name": "stderr",
     "output_type": "stream",
     "text": [
      "       Current loss: 5.9753  :  54%|████████████████████████████████████████████▎                                     | 2701/5000 [06:19<19:29,  1.97it/s]"
     ]
    },
    {
     "name": "stdout",
     "output_type": "stream",
     "text": [
      "F1 Validation 1.0\n"
     ]
    },
    {
     "name": "stderr",
     "output_type": "stream",
     "text": [
      "       Current loss: 4.8369  :  56%|█████████████████████████████████████████████▉                                    | 2801/5000 [06:33<18:54,  1.94it/s]"
     ]
    },
    {
     "name": "stdout",
     "output_type": "stream",
     "text": [
      "F1 Validation 1.0\n"
     ]
    },
    {
     "name": "stderr",
     "output_type": "stream",
     "text": [
      "       Current loss: 5.9145  :  58%|███████████████████████████████████████████████▌                                  | 2901/5000 [06:47<17:48,  1.96it/s]"
     ]
    },
    {
     "name": "stdout",
     "output_type": "stream",
     "text": [
      "F1 Validation 1.0\n"
     ]
    },
    {
     "name": "stderr",
     "output_type": "stream",
     "text": [
      "       Current loss: 5.3674  :  60%|█████████████████████████████████████████████████▏                                | 3001/5000 [07:01<17:11,  1.94it/s]"
     ]
    },
    {
     "name": "stdout",
     "output_type": "stream",
     "text": [
      "F1 Validation 1.0\n"
     ]
    },
    {
     "name": "stderr",
     "output_type": "stream",
     "text": [
      "       Current loss: 5.0132  :  62%|██████████████████████████████████████████████████▊                               | 3101/5000 [07:15<16:40,  1.90it/s]"
     ]
    },
    {
     "name": "stdout",
     "output_type": "stream",
     "text": [
      "F1 Validation 1.0\n"
     ]
    },
    {
     "name": "stderr",
     "output_type": "stream",
     "text": [
      "       Current loss: 4.9510  :  64%|████████████████████████████████████████████████████▍                             | 3200/5000 [07:29<04:12,  7.12it/s]\n"
     ]
    },
    {
     "name": "stdout",
     "output_type": "stream",
     "text": [
      "F1 Validation 1.0\n",
      "Early stopping at iteration 3201 because validation F1 did not improve.\n",
      "- OK - Train (449.25 s)\n",
      "\n",
      "- Saving models to ../output/cookies_3_steps_5000_small_weighted/all_models.pth\n",
      "- OK - Saving models (61.16 ms)\n",
      "\n",
      "- Saving map normalization to ../output/cookies_3_steps_5000_small_weighted/map_normalization.pth\n"
     ]
    },
    {
     "name": "stderr",
     "output_type": "stream",
     "text": [
      "     Map normalisation: 100%|█████████████████████████████████████████████████████████████████████████████████████████████| 28/28 [00:00<00:00, 28.64it/s]\n"
     ]
    },
    {
     "name": "stdout",
     "output_type": "stream",
     "text": [
      "- OK - Saving map normalization (1011.50 ms)\n",
      "\n",
      "- Evaluating model\n"
     ]
    },
    {
     "name": "stderr",
     "output_type": "stream",
     "text": [
      "     inference test: 100%|██████████████████████████████████████████████████████████████████████████████████████████████| 100/100 [00:04<00:00, 22.17it/s]\n"
     ]
    },
    {
     "data": {
      "image/png": "[encoded data removed]",
      "text/plain": [
       "<Figure size 800x600 with 1 Axes>"
      ]
     },
     "metadata": {},
     "output_type": "display_data"
    },
    {
     "name": "stdout",
     "output_type": "stream",
     "text": [
      "\n",
      "     - AUC: 99.94%\n",
      "    - Optimal Threshold: 0.0333683\n",
      "    - F1 Score: 0.99\n",
      "    - CONFUSION MATRIX:\n",
      " [[20  0]\n",
      " [ 1 79]] \n",
      "\n"
     ]
    },
    {
     "name": "stderr",
     "output_type": "stream",
     "text": [
      "    inference anomaly lvl 1 test: 100%|███████████████████████████████████████████████████████████████████████████████████| 40/40 [00:01<00:00, 21.95it/s]\n",
      "    inference anomaly lvl 2 test: 100%|███████████████████████████████████████████████████████████████████████████████████| 20/20 [00:00<00:00, 21.95it/s]\n",
      "    inference anomaly lvl 3 test: 100%|███████████████████████████████████████████████████████████████████████████████████| 20/20 [00:00<00:00, 21.97it/s]\n",
      "    inference all anomaly test: 100%|███████████████████████████████████████████████████████████████████████████████████| 100/100 [00:04<00:00, 21.94it/s]\n"
     ]
    },
    {
     "name": "stdout",
     "output_type": "stream",
     "text": [
      "\n"
     ]
    },
    {
     "name": "stderr",
     "output_type": "stream",
     "text": [
      "    inference no anomaly test: 100%|██████████████████████████████████████████████████████████████████████████████████████| 20/20 [00:00<00:00, 21.96it/s]\n"
     ]
    },
    {
     "name": "stdout",
     "output_type": "stream",
     "text": [
      "\n",
      "- OK - Evaluating model (13.85 s)\n",
      "\n",
      "Dataset               F1 Score\n",
      "------------------------------\n",
      "Anonaly lvl 1 test        1.00\n",
      "Anonaly lvl 2 test        1.00\n",
      "Anonaly lvl 3 test        0.97\n",
      "\n",
      "Anomaly all test          0.99\n",
      "\n",
      "No Anomaly Test           1.00\n",
      "\n",
      "All test                  0.99\n"
     ]
    }
   ],
   "source": [
    "# STEPS = 5000, MODEL TYPE = SMALL, WEIGHT = on\n",
    "model13 = EfficientAD({**config, \"train_steps\": 5000, \"model_type\": \"small\", \"weight_path\":\"../weights/teacher_small.pth\"})\n",
    "model13.create_model()\n",
    "model13.display_eval_result()"
   ]
  },
  {
   "cell_type": "code",
   "execution_count": null,
   "metadata": {},
   "outputs": [],
   "source": [
    "# STEPS = 10000, MODEL TYPE = SMALL, WEIGHT = on\n",
    "model14 = EfficientAD({**config, \"train_steps\": 10000, \"model_type\": \"small\", \"weight_path\":\"../weights/teacher_small.pth\"})\n",
    "model14.create_model()\n",
    "model14.display_eval_result()"
   ]
  },
  {
   "cell_type": "markdown",
   "metadata": {},
   "source": [
    "---"
   ]
  },
  {
   "cell_type": "code",
   "execution_count": 16,
   "metadata": {},
   "outputs": [
    {
     "name": "stdout",
     "output_type": "stream",
     "text": [
      "- Setting seed to 42\n",
      "- OK - Setting seed to 42 (0.28 ms)\n",
      "\n",
      "- Setting datasets path\n",
      "     Dataset paths: dict_keys(['anomaly_lvl_1_test_paths', 'anomaly_lvl_2_test_paths', 'anomaly_lvl_3_test_paths', 'no_anomaly_test_paths', 'all_anomaly_test_paths', 'train_paths', 'test_paths', 'val_paths'])\n",
      "- OK - Setting datasets path (4.62 ms)\n",
      "\n",
      "- Setting config\n",
      "     Output folder path: ../output/cookies_3_steps_20_medium_weighted\n",
      "- OK - Setting config (0.11 ms)\n",
      "\n",
      "- Prepare teacher, student & autoencoder\n",
      "     Loading weight ../weights/teacher_medium.pth\n",
      "     Training\n",
      "- OK - Prepare teacher, student & autoencoder (211.90 ms)\n",
      "\n",
      "- Normalizing teacher\n"
     ]
    },
    {
     "name": "stderr",
     "output_type": "stream",
     "text": [
      "    Computing mean of features: 100%|█████████████████████████████████████████████████████████████████████████████████████| 72/72 [00:03<00:00, 21.57it/s]\n",
      "    Computing std of features: 100%|██████████████████████████████████████████████████████████████████████████████████████| 72/72 [00:03<00:00, 21.53it/s]\n"
     ]
    },
    {
     "name": "stdout",
     "output_type": "stream",
     "text": [
      "- OK - Normalizing teacher (6.69 s)\n",
      "\n",
      "- Train\n"
     ]
    },
    {
     "name": "stderr",
     "output_type": "stream",
     "text": [
      "       Current loss: 68.6309  :   5%|████▎                                                                                 | 1/20 [00:03<01:07,  3.55s/it]"
     ]
    },
    {
     "name": "stdout",
     "output_type": "stream",
     "text": [
      "F1 Validation 0.95\n"
     ]
    },
    {
     "name": "stderr",
     "output_type": "stream",
     "text": [
      "       Current loss: 42.8470  : 100%|█████████████████████████████████████████████████████████████████████████████████████| 20/20 [00:09<00:00,  2.05it/s]\n"
     ]
    },
    {
     "name": "stdout",
     "output_type": "stream",
     "text": [
      "- OK - Train (9.74 s)\n",
      "\n",
      "- Saving models to ../output/cookies_3_steps_20_medium_weighted/all_models.pth\n",
      "- OK - Saving models (204.05 ms)\n",
      "\n",
      "- Saving map normalization to ../output/cookies_3_steps_20_medium_weighted/map_normalization.pth\n"
     ]
    },
    {
     "name": "stderr",
     "output_type": "stream",
     "text": [
      "     Map normalisation: 100%|█████████████████████████████████████████████████████████████████████████████████████████████| 28/28 [00:02<00:00, 10.37it/s]\n"
     ]
    },
    {
     "name": "stdout",
     "output_type": "stream",
     "text": [
      "- OK - Saving map normalization (2796.52 ms)\n",
      "\n",
      "- Evaluating model\n"
     ]
    },
    {
     "name": "stderr",
     "output_type": "stream",
     "text": [
      "     inference test: 100%|██████████████████████████████████████████████████████████████████████████████████████████████| 100/100 [00:10<00:00,  9.14it/s]\n"
     ]
    },
    {
     "data": {
      "image/png": "[encoded data removed]",
      "text/plain": [
       "<Figure size 800x600 with 1 Axes>"
      ]
     },
     "metadata": {},
     "output_type": "display_data"
    },
    {
     "name": "stdout",
     "output_type": "stream",
     "text": [
      "\n",
      "     - AUC: 83.69%\n",
      "    - Optimal Threshold: 0.0326394\n",
      "    - F1 Score: 0.89\n",
      "    - CONFUSION MATRIX:\n",
      " [[16  4]\n",
      " [12 68]] \n",
      "\n"
     ]
    },
    {
     "name": "stderr",
     "output_type": "stream",
     "text": [
      "    inference anomaly lvl 1 test: 100%|███████████████████████████████████████████████████████████████████████████████████| 40/40 [00:04<00:00,  9.16it/s]\n",
      "    inference anomaly lvl 2 test: 100%|███████████████████████████████████████████████████████████████████████████████████| 20/20 [00:02<00:00,  9.15it/s]\n",
      "    inference anomaly lvl 3 test: 100%|███████████████████████████████████████████████████████████████████████████████████| 20/20 [00:02<00:00,  9.14it/s]\n",
      "    inference all anomaly test: 100%|███████████████████████████████████████████████████████████████████████████████████| 100/100 [00:10<00:00,  9.14it/s]\n"
     ]
    },
    {
     "name": "stdout",
     "output_type": "stream",
     "text": [
      "\n"
     ]
    },
    {
     "name": "stderr",
     "output_type": "stream",
     "text": [
      "    inference no anomaly test: 100%|██████████████████████████████████████████████████████████████████████████████████████| 20/20 [00:02<00:00,  9.12it/s]\n"
     ]
    },
    {
     "name": "stdout",
     "output_type": "stream",
     "text": [
      "\n",
      "- OK - Evaluating model (33.04 s)\n",
      "\n",
      "Dataset               F1 Score\n",
      "------------------------------\n",
      "Anonaly lvl 1 test        0.96\n",
      "Anonaly lvl 2 test        1.00\n",
      "Anonaly lvl 3 test        0.71\n",
      "\n",
      "Anomaly all test          0.92\n",
      "\n",
      "No Anomaly Test           0.89\n",
      "\n",
      "All test                  0.89\n"
     ]
    }
   ],
   "source": [
    "# STEPS = 20, MODEL TYPE = MEDIUM, WEIGHT = on\n",
    "model16 = EfficientAD({**config, \"train_steps\": 20, \"model_type\": \"medium\", \"weight_path\":\"../weights/teacher_medium.pth\"})\n",
    "model16.create_model()\n",
    "model16.display_eval_result()"
   ]
  },
  {
   "cell_type": "code",
   "execution_count": 19,
   "metadata": {},
   "outputs": [
    {
     "name": "stdout",
     "output_type": "stream",
     "text": [
      "- Setting seed to 42\n",
      "- OK - Setting seed to 42 (0.45 ms)\n",
      "\n",
      "- Setting datasets path\n",
      "     Dataset paths: dict_keys(['anomaly_lvl_1_test_paths', 'anomaly_lvl_2_test_paths', 'anomaly_lvl_3_test_paths', 'no_anomaly_test_paths', 'all_anomaly_test_paths', 'train_paths', 'test_paths', 'val_paths'])\n",
      "- OK - Setting datasets path (4.02 ms)\n",
      "\n",
      "- Setting config\n",
      "     Output folder path: ../output/cookies_3_steps_500_medium_weighted\n",
      "- OK - Setting config (10.11 ms)\n",
      "\n",
      "- Prepare teacher, student & autoencoder\n",
      "     Loading weight ../weights/teacher_medium.pth\n",
      "     Training\n",
      "- OK - Prepare teacher, student & autoencoder (176.04 ms)\n",
      "\n",
      "- Normalizing teacher\n"
     ]
    },
    {
     "name": "stderr",
     "output_type": "stream",
     "text": [
      "    Computing mean of features: 100%|█████████████████████████████████████████████████████████████████████████████████████| 72/72 [00:03<00:00, 22.03it/s]\n",
      "    Computing std of features: 100%|██████████████████████████████████████████████████████████████████████████████████████| 72/72 [00:03<00:00, 21.70it/s]\n"
     ]
    },
    {
     "name": "stdout",
     "output_type": "stream",
     "text": [
      "- OK - Normalizing teacher (6.59 s)\n",
      "\n",
      "- Train\n"
     ]
    },
    {
     "name": "stderr",
     "output_type": "stream",
     "text": [
      "       Current loss: 68.6309  :   0%|▏                                                                                    | 1/500 [00:03<29:31,  3.55s/it]"
     ]
    },
    {
     "name": "stdout",
     "output_type": "stream",
     "text": [
      "F1 Validation 0.95\n"
     ]
    },
    {
     "name": "stderr",
     "output_type": "stream",
     "text": [
      "       Current loss: 20.9917  :  20%|████████████████▊                                                                  | 101/500 [00:39<08:24,  1.26s/it]"
     ]
    },
    {
     "name": "stdout",
     "output_type": "stream",
     "text": [
      "F1 Validation 0.926829268292683\n"
     ]
    },
    {
     "name": "stderr",
     "output_type": "stream",
     "text": [
      "       Current loss: 14.8370  :  40%|█████████████████████████████████▎                                                 | 201/500 [01:15<06:18,  1.27s/it]"
     ]
    },
    {
     "name": "stdout",
     "output_type": "stream",
     "text": [
      "F1 Validation 0.8571428571428571\n"
     ]
    },
    {
     "name": "stderr",
     "output_type": "stream",
     "text": [
      "       Current loss: 15.0840  :  60%|█████████████████████████████████████████████████▉                                 | 301/500 [01:52<04:12,  1.27s/it]"
     ]
    },
    {
     "name": "stdout",
     "output_type": "stream",
     "text": [
      "F1 Validation 0.918918918918919\n"
     ]
    },
    {
     "name": "stderr",
     "output_type": "stream",
     "text": [
      "       Current loss: 12.1250  :  80%|██████████████████████████████████████████████████████████████████▌                | 401/500 [02:29<02:06,  1.27s/it]"
     ]
    },
    {
     "name": "stdout",
     "output_type": "stream",
     "text": [
      "F1 Validation 0.918918918918919\n"
     ]
    },
    {
     "name": "stderr",
     "output_type": "stream",
     "text": [
      "       Current loss: 9.2769  : 100%|████████████████████████████████████████████████████████████████████████████████████| 500/500 [03:02<00:00,  2.74it/s]\n"
     ]
    },
    {
     "name": "stdout",
     "output_type": "stream",
     "text": [
      "- OK - Train (182.58 s)\n",
      "\n",
      "- Saving models to ../output/cookies_3_steps_500_medium_weighted/all_models.pth\n",
      "- OK - Saving models (210.89 ms)\n",
      "\n",
      "- Saving map normalization to ../output/cookies_3_steps_500_medium_weighted/map_normalization.pth\n"
     ]
    },
    {
     "name": "stderr",
     "output_type": "stream",
     "text": [
      "     Map normalisation: 100%|█████████████████████████████████████████████████████████████████████████████████████████████| 28/28 [00:02<00:00, 10.20it/s]\n"
     ]
    },
    {
     "name": "stdout",
     "output_type": "stream",
     "text": [
      "- OK - Saving map normalization (2843.68 ms)\n",
      "\n",
      "- Evaluating model\n"
     ]
    },
    {
     "name": "stderr",
     "output_type": "stream",
     "text": [
      "     inference test: 100%|██████████████████████████████████████████████████████████████████████████████████████████████| 100/100 [00:11<00:00,  9.09it/s]\n"
     ]
    },
    {
     "data": {
      "image/png": "[encoded data removed]",
      "text/plain": [
       "<Figure size 800x600 with 1 Axes>"
      ]
     },
     "metadata": {},
     "output_type": "display_data"
    },
    {
     "name": "stdout",
     "output_type": "stream",
     "text": [
      "\n",
      "     - AUC: 98.44%\n",
      "    - Optimal Threshold: 0.0600894\n",
      "    - F1 Score: 0.92\n",
      "    - CONFUSION MATRIX:\n",
      " [[20  0]\n",
      " [12 68]] \n",
      "\n"
     ]
    },
    {
     "name": "stderr",
     "output_type": "stream",
     "text": [
      "    inference anomaly lvl 1 test: 100%|███████████████████████████████████████████████████████████████████████████████████| 40/40 [00:04<00:00,  9.10it/s]\n",
      "    inference anomaly lvl 2 test: 100%|███████████████████████████████████████████████████████████████████████████████████| 20/20 [00:02<00:00,  9.11it/s]\n",
      "    inference anomaly lvl 3 test: 100%|███████████████████████████████████████████████████████████████████████████████████| 20/20 [00:02<00:00,  9.11it/s]\n",
      "    inference all anomaly test: 100%|███████████████████████████████████████████████████████████████████████████████████| 100/100 [00:11<00:00,  9.09it/s]\n"
     ]
    },
    {
     "name": "stdout",
     "output_type": "stream",
     "text": [
      "\n"
     ]
    },
    {
     "name": "stderr",
     "output_type": "stream",
     "text": [
      "    inference no anomaly test: 100%|██████████████████████████████████████████████████████████████████████████████████████| 20/20 [00:02<00:00,  9.10it/s]\n"
     ]
    },
    {
     "name": "stdout",
     "output_type": "stream",
     "text": [
      "\n",
      "- OK - Evaluating model (33.23 s)\n",
      "\n",
      "Dataset               F1 Score\n",
      "------------------------------\n",
      "Anonaly lvl 1 test        1.00\n",
      "Anonaly lvl 2 test        0.95\n",
      "Anonaly lvl 3 test        0.67\n",
      "\n",
      "Anomaly all test          0.91\n",
      "\n",
      "No Anomaly Test           1.00\n",
      "\n",
      "All test                  0.92\n"
     ]
    }
   ],
   "source": [
    "# STEPS = 500, MODEL TYPE = MEDIUM, WEIGHT = on\n",
    "model17 = EfficientAD({**config, \"train_steps\": 500, \"model_type\": \"medium\", \"weight_path\":\"../weights/teacher_medium.pth\"})\n",
    "model17.create_model()\n",
    "model17.display_eval_result()"
   ]
  },
  {
   "cell_type": "code",
   "execution_count": 20,
   "metadata": {},
   "outputs": [
    {
     "name": "stdout",
     "output_type": "stream",
     "text": [
      "- Setting seed to 42\n",
      "- OK - Setting seed to 42 (0.55 ms)\n",
      "\n",
      "- Setting datasets path\n",
      "     Dataset paths: dict_keys(['anomaly_lvl_1_test_paths', 'anomaly_lvl_2_test_paths', 'anomaly_lvl_3_test_paths', 'no_anomaly_test_paths', 'all_anomaly_test_paths', 'train_paths', 'test_paths', 'val_paths'])\n",
      "- OK - Setting datasets path (4.36 ms)\n",
      "\n",
      "- Setting config\n",
      "     Output folder path: ../output/cookies_3_steps_5000_medium_weighted\n",
      "- OK - Setting config (0.12 ms)\n",
      "\n",
      "- Prepare teacher, student & autoencoder\n",
      "     Loading weight ../weights/teacher_medium.pth\n",
      "     Training\n",
      "- OK - Prepare teacher, student & autoencoder (190.37 ms)\n",
      "\n",
      "- Normalizing teacher\n"
     ]
    },
    {
     "name": "stderr",
     "output_type": "stream",
     "text": [
      "    Computing mean of features: 100%|█████████████████████████████████████████████████████████████████████████████████████| 72/72 [00:03<00:00, 21.36it/s]\n",
      "    Computing std of features: 100%|██████████████████████████████████████████████████████████████████████████████████████| 72/72 [00:03<00:00, 21.49it/s]\n"
     ]
    },
    {
     "name": "stdout",
     "output_type": "stream",
     "text": [
      "- OK - Normalizing teacher (6.73 s)\n",
      "\n",
      "- Train\n"
     ]
    },
    {
     "name": "stderr",
     "output_type": "stream",
     "text": [
      "       Current loss: 68.6309  :   0%|                                                                                  | 1/5000 [00:03<4:59:09,  3.59s/it]"
     ]
    },
    {
     "name": "stdout",
     "output_type": "stream",
     "text": [
      "F1 Validation 0.95\n"
     ]
    },
    {
     "name": "stderr",
     "output_type": "stream",
     "text": [
      "       Current loss: 20.9237  :   2%|█▌                                                                              | 101/5000 [00:40<1:43:55,  1.27s/it]"
     ]
    },
    {
     "name": "stdout",
     "output_type": "stream",
     "text": [
      "F1 Validation 0.926829268292683\n"
     ]
    },
    {
     "name": "stderr",
     "output_type": "stream",
     "text": [
      "       Current loss: 14.7919  :   4%|███▏                                                                            | 201/5000 [01:16<1:41:43,  1.27s/it]"
     ]
    },
    {
     "name": "stdout",
     "output_type": "stream",
     "text": [
      "F1 Validation 0.9230769230769231\n"
     ]
    },
    {
     "name": "stderr",
     "output_type": "stream",
     "text": [
      "       Current loss: 15.1827  :   6%|████▊                                                                           | 301/5000 [01:53<1:39:48,  1.27s/it]"
     ]
    },
    {
     "name": "stdout",
     "output_type": "stream",
     "text": [
      "F1 Validation 0.918918918918919\n"
     ]
    },
    {
     "name": "stderr",
     "output_type": "stream",
     "text": [
      "       Current loss: 12.6867  :   8%|██████▍                                                                         | 401/5000 [02:30<1:37:45,  1.28s/it]"
     ]
    },
    {
     "name": "stdout",
     "output_type": "stream",
     "text": [
      "F1 Validation 0.9473684210526315\n"
     ]
    },
    {
     "name": "stderr",
     "output_type": "stream",
     "text": [
      "       Current loss: 11.1644  :  10%|████████                                                                        | 501/5000 [03:06<1:35:23,  1.27s/it]"
     ]
    },
    {
     "name": "stdout",
     "output_type": "stream",
     "text": [
      "F1 Validation 0.9743589743589743\n"
     ]
    },
    {
     "name": "stderr",
     "output_type": "stream",
     "text": [
      "       Current loss: 11.8949  :  12%|█████████▌                                                                      | 601/5000 [03:43<1:33:37,  1.28s/it]"
     ]
    },
    {
     "name": "stdout",
     "output_type": "stream",
     "text": [
      "F1 Validation 0.975609756097561\n"
     ]
    },
    {
     "name": "stderr",
     "output_type": "stream",
     "text": [
      "       Current loss: 9.6371  :  14%|███████████▎                                                                     | 701/5000 [04:20<1:31:20,  1.27s/it]"
     ]
    },
    {
     "name": "stdout",
     "output_type": "stream",
     "text": [
      "F1 Validation 0.975609756097561\n"
     ]
    },
    {
     "name": "stderr",
     "output_type": "stream",
     "text": [
      "       Current loss: 11.0092  :  16%|████████████▊                                                                   | 801/5000 [04:57<1:29:30,  1.28s/it]"
     ]
    },
    {
     "name": "stdout",
     "output_type": "stream",
     "text": [
      "F1 Validation 0.975609756097561\n"
     ]
    },
    {
     "name": "stderr",
     "output_type": "stream",
     "text": [
      "       Current loss: 8.0689  :  18%|██████████████▌                                                                  | 901/5000 [05:34<1:27:04,  1.27s/it]"
     ]
    },
    {
     "name": "stdout",
     "output_type": "stream",
     "text": [
      "F1 Validation 0.9473684210526315\n"
     ]
    },
    {
     "name": "stderr",
     "output_type": "stream",
     "text": [
      "       Current loss: 7.4727  :  20%|████████████████                                                                | 1001/5000 [06:11<1:25:12,  1.28s/it]"
     ]
    },
    {
     "name": "stdout",
     "output_type": "stream",
     "text": [
      "F1 Validation 1.0\n"
     ]
    },
    {
     "name": "stderr",
     "output_type": "stream",
     "text": [
      "       Current loss: 7.5814  :  22%|█████████████████▌                                                              | 1101/5000 [06:48<1:22:49,  1.27s/it]"
     ]
    },
    {
     "name": "stdout",
     "output_type": "stream",
     "text": [
      "F1 Validation 1.0\n"
     ]
    },
    {
     "name": "stderr",
     "output_type": "stream",
     "text": [
      "       Current loss: 6.9276  :  24%|███████████████████▏                                                            | 1201/5000 [07:25<1:20:37,  1.27s/it]"
     ]
    },
    {
     "name": "stdout",
     "output_type": "stream",
     "text": [
      "F1 Validation 0.975609756097561\n"
     ]
    },
    {
     "name": "stderr",
     "output_type": "stream",
     "text": [
      "       Current loss: 7.7713  :  26%|████████████████████▊                                                           | 1301/5000 [08:02<1:19:24,  1.29s/it]"
     ]
    },
    {
     "name": "stdout",
     "output_type": "stream",
     "text": [
      "F1 Validation 0.9743589743589743\n"
     ]
    },
    {
     "name": "stderr",
     "output_type": "stream",
     "text": [
      "       Current loss: 8.5872  :  28%|██████████████████████▍                                                         | 1401/5000 [08:39<1:16:35,  1.28s/it]"
     ]
    },
    {
     "name": "stdout",
     "output_type": "stream",
     "text": [
      "F1 Validation 0.975609756097561\n"
     ]
    },
    {
     "name": "stderr",
     "output_type": "stream",
     "text": [
      "       Current loss: 6.7772  :  30%|████████████████████████                                                        | 1501/5000 [09:16<1:14:17,  1.27s/it]"
     ]
    },
    {
     "name": "stdout",
     "output_type": "stream",
     "text": [
      "F1 Validation 0.9743589743589743\n"
     ]
    },
    {
     "name": "stderr",
     "output_type": "stream",
     "text": [
      "       Current loss: 7.7838  :  32%|█████████████████████████▌                                                      | 1601/5000 [09:53<1:12:15,  1.28s/it]"
     ]
    },
    {
     "name": "stdout",
     "output_type": "stream",
     "text": [
      "F1 Validation 0.9473684210526315\n"
     ]
    },
    {
     "name": "stderr",
     "output_type": "stream",
     "text": [
      "       Current loss: 6.4460  :  34%|███████████████████████████▏                                                    | 1701/5000 [10:29<1:10:02,  1.27s/it]"
     ]
    },
    {
     "name": "stdout",
     "output_type": "stream",
     "text": [
      "F1 Validation 0.9743589743589743\n"
     ]
    },
    {
     "name": "stderr",
     "output_type": "stream",
     "text": [
      "       Current loss: 7.3359  :  36%|████████████████████████████▊                                                   | 1801/5000 [11:06<1:11:02,  1.33s/it]"
     ]
    },
    {
     "name": "stdout",
     "output_type": "stream",
     "text": [
      "F1 Validation 1.0\n"
     ]
    },
    {
     "name": "stderr",
     "output_type": "stream",
     "text": [
      "       Current loss: 10.7029  :  38%|██████████████████████████████                                                 | 1901/5000 [11:43<1:06:01,  1.28s/it]"
     ]
    },
    {
     "name": "stdout",
     "output_type": "stream",
     "text": [
      "F1 Validation 1.0\n"
     ]
    },
    {
     "name": "stderr",
     "output_type": "stream",
     "text": [
      "       Current loss: 10.7263  :  40%|███████████████████████████████▌                                               | 2001/5000 [12:20<1:03:56,  1.28s/it]"
     ]
    },
    {
     "name": "stdout",
     "output_type": "stream",
     "text": [
      "F1 Validation 0.9743589743589743\n"
     ]
    },
    {
     "name": "stderr",
     "output_type": "stream",
     "text": [
      "       Current loss: 7.4899  :  42%|█████████████████████████████████▌                                              | 2101/5000 [12:57<1:01:49,  1.28s/it]"
     ]
    },
    {
     "name": "stdout",
     "output_type": "stream",
     "text": [
      "F1 Validation 1.0\n"
     ]
    },
    {
     "name": "stderr",
     "output_type": "stream",
     "text": [
      "       Current loss: 7.1119  :  44%|████████████████████████████████████                                              | 2201/5000 [13:34<59:39,  1.28s/it]"
     ]
    },
    {
     "name": "stdout",
     "output_type": "stream",
     "text": [
      "F1 Validation 0.9473684210526315\n"
     ]
    },
    {
     "name": "stderr",
     "output_type": "stream",
     "text": [
      "       Current loss: 6.1965  :  46%|█████████████████████████████████████▋                                            | 2301/5000 [14:11<57:25,  1.28s/it]"
     ]
    },
    {
     "name": "stdout",
     "output_type": "stream",
     "text": [
      "F1 Validation 1.0\n"
     ]
    },
    {
     "name": "stderr",
     "output_type": "stream",
     "text": [
      "       Current loss: 6.8960  :  48%|███████████████████████████████████████▍                                          | 2401/5000 [14:48<55:23,  1.28s/it]"
     ]
    },
    {
     "name": "stdout",
     "output_type": "stream",
     "text": [
      "F1 Validation 0.975609756097561\n"
     ]
    },
    {
     "name": "stderr",
     "output_type": "stream",
     "text": [
      "       Current loss: 8.0248  :  50%|█████████████████████████████████████████                                         | 2500/5000 [15:25<15:25,  2.70it/s]\n"
     ]
    },
    {
     "name": "stdout",
     "output_type": "stream",
     "text": [
      "F1 Validation 1.0\n",
      "Early stopping at iteration 2501 because validation F1 did not improve.\n",
      "- OK - Train (925.18 s)\n",
      "\n",
      "- Saving models to ../output/cookies_3_steps_5000_medium_weighted/all_models.pth\n",
      "- OK - Saving models (153.25 ms)\n",
      "\n",
      "- Saving map normalization to ../output/cookies_3_steps_5000_medium_weighted/map_normalization.pth\n"
     ]
    },
    {
     "name": "stderr",
     "output_type": "stream",
     "text": [
      "     Map normalisation: 100%|█████████████████████████████████████████████████████████████████████████████████████████████| 28/28 [00:02<00:00, 10.25it/s]\n"
     ]
    },
    {
     "name": "stdout",
     "output_type": "stream",
     "text": [
      "- OK - Saving map normalization (2833.80 ms)\n",
      "\n",
      "- Evaluating model\n"
     ]
    },
    {
     "name": "stderr",
     "output_type": "stream",
     "text": [
      "     inference test: 100%|██████████████████████████████████████████████████████████████████████████████████████████████| 100/100 [00:11<00:00,  9.06it/s]\n"
     ]
    },
    {
     "data": {
      "image/png": "[encoded data removed]",
      "text/plain": [
       "<Figure size 800x600 with 1 Axes>"
      ]
     },
     "metadata": {},
     "output_type": "display_data"
    },
    {
     "name": "stdout",
     "output_type": "stream",
     "text": [
      "\n",
      "     - AUC: 98.81%\n",
      "    - Optimal Threshold: 0.0241348\n",
      "    - F1 Score: 0.99\n",
      "    - CONFUSION MATRIX:\n",
      " [[18  2]\n",
      " [ 0 80]] \n",
      "\n"
     ]
    },
    {
     "name": "stderr",
     "output_type": "stream",
     "text": [
      "    inference anomaly lvl 1 test: 100%|███████████████████████████████████████████████████████████████████████████████████| 40/40 [00:04<00:00,  9.09it/s]\n",
      "    inference anomaly lvl 2 test: 100%|███████████████████████████████████████████████████████████████████████████████████| 20/20 [00:02<00:00,  9.11it/s]\n",
      "    inference anomaly lvl 3 test: 100%|███████████████████████████████████████████████████████████████████████████████████| 20/20 [00:02<00:00,  9.05it/s]\n",
      "    inference all anomaly test: 100%|███████████████████████████████████████████████████████████████████████████████████| 100/100 [00:11<00:00,  9.09it/s]\n"
     ]
    },
    {
     "name": "stdout",
     "output_type": "stream",
     "text": [
      "\n"
     ]
    },
    {
     "name": "stderr",
     "output_type": "stream",
     "text": [
      "    inference no anomaly test: 100%|██████████████████████████████████████████████████████████████████████████████████████| 20/20 [00:02<00:00,  9.08it/s]\n"
     ]
    },
    {
     "name": "stdout",
     "output_type": "stream",
     "text": [
      "\n",
      "- OK - Evaluating model (33.28 s)\n",
      "\n",
      "Dataset               F1 Score\n",
      "------------------------------\n",
      "Anonaly lvl 1 test        1.00\n",
      "Anonaly lvl 2 test        1.00\n",
      "Anonaly lvl 3 test        1.00\n",
      "\n",
      "Anomaly all test          1.00\n",
      "\n",
      "No Anomaly Test           0.95\n",
      "\n",
      "All test                  0.99\n"
     ]
    }
   ],
   "source": [
    "# STEPS = 5000, MODEL TYPE = MEDIUM, WEIGHT = on\n",
    "model18 = EfficientAD({**config, \"train_steps\": 5000, \"model_type\": \"medium\", \"weight_path\":\"../weights/teacher_medium.pth\"})\n",
    "model18.create_model()\n",
    "model18.display_eval_result()"
   ]
  },
  {
   "cell_type": "code",
   "execution_count": null,
   "metadata": {},
   "outputs": [],
   "source": [
    "# STEPS = 10000, MODEL TYPE = MEDIUM, WEIGHT = on\n",
    "model19 = EfficientAD({**config, \"train_steps\": 10000, \"model_type\": \"medium\", \"weight_path\":\"../weights/teacher_medium.pth\"})\n",
    "model19.create_model()\n",
    "model19.display_eval_result()"
   ]
  },
  {
   "cell_type": "code",
   "execution_count": null,
   "metadata": {},
   "outputs": [],
   "source": []
  },
  {
   "cell_type": "code",
   "execution_count": null,
   "metadata": {},
   "outputs": [],
   "source": [
    "# STEPS = 5000, MODEL TYPE = SMALL, WEIGHT = on Cookies 1\n",
    "model20 = EfficientAD({**config, \"train_steps\": 5000, \"model_type\": \"small\", \"weight_path\":\"../weights/teacher_small.pth\", \"subdataset\": \"cookies_1\"})\n",
    "model20.create_model()\n",
    "model20.display_eval_result()"
   ]
  },
  {
   "cell_type": "markdown",
   "metadata": {},
   "source": [
    "### Create model for cookies 2"
   ]
  },
  {
   "cell_type": "code",
   "execution_count": 21,
   "metadata": {},
   "outputs": [
    {
     "name": "stdout",
     "output_type": "stream",
     "text": [
      "- Setting seed to 42\n",
      "- OK - Setting seed to 42 (0.25 ms)\n",
      "\n",
      "- Setting datasets path\n",
      "     Dataset paths: dict_keys(['anomaly_lvl_1_test_paths', 'anomaly_lvl_2_test_paths', 'anomaly_lvl_3_test_paths', 'no_anomaly_test_paths', 'all_anomaly_test_paths', 'train_paths', 'test_paths', 'val_paths'])\n",
      "- OK - Setting datasets path (4.36 ms)\n",
      "\n",
      "- Setting config\n",
      "     Output folder path: ../output/cookies_2_steps_5000_small_weighted\n",
      "- OK - Setting config (0.14 ms)\n",
      "\n",
      "- Prepare teacher, student & autoencoder\n",
      "     Loading weight ../weights/teacher_small.pth\n",
      "     Training\n",
      "- OK - Prepare teacher, student & autoencoder (77.57 ms)\n",
      "\n",
      "- Normalizing teacher\n"
     ]
    },
    {
     "name": "stderr",
     "output_type": "stream",
     "text": [
      "    Computing mean of features: 100%|█████████████████████████████████████████████████████████████████████████████████████| 72/72 [00:01<00:00, 51.45it/s]\n",
      "    Computing std of features: 100%|██████████████████████████████████████████████████████████████████████████████████████| 72/72 [00:01<00:00, 50.70it/s]\n"
     ]
    },
    {
     "name": "stdout",
     "output_type": "stream",
     "text": [
      "- OK - Normalizing teacher (2.83 s)\n",
      "\n",
      "- Train\n"
     ]
    },
    {
     "name": "stderr",
     "output_type": "stream",
     "text": [
      "       Current loss: 45.0005  :   0%|                                                                                  | 1/5000 [00:01<2:16:40,  1.64s/it]"
     ]
    },
    {
     "name": "stdout",
     "output_type": "stream",
     "text": [
      "F1 Validation 0.9743589743589743\n"
     ]
    },
    {
     "name": "stderr",
     "output_type": "stream",
     "text": [
      "       Current loss: 21.3039  :   2%|█▋                                                                                | 101/5000 [00:15<41:08,  1.98it/s]"
     ]
    },
    {
     "name": "stdout",
     "output_type": "stream",
     "text": [
      "F1 Validation 0.95\n"
     ]
    },
    {
     "name": "stderr",
     "output_type": "stream",
     "text": [
      "       Current loss: 15.4218  :   4%|███▎                                                                              | 201/5000 [00:29<40:05,  1.99it/s]"
     ]
    },
    {
     "name": "stdout",
     "output_type": "stream",
     "text": [
      "F1 Validation 0.9473684210526315\n"
     ]
    },
    {
     "name": "stderr",
     "output_type": "stream",
     "text": [
      "       Current loss: 12.9569  :   6%|████▉                                                                             | 301/5000 [00:43<39:49,  1.97it/s]"
     ]
    },
    {
     "name": "stdout",
     "output_type": "stream",
     "text": [
      "F1 Validation 1.0\n"
     ]
    },
    {
     "name": "stderr",
     "output_type": "stream",
     "text": [
      "       Current loss: 12.2017  :   8%|██████▌                                                                           | 401/5000 [00:57<38:36,  1.99it/s]"
     ]
    },
    {
     "name": "stdout",
     "output_type": "stream",
     "text": [
      "F1 Validation 1.0\n"
     ]
    },
    {
     "name": "stderr",
     "output_type": "stream",
     "text": [
      "       Current loss: 12.1251  :  10%|████████▏                                                                         | 501/5000 [01:11<37:37,  1.99it/s]"
     ]
    },
    {
     "name": "stdout",
     "output_type": "stream",
     "text": [
      "F1 Validation 1.0\n"
     ]
    },
    {
     "name": "stderr",
     "output_type": "stream",
     "text": [
      "       Current loss: 9.4938  :  12%|█████████▉                                                                         | 601/5000 [01:25<37:39,  1.95it/s]"
     ]
    },
    {
     "name": "stdout",
     "output_type": "stream",
     "text": [
      "F1 Validation 1.0\n"
     ]
    },
    {
     "name": "stderr",
     "output_type": "stream",
     "text": [
      "       Current loss: 9.2203  :  14%|███████████▋                                                                       | 701/5000 [01:39<36:02,  1.99it/s]"
     ]
    },
    {
     "name": "stdout",
     "output_type": "stream",
     "text": [
      "F1 Validation 1.0\n"
     ]
    },
    {
     "name": "stderr",
     "output_type": "stream",
     "text": [
      "       Current loss: 7.6707  :  16%|█████████████▎                                                                     | 801/5000 [01:53<35:40,  1.96it/s]"
     ]
    },
    {
     "name": "stdout",
     "output_type": "stream",
     "text": [
      "F1 Validation 1.0\n"
     ]
    },
    {
     "name": "stderr",
     "output_type": "stream",
     "text": [
      "       Current loss: 8.4446  :  18%|██████████████▉                                                                    | 901/5000 [02:07<34:21,  1.99it/s]"
     ]
    },
    {
     "name": "stdout",
     "output_type": "stream",
     "text": [
      "F1 Validation 1.0\n"
     ]
    },
    {
     "name": "stderr",
     "output_type": "stream",
     "text": [
      "       Current loss: 7.4782  :  20%|████████████████▍                                                                 | 1001/5000 [02:20<33:44,  1.98it/s]"
     ]
    },
    {
     "name": "stdout",
     "output_type": "stream",
     "text": [
      "F1 Validation 1.0\n"
     ]
    },
    {
     "name": "stderr",
     "output_type": "stream",
     "text": [
      "       Current loss: 6.9326  :  22%|██████████████████                                                                | 1101/5000 [02:35<32:53,  1.98it/s]"
     ]
    },
    {
     "name": "stdout",
     "output_type": "stream",
     "text": [
      "F1 Validation 1.0\n"
     ]
    },
    {
     "name": "stderr",
     "output_type": "stream",
     "text": [
      "       Current loss: 7.2532  :  24%|███████████████████▋                                                              | 1201/5000 [02:49<32:35,  1.94it/s]"
     ]
    },
    {
     "name": "stdout",
     "output_type": "stream",
     "text": [
      "F1 Validation 1.0\n"
     ]
    },
    {
     "name": "stderr",
     "output_type": "stream",
     "text": [
      "       Current loss: 6.8009  :  26%|█████████████████████▎                                                            | 1301/5000 [03:03<32:28,  1.90it/s]"
     ]
    },
    {
     "name": "stdout",
     "output_type": "stream",
     "text": [
      "F1 Validation 1.0\n"
     ]
    },
    {
     "name": "stderr",
     "output_type": "stream",
     "text": [
      "       Current loss: 6.8656  :  28%|██████████████████████▉                                                           | 1401/5000 [03:17<30:51,  1.94it/s]"
     ]
    },
    {
     "name": "stdout",
     "output_type": "stream",
     "text": [
      "F1 Validation 1.0\n"
     ]
    },
    {
     "name": "stderr",
     "output_type": "stream",
     "text": [
      "       Current loss: 8.0031  :  30%|████████████████████████▌                                                         | 1501/5000 [03:31<29:32,  1.97it/s]"
     ]
    },
    {
     "name": "stdout",
     "output_type": "stream",
     "text": [
      "F1 Validation 1.0\n"
     ]
    },
    {
     "name": "stderr",
     "output_type": "stream",
     "text": [
      "       Current loss: 6.6937  :  32%|██████████████████████████▎                                                       | 1601/5000 [03:45<29:02,  1.95it/s]"
     ]
    },
    {
     "name": "stdout",
     "output_type": "stream",
     "text": [
      "F1 Validation 1.0\n"
     ]
    },
    {
     "name": "stderr",
     "output_type": "stream",
     "text": [
      "       Current loss: 6.6296  :  34%|███████████████████████████▉                                                      | 1701/5000 [03:59<27:46,  1.98it/s]"
     ]
    },
    {
     "name": "stdout",
     "output_type": "stream",
     "text": [
      "F1 Validation 1.0\n"
     ]
    },
    {
     "name": "stderr",
     "output_type": "stream",
     "text": [
      "       Current loss: 7.7260  :  36%|█████████████████████████████▌                                                    | 1800/5000 [04:13<07:30,  7.11it/s]\n"
     ]
    },
    {
     "name": "stdout",
     "output_type": "stream",
     "text": [
      "F1 Validation 1.0\n",
      "Early stopping at iteration 1801 because validation F1 did not improve.\n",
      "- OK - Train (253.17 s)\n",
      "\n",
      "- Saving models to ../output/cookies_2_steps_5000_small_weighted/all_models.pth\n",
      "- OK - Saving models (66.52 ms)\n",
      "\n",
      "- Saving map normalization to ../output/cookies_2_steps_5000_small_weighted/map_normalization.pth\n"
     ]
    },
    {
     "name": "stderr",
     "output_type": "stream",
     "text": [
      "     Map normalisation: 100%|█████████████████████████████████████████████████████████████████████████████████████████████| 28/28 [00:00<00:00, 28.77it/s]\n"
     ]
    },
    {
     "name": "stdout",
     "output_type": "stream",
     "text": [
      "- OK - Saving map normalization (1008.57 ms)\n",
      "\n",
      "- Evaluating model\n"
     ]
    },
    {
     "name": "stderr",
     "output_type": "stream",
     "text": [
      "     inference test: 100%|██████████████████████████████████████████████████████████████████████████████████████████████| 100/100 [00:04<00:00, 22.33it/s]\n"
     ]
    },
    {
     "data": {
      "image/png": "[encoded data removed]",
      "text/plain": [
       "<Figure size 800x600 with 1 Axes>"
      ]
     },
     "metadata": {},
     "output_type": "display_data"
    },
    {
     "name": "stdout",
     "output_type": "stream",
     "text": [
      "\n",
      "     - AUC: 96.88%\n",
      "    - Optimal Threshold: 0.0606422\n",
      "    - F1 Score: 0.90\n",
      "    - CONFUSION MATRIX:\n",
      " [[20  0]\n",
      " [15 65]] \n",
      "\n"
     ]
    },
    {
     "name": "stderr",
     "output_type": "stream",
     "text": [
      "    inference anomaly lvl 1 test: 100%|███████████████████████████████████████████████████████████████████████████████████| 40/40 [00:01<00:00, 22.29it/s]\n",
      "    inference anomaly lvl 2 test: 100%|███████████████████████████████████████████████████████████████████████████████████| 20/20 [00:00<00:00, 22.24it/s]\n",
      "    inference anomaly lvl 3 test: 100%|███████████████████████████████████████████████████████████████████████████████████| 20/20 [00:00<00:00, 22.25it/s]\n",
      "    inference all anomaly test: 100%|███████████████████████████████████████████████████████████████████████████████████| 100/100 [00:04<00:00, 22.32it/s]\n"
     ]
    },
    {
     "name": "stdout",
     "output_type": "stream",
     "text": [
      "\n"
     ]
    },
    {
     "name": "stderr",
     "output_type": "stream",
     "text": [
      "    inference no anomaly test: 100%|██████████████████████████████████████████████████████████████████████████████████████| 20/20 [00:00<00:00, 22.32it/s]\n"
     ]
    },
    {
     "name": "stdout",
     "output_type": "stream",
     "text": [
      "\n",
      "- OK - Evaluating model (13.67 s)\n",
      "\n",
      "Dataset               F1 Score\n",
      "------------------------------\n",
      "Anonaly lvl 1 test        1.00\n",
      "Anonaly lvl 2 test        0.97\n",
      "Anonaly lvl 3 test        0.46\n",
      "\n",
      "Anomaly all test          0.90\n",
      "\n",
      "No Anomaly Test           1.00\n",
      "\n",
      "All test                  0.90\n"
     ]
    }
   ],
   "source": [
    "# STEPS = 5000, MODEL TYPE = SMALL, WEIGHT = on Cookies 2\n",
    "model21 = EfficientAD({**config, \"train_steps\": 5000, \"model_type\": \"small\", \"weight_path\":\"../weights/teacher_small.pth\", \"subdataset\": \"cookies_2\"})\n",
    "model21.create_model()\n",
    "model21.display_eval_result()"
   ]
  },
  {
   "cell_type": "markdown",
   "metadata": {},
   "source": [
    "### Create model for cookies 1"
   ]
  },
  {
   "cell_type": "code",
   "execution_count": 22,
   "metadata": {},
   "outputs": [
    {
     "name": "stdout",
     "output_type": "stream",
     "text": [
      "- Setting seed to 42\n",
      "- OK - Setting seed to 42 (0.60 ms)\n",
      "\n",
      "- Setting datasets path\n",
      "     Dataset paths: dict_keys(['anomaly_lvl_1_test_paths', 'anomaly_lvl_2_test_paths', 'anomaly_lvl_3_test_paths', 'no_anomaly_test_paths', 'all_anomaly_test_paths', 'train_paths', 'test_paths', 'val_paths'])\n",
      "- OK - Setting datasets path (5.18 ms)\n",
      "\n",
      "- Setting config\n",
      "     Output folder path: ../output/cookies_1_steps_10000_small_weighted\n",
      "- OK - Setting config (0.12 ms)\n",
      "\n",
      "- Prepare teacher, student & autoencoder\n",
      "     Loading weight ../weights/teacher_small.pth\n",
      "     Training\n",
      "- OK - Prepare teacher, student & autoencoder (74.60 ms)\n",
      "\n",
      "- Normalizing teacher\n"
     ]
    },
    {
     "name": "stderr",
     "output_type": "stream",
     "text": [
      "    Computing mean of features: 100%|█████████████████████████████████████████████████████████████████████████████████████| 72/72 [00:01<00:00, 51.11it/s]\n",
      "    Computing std of features: 100%|██████████████████████████████████████████████████████████████████████████████████████| 72/72 [00:01<00:00, 51.27it/s]\n"
     ]
    },
    {
     "name": "stdout",
     "output_type": "stream",
     "text": [
      "- OK - Normalizing teacher (2.82 s)\n",
      "\n",
      "- Train\n"
     ]
    },
    {
     "name": "stderr",
     "output_type": "stream",
     "text": [
      "       Current loss: 29.0107  :   0%|                                                                                 | 1/10000 [00:01<4:27:46,  1.61s/it]"
     ]
    },
    {
     "name": "stdout",
     "output_type": "stream",
     "text": [
      "F1 Validation 0.8571428571428571\n"
     ]
    },
    {
     "name": "stderr",
     "output_type": "stream",
     "text": [
      "       Current loss: 16.2858  :   1%|▊                                                                              | 101/10000 [00:15<1:23:02,  1.99it/s]"
     ]
    },
    {
     "name": "stdout",
     "output_type": "stream",
     "text": [
      "F1 Validation 0.7878787878787878\n"
     ]
    },
    {
     "name": "stderr",
     "output_type": "stream",
     "text": [
      "       Current loss: 11.0156  :   2%|█▌                                                                             | 201/10000 [00:29<1:22:09,  1.99it/s]"
     ]
    },
    {
     "name": "stdout",
     "output_type": "stream",
     "text": [
      "F1 Validation 0.8571428571428571\n"
     ]
    },
    {
     "name": "stderr",
     "output_type": "stream",
     "text": [
      "       Current loss: 10.6710  :   3%|██▍                                                                            | 301/10000 [00:43<1:21:19,  1.99it/s]"
     ]
    },
    {
     "name": "stdout",
     "output_type": "stream",
     "text": [
      "F1 Validation 0.8571428571428571\n"
     ]
    },
    {
     "name": "stderr",
     "output_type": "stream",
     "text": [
      "       Current loss: 10.1724  :   4%|███▏                                                                           | 401/10000 [00:57<1:20:11,  2.00it/s]"
     ]
    },
    {
     "name": "stdout",
     "output_type": "stream",
     "text": [
      "F1 Validation 0.8571428571428571\n"
     ]
    },
    {
     "name": "stderr",
     "output_type": "stream",
     "text": [
      "       Current loss: 9.2264  :   5%|████                                                                            | 501/10000 [01:11<1:20:38,  1.96it/s]"
     ]
    },
    {
     "name": "stdout",
     "output_type": "stream",
     "text": [
      "F1 Validation 0.8571428571428571\n"
     ]
    },
    {
     "name": "stderr",
     "output_type": "stream",
     "text": [
      "       Current loss: 8.6771  :   6%|████▊                                                                           | 601/10000 [01:25<1:18:50,  1.99it/s]"
     ]
    },
    {
     "name": "stdout",
     "output_type": "stream",
     "text": [
      "F1 Validation 0.8571428571428571\n"
     ]
    },
    {
     "name": "stderr",
     "output_type": "stream",
     "text": [
      "       Current loss: 9.7556  :   7%|█████▌                                                                          | 701/10000 [01:38<1:18:12,  1.98it/s]"
     ]
    },
    {
     "name": "stdout",
     "output_type": "stream",
     "text": [
      "F1 Validation 0.8571428571428571\n"
     ]
    },
    {
     "name": "stderr",
     "output_type": "stream",
     "text": [
      "       Current loss: 8.3746  :   8%|██████▍                                                                         | 801/10000 [01:53<1:17:51,  1.97it/s]"
     ]
    },
    {
     "name": "stdout",
     "output_type": "stream",
     "text": [
      "F1 Validation 0.8571428571428571\n"
     ]
    },
    {
     "name": "stderr",
     "output_type": "stream",
     "text": [
      "       Current loss: 9.5946  :   9%|███████▏                                                                        | 901/10000 [02:06<1:15:53,  2.00it/s]"
     ]
    },
    {
     "name": "stdout",
     "output_type": "stream",
     "text": [
      "F1 Validation 0.8571428571428571\n"
     ]
    },
    {
     "name": "stderr",
     "output_type": "stream",
     "text": [
      "       Current loss: 8.4501  :  10%|███████▉                                                                       | 1001/10000 [02:20<1:15:38,  1.98it/s]"
     ]
    },
    {
     "name": "stdout",
     "output_type": "stream",
     "text": [
      "F1 Validation 0.8571428571428571\n"
     ]
    },
    {
     "name": "stderr",
     "output_type": "stream",
     "text": [
      "       Current loss: 8.2370  :  11%|████████▋                                                                      | 1101/10000 [02:34<1:14:31,  1.99it/s]"
     ]
    },
    {
     "name": "stdout",
     "output_type": "stream",
     "text": [
      "F1 Validation 0.8571428571428571\n"
     ]
    },
    {
     "name": "stderr",
     "output_type": "stream",
     "text": [
      "       Current loss: 9.9462  :  12%|█████████▍                                                                     | 1201/10000 [02:48<1:13:50,  1.99it/s]"
     ]
    },
    {
     "name": "stdout",
     "output_type": "stream",
     "text": [
      "F1 Validation 0.8888888888888888\n"
     ]
    },
    {
     "name": "stderr",
     "output_type": "stream",
     "text": [
      "       Current loss: 8.4517  :  13%|██████████▎                                                                    | 1301/10000 [03:02<1:15:27,  1.92it/s]"
     ]
    },
    {
     "name": "stdout",
     "output_type": "stream",
     "text": [
      "F1 Validation 0.918918918918919\n"
     ]
    },
    {
     "name": "stderr",
     "output_type": "stream",
     "text": [
      "       Current loss: 9.5347  :  14%|███████████                                                                    | 1401/10000 [03:16<1:13:10,  1.96it/s]"
     ]
    },
    {
     "name": "stdout",
     "output_type": "stream",
     "text": [
      "F1 Validation 0.8888888888888888\n"
     ]
    },
    {
     "name": "stderr",
     "output_type": "stream",
     "text": [
      "       Current loss: 9.7705  :  15%|███████████▊                                                                   | 1501/10000 [03:30<1:10:52,  2.00it/s]"
     ]
    },
    {
     "name": "stdout",
     "output_type": "stream",
     "text": [
      "F1 Validation 0.8888888888888888\n"
     ]
    },
    {
     "name": "stderr",
     "output_type": "stream",
     "text": [
      "       Current loss: 7.7871  :  16%|████████████▋                                                                  | 1601/10000 [03:44<1:11:44,  1.95it/s]"
     ]
    },
    {
     "name": "stdout",
     "output_type": "stream",
     "text": [
      "F1 Validation 0.918918918918919\n"
     ]
    },
    {
     "name": "stderr",
     "output_type": "stream",
     "text": [
      "       Current loss: 7.9733  :  17%|█████████████▍                                                                 | 1701/10000 [03:58<1:09:43,  1.98it/s]"
     ]
    },
    {
     "name": "stdout",
     "output_type": "stream",
     "text": [
      "F1 Validation 0.8571428571428571\n"
     ]
    },
    {
     "name": "stderr",
     "output_type": "stream",
     "text": [
      "       Current loss: 7.5294  :  18%|██████████████▏                                                                | 1801/10000 [04:12<1:18:35,  1.74it/s]"
     ]
    },
    {
     "name": "stdout",
     "output_type": "stream",
     "text": [
      "F1 Validation 0.8571428571428571\n"
     ]
    },
    {
     "name": "stderr",
     "output_type": "stream",
     "text": [
      "       Current loss: 7.6900  :  19%|███████████████                                                                | 1901/10000 [04:26<1:07:50,  1.99it/s]"
     ]
    },
    {
     "name": "stdout",
     "output_type": "stream",
     "text": [
      "F1 Validation 0.8571428571428571\n"
     ]
    },
    {
     "name": "stderr",
     "output_type": "stream",
     "text": [
      "       Current loss: 9.6443  :  20%|███████████████▊                                                               | 2001/10000 [04:40<1:06:58,  1.99it/s]"
     ]
    },
    {
     "name": "stdout",
     "output_type": "stream",
     "text": [
      "F1 Validation 0.918918918918919\n"
     ]
    },
    {
     "name": "stderr",
     "output_type": "stream",
     "text": [
      "       Current loss: 8.9753  :  21%|████████████████▌                                                              | 2101/10000 [04:54<1:06:31,  1.98it/s]"
     ]
    },
    {
     "name": "stdout",
     "output_type": "stream",
     "text": [
      "F1 Validation 0.918918918918919\n"
     ]
    },
    {
     "name": "stderr",
     "output_type": "stream",
     "text": [
      "       Current loss: 7.7862  :  22%|█████████████████▍                                                             | 2201/10000 [05:07<1:05:50,  1.97it/s]"
     ]
    },
    {
     "name": "stdout",
     "output_type": "stream",
     "text": [
      "F1 Validation 0.8888888888888888\n"
     ]
    },
    {
     "name": "stderr",
     "output_type": "stream",
     "text": [
      "       Current loss: 7.0736  :  23%|██████████████████▏                                                            | 2301/10000 [05:21<1:04:17,  2.00it/s]"
     ]
    },
    {
     "name": "stdout",
     "output_type": "stream",
     "text": [
      "F1 Validation 0.9230769230769231\n"
     ]
    },
    {
     "name": "stderr",
     "output_type": "stream",
     "text": [
      "       Current loss: 6.8569  :  24%|██████████████████▉                                                            | 2401/10000 [05:35<1:04:27,  1.96it/s]"
     ]
    },
    {
     "name": "stdout",
     "output_type": "stream",
     "text": [
      "F1 Validation 0.8888888888888888\n"
     ]
    },
    {
     "name": "stderr",
     "output_type": "stream",
     "text": [
      "       Current loss: 6.9773  :  25%|███████████████████▊                                                           | 2501/10000 [05:49<1:04:05,  1.95it/s]"
     ]
    },
    {
     "name": "stdout",
     "output_type": "stream",
     "text": [
      "F1 Validation 0.9230769230769231\n"
     ]
    },
    {
     "name": "stderr",
     "output_type": "stream",
     "text": [
      "       Current loss: 7.5698  :  26%|████████████████████▌                                                          | 2601/10000 [06:03<1:02:38,  1.97it/s]"
     ]
    },
    {
     "name": "stdout",
     "output_type": "stream",
     "text": [
      "F1 Validation 0.9230769230769231\n"
     ]
    },
    {
     "name": "stderr",
     "output_type": "stream",
     "text": [
      "       Current loss: 7.0992  :  27%|█████████████████████▎                                                         | 2701/10000 [06:17<1:00:54,  2.00it/s]"
     ]
    },
    {
     "name": "stdout",
     "output_type": "stream",
     "text": [
      "F1 Validation 0.918918918918919\n"
     ]
    },
    {
     "name": "stderr",
     "output_type": "stream",
     "text": [
      "       Current loss: 6.8597  :  28%|██████████████████████▏                                                        | 2801/10000 [06:31<1:00:27,  1.98it/s]"
     ]
    },
    {
     "name": "stdout",
     "output_type": "stream",
     "text": [
      "F1 Validation 0.8888888888888888\n"
     ]
    },
    {
     "name": "stderr",
     "output_type": "stream",
     "text": [
      "       Current loss: 6.6128  :  29%|███████████████████████▍                                                         | 2901/10000 [06:45<59:38,  1.98it/s]"
     ]
    },
    {
     "name": "stdout",
     "output_type": "stream",
     "text": [
      "F1 Validation 0.8888888888888888\n"
     ]
    },
    {
     "name": "stderr",
     "output_type": "stream",
     "text": [
      "       Current loss: 7.6677  :  30%|████████████████████████▎                                                        | 3001/10000 [06:59<58:52,  1.98it/s]"
     ]
    },
    {
     "name": "stdout",
     "output_type": "stream",
     "text": [
      "F1 Validation 0.8888888888888888\n"
     ]
    },
    {
     "name": "stderr",
     "output_type": "stream",
     "text": [
      "       Current loss: 5.8616  :  31%|████████████████████████▍                                                      | 3101/10000 [07:13<1:00:03,  1.91it/s]"
     ]
    },
    {
     "name": "stdout",
     "output_type": "stream",
     "text": [
      "F1 Validation 0.8888888888888888\n"
     ]
    },
    {
     "name": "stderr",
     "output_type": "stream",
     "text": [
      "       Current loss: 7.1846  :  32%|█████████████████████████▉                                                       | 3201/10000 [07:27<57:01,  1.99it/s]"
     ]
    },
    {
     "name": "stdout",
     "output_type": "stream",
     "text": [
      "F1 Validation 0.918918918918919\n"
     ]
    },
    {
     "name": "stderr",
     "output_type": "stream",
     "text": [
      "       Current loss: 6.9880  :  33%|██████████████████████████▋                                                      | 3301/10000 [07:41<56:16,  1.98it/s]"
     ]
    },
    {
     "name": "stdout",
     "output_type": "stream",
     "text": [
      "F1 Validation 0.8888888888888888\n"
     ]
    },
    {
     "name": "stderr",
     "output_type": "stream",
     "text": [
      "       Current loss: 5.6562  :  34%|███████████████████████████▌                                                     | 3401/10000 [07:55<55:38,  1.98it/s]"
     ]
    },
    {
     "name": "stdout",
     "output_type": "stream",
     "text": [
      "F1 Validation 0.918918918918919\n"
     ]
    },
    {
     "name": "stderr",
     "output_type": "stream",
     "text": [
      "       Current loss: 6.5604  :  35%|████████████████████████████▎                                                    | 3501/10000 [08:08<54:08,  2.00it/s]"
     ]
    },
    {
     "name": "stdout",
     "output_type": "stream",
     "text": [
      "F1 Validation 0.918918918918919\n"
     ]
    },
    {
     "name": "stderr",
     "output_type": "stream",
     "text": [
      "       Current loss: 6.4236  :  36%|████████████████████████████▍                                                  | 3601/10000 [08:23<1:01:09,  1.74it/s]"
     ]
    },
    {
     "name": "stdout",
     "output_type": "stream",
     "text": [
      "F1 Validation 0.95\n"
     ]
    },
    {
     "name": "stderr",
     "output_type": "stream",
     "text": [
      "       Current loss: 5.4188  :  37%|█████████████████████████████▉                                                   | 3701/10000 [08:36<52:52,  1.99it/s]"
     ]
    },
    {
     "name": "stdout",
     "output_type": "stream",
     "text": [
      "F1 Validation 0.918918918918919\n"
     ]
    },
    {
     "name": "stderr",
     "output_type": "stream",
     "text": [
      "       Current loss: 5.6183  :  38%|██████████████████████████████▊                                                  | 3801/10000 [08:50<52:06,  1.98it/s]"
     ]
    },
    {
     "name": "stdout",
     "output_type": "stream",
     "text": [
      "F1 Validation 0.8888888888888888\n"
     ]
    },
    {
     "name": "stderr",
     "output_type": "stream",
     "text": [
      "       Current loss: 5.4557  :  39%|███████████████████████████████▌                                                 | 3901/10000 [09:04<51:20,  1.98it/s]"
     ]
    },
    {
     "name": "stdout",
     "output_type": "stream",
     "text": [
      "F1 Validation 0.8888888888888888\n"
     ]
    },
    {
     "name": "stderr",
     "output_type": "stream",
     "text": [
      "       Current loss: 5.8281  :  40%|████████████████████████████████▍                                                | 4001/10000 [09:18<50:06,  2.00it/s]"
     ]
    },
    {
     "name": "stdout",
     "output_type": "stream",
     "text": [
      "F1 Validation 0.918918918918919\n"
     ]
    },
    {
     "name": "stderr",
     "output_type": "stream",
     "text": [
      "       Current loss: 6.3562  :  41%|█████████████████████████████████▏                                               | 4101/10000 [09:32<49:33,  1.98it/s]"
     ]
    },
    {
     "name": "stdout",
     "output_type": "stream",
     "text": [
      "F1 Validation 0.8888888888888888\n"
     ]
    },
    {
     "name": "stderr",
     "output_type": "stream",
     "text": [
      "       Current loss: 4.9683  :  42%|██████████████████████████████████                                               | 4201/10000 [09:46<49:08,  1.97it/s]"
     ]
    },
    {
     "name": "stdout",
     "output_type": "stream",
     "text": [
      "F1 Validation 0.8888888888888888\n"
     ]
    },
    {
     "name": "stderr",
     "output_type": "stream",
     "text": [
      "       Current loss: 6.6889  :  43%|██████████████████████████████████▊                                              | 4301/10000 [10:00<47:50,  1.99it/s]"
     ]
    },
    {
     "name": "stdout",
     "output_type": "stream",
     "text": [
      "F1 Validation 0.918918918918919\n"
     ]
    },
    {
     "name": "stderr",
     "output_type": "stream",
     "text": [
      "       Current loss: 6.5786  :  44%|███████████████████████████████████▋                                             | 4401/10000 [10:14<47:31,  1.96it/s]"
     ]
    },
    {
     "name": "stdout",
     "output_type": "stream",
     "text": [
      "F1 Validation 0.8888888888888888\n"
     ]
    },
    {
     "name": "stderr",
     "output_type": "stream",
     "text": [
      "       Current loss: 6.2688  :  45%|████████████████████████████████████▍                                            | 4501/10000 [10:28<45:47,  2.00it/s]"
     ]
    },
    {
     "name": "stdout",
     "output_type": "stream",
     "text": [
      "F1 Validation 0.8888888888888888\n"
     ]
    },
    {
     "name": "stderr",
     "output_type": "stream",
     "text": [
      "       Current loss: 5.7612  :  46%|█████████████████████████████████████▎                                           | 4601/10000 [10:41<45:10,  1.99it/s]"
     ]
    },
    {
     "name": "stdout",
     "output_type": "stream",
     "text": [
      "F1 Validation 0.8888888888888888\n"
     ]
    },
    {
     "name": "stderr",
     "output_type": "stream",
     "text": [
      "       Current loss: 5.4185  :  47%|██████████████████████████████████████                                           | 4701/10000 [10:55<44:18,  1.99it/s]"
     ]
    },
    {
     "name": "stdout",
     "output_type": "stream",
     "text": [
      "F1 Validation 0.918918918918919\n"
     ]
    },
    {
     "name": "stderr",
     "output_type": "stream",
     "text": [
      "       Current loss: 4.9782  :  48%|██████████████████████████████████████▉                                          | 4801/10000 [11:09<43:35,  1.99it/s]"
     ]
    },
    {
     "name": "stdout",
     "output_type": "stream",
     "text": [
      "F1 Validation 0.8888888888888888\n"
     ]
    },
    {
     "name": "stderr",
     "output_type": "stream",
     "text": [
      "       Current loss: 5.3264  :  49%|███████████████████████████████████████▋                                         | 4901/10000 [11:23<44:11,  1.92it/s]"
     ]
    },
    {
     "name": "stdout",
     "output_type": "stream",
     "text": [
      "F1 Validation 0.8888888888888888\n"
     ]
    },
    {
     "name": "stderr",
     "output_type": "stream",
     "text": [
      "       Current loss: 4.9857  :  50%|████████████████████████████████████████▌                                        | 5001/10000 [11:37<41:55,  1.99it/s]"
     ]
    },
    {
     "name": "stdout",
     "output_type": "stream",
     "text": [
      "F1 Validation 0.918918918918919\n"
     ]
    },
    {
     "name": "stderr",
     "output_type": "stream",
     "text": [
      "       Current loss: 5.9820  :  51%|█████████████████████████████████████████▎                                       | 5100/10000 [11:51<11:23,  7.17it/s]\n"
     ]
    },
    {
     "name": "stdout",
     "output_type": "stream",
     "text": [
      "F1 Validation 0.8888888888888888\n",
      "Early stopping at iteration 5101 because validation F1 did not improve.\n",
      "- OK - Train (711.43 s)\n",
      "\n",
      "- Saving models to ../output/cookies_1_steps_10000_small_weighted/all_models.pth\n",
      "- OK - Saving models (65.02 ms)\n",
      "\n",
      "- Saving map normalization to ../output/cookies_1_steps_10000_small_weighted/map_normalization.pth\n"
     ]
    },
    {
     "name": "stderr",
     "output_type": "stream",
     "text": [
      "     Map normalisation: 100%|█████████████████████████████████████████████████████████████████████████████████████████████| 28/28 [00:00<00:00, 28.63it/s]\n"
     ]
    },
    {
     "name": "stdout",
     "output_type": "stream",
     "text": [
      "- OK - Saving map normalization (1013.09 ms)\n",
      "\n",
      "- Evaluating model\n"
     ]
    },
    {
     "name": "stderr",
     "output_type": "stream",
     "text": [
      "     inference test: 100%|██████████████████████████████████████████████████████████████████████████████████████████████| 100/100 [00:04<00:00, 22.14it/s]\n"
     ]
    },
    {
     "data": {
      "image/png": "[encoded data removed]",
      "text/plain": [
       "<Figure size 800x600 with 1 Axes>"
      ]
     },
     "metadata": {},
     "output_type": "display_data"
    },
    {
     "name": "stdout",
     "output_type": "stream",
     "text": [
      "\n",
      "     - AUC: 96.81%\n",
      "    - Optimal Threshold: 0.0233271\n",
      "    - F1 Score: 0.90\n",
      "    - CONFUSION MATRIX:\n",
      " [[20  0]\n",
      " [14 66]] \n",
      "\n"
     ]
    },
    {
     "name": "stderr",
     "output_type": "stream",
     "text": [
      "    inference anomaly lvl 1 test: 100%|███████████████████████████████████████████████████████████████████████████████████| 40/40 [00:01<00:00, 22.32it/s]\n",
      "    inference anomaly lvl 2 test: 100%|███████████████████████████████████████████████████████████████████████████████████| 20/20 [00:00<00:00, 22.35it/s]\n",
      "    inference anomaly lvl 3 test: 100%|███████████████████████████████████████████████████████████████████████████████████| 20/20 [00:00<00:00, 22.50it/s]\n",
      "    inference all anomaly test: 100%|███████████████████████████████████████████████████████████████████████████████████| 100/100 [00:04<00:00, 22.39it/s]\n"
     ]
    },
    {
     "name": "stdout",
     "output_type": "stream",
     "text": [
      "\n"
     ]
    },
    {
     "name": "stderr",
     "output_type": "stream",
     "text": [
      "    inference no anomaly test: 100%|██████████████████████████████████████████████████████████████████████████████████████| 20/20 [00:00<00:00, 22.53it/s]\n"
     ]
    },
    {
     "name": "stdout",
     "output_type": "stream",
     "text": [
      "\n",
      "- OK - Evaluating model (13.67 s)\n",
      "\n",
      "Dataset               F1 Score\n",
      "------------------------------\n",
      "Anonaly lvl 1 test        1.00\n",
      "Anonaly lvl 2 test        1.00\n",
      "Anonaly lvl 3 test        0.46\n",
      "\n",
      "Anomaly all test          0.90\n",
      "\n",
      "No Anomaly Test           1.00\n",
      "\n",
      "All test                  0.90\n"
     ]
    }
   ],
   "source": [
    "# STEPS = 10000, MODEL TYPE = SMALL, WEIGHT = on Cookies 1\n",
    "model22 = EfficientAD({**config, \"train_steps\": 10000, \"model_type\": \"small\", \"weight_path\":\"../weights/teacher_small.pth\", \"subdataset\": \"cookies_1\"})\n",
    "model22.create_model()\n",
    "model22.display_eval_result()"
   ]
  },
  {
   "cell_type": "code",
   "execution_count": null,
   "metadata": {},
   "outputs": [],
   "source": []
  }
 ],
 "metadata": {
  "kernelspec": {
   "display_name": "Python 3 (ipykernel)",
   "language": "python",
   "name": "python3"
  },
  "language_info": {
   "codemirror_mode": {
    "name": "ipython",
    "version": 3
   },
   "file_extension": ".py",
   "mimetype": "text/x-python",
   "name": "python",
   "nbconvert_exporter": "python",
   "pygments_lexer": "ipython3",
   "version": "3.10.14"
  }
 },
 "nbformat": 4,
 "nbformat_minor": 4
}
